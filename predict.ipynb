{
 "cells": [
  {
   "cell_type": "code",
   "id": "initial_id",
   "metadata": {
    "collapsed": true,
    "ExecuteTime": {
     "end_time": "2024-05-10T21:36:04.410112Z",
     "start_time": "2024-05-10T21:36:03.938113Z"
    }
   },
   "source": [
    "import pandas as pd\n",
    "import preprocessing"
   ],
   "outputs": [],
   "execution_count": 1
  },
  {
   "metadata": {
    "ExecuteTime": {
     "end_time": "2024-05-10T21:36:29.427066Z",
     "start_time": "2024-05-10T21:36:04.750034Z"
    }
   },
   "cell_type": "code",
   "source": [
    "test_data = pd.read_csv('./data/test_set_VU_DM.csv')\n",
    "print(test_data.describe())\n",
    "nan_data_info = pd.DataFrame({'NaN Count': test_data.isna().sum(), 'Data Type': test_data.dtypes})\n",
    "print(nan_data_info)"
   ],
   "id": "8e154e256390b284",
   "outputs": [
    {
     "name": "stdout",
     "output_type": "stream",
     "text": [
      "            srch_id       site_id  visitor_location_country_id  \\\n",
      "count  4.959183e+06  4.959183e+06                 4.959183e+06   \n",
      "mean   1.666460e+05  9.979214e+00                 1.752504e+02   \n",
      "std    9.614992e+04  7.667722e+00                 6.590284e+01   \n",
      "min    1.000000e+00  1.000000e+00                 1.000000e+00   \n",
      "25%    8.331150e+04  5.000000e+00                 1.000000e+02   \n",
      "50%    1.670950e+05  5.000000e+00                 2.190000e+02   \n",
      "75%    2.499660e+05  1.400000e+01                 2.190000e+02   \n",
      "max    3.327870e+05  3.400000e+01                 2.310000e+02   \n",
      "\n",
      "       visitor_hist_starrating  visitor_hist_adr_usd  prop_country_id  \\\n",
      "count            253431.000000         254624.000000     4.959183e+06   \n",
      "mean                  3.374933            177.150730     1.738371e+02   \n",
      "std                   0.691920            109.592336     6.835006e+01   \n",
      "min                   1.000000              0.000000     1.000000e+00   \n",
      "25%                   2.930000            111.010000     1.000000e+02   \n",
      "50%                   3.430000            151.390000     2.190000e+02   \n",
      "75%                   3.950000            215.380000     2.190000e+02   \n",
      "max                   5.000000           2768.930000     2.300000e+02   \n",
      "\n",
      "            prop_id  prop_starrating  prop_review_score  prop_brand_bool  ...  \\\n",
      "count  4.959183e+06     4.959183e+06       4.951917e+06     4.959183e+06  ...   \n",
      "mean   7.008111e+04     3.182542e+00       3.777628e+00     6.339091e-01  ...   \n",
      "std    4.061363e+04     1.049358e+00       1.051283e+00     4.817348e-01  ...   \n",
      "min    1.000000e+00     0.000000e+00       0.000000e+00     0.000000e+00  ...   \n",
      "25%    3.502100e+04     3.000000e+00       3.500000e+00     0.000000e+00  ...   \n",
      "50%    6.960700e+04     3.000000e+00       4.000000e+00     1.000000e+00  ...   \n",
      "75%    1.051790e+05     4.000000e+00       4.500000e+00     1.000000e+00  ...   \n",
      "max    1.408210e+05     5.000000e+00       5.000000e+00     1.000000e+00  ...   \n",
      "\n",
      "       comp5_rate_percent_diff     comp6_rate      comp6_inv  \\\n",
      "count            839907.000000  242330.000000  263169.000000   \n",
      "mean                 26.910952       0.129617       0.075347   \n",
      "std                1019.245372       0.560591       0.301452   \n",
      "min                   2.000000      -1.000000      -1.000000   \n",
      "25%                   7.000000       0.000000       0.000000   \n",
      "50%                  12.000000       0.000000       0.000000   \n",
      "75%                  21.000000       0.000000       0.000000   \n",
      "max              269379.000000       1.000000       1.000000   \n",
      "\n",
      "       comp6_rate_percent_diff     comp7_rate      comp7_inv  \\\n",
      "count             9.713800e+04  315729.000000  356753.000000   \n",
      "mean              2.872014e+01       0.148152       0.081317   \n",
      "std               3.611865e+03       0.579293       0.315606   \n",
      "min               2.000000e+00      -1.000000      -1.000000   \n",
      "25%               6.000000e+00       0.000000       0.000000   \n",
      "50%               1.100000e+01       0.000000       0.000000   \n",
      "75%               1.900000e+01       1.000000       0.000000   \n",
      "max               1.125686e+06       1.000000       1.000000   \n",
      "\n",
      "       comp7_rate_percent_diff    comp8_rate     comp8_inv  \\\n",
      "count            139323.000000  1.902389e+06  1.972885e+06   \n",
      "mean                 20.846400 -6.054913e-02  9.815575e-03   \n",
      "std                 184.562247  4.693195e-01  2.034170e-01   \n",
      "min                   2.000000 -1.000000e+00 -1.000000e+00   \n",
      "25%                   7.000000  0.000000e+00  0.000000e+00   \n",
      "50%                  12.000000  0.000000e+00  0.000000e+00   \n",
      "75%                  20.000000  0.000000e+00  0.000000e+00   \n",
      "max               30216.000000  1.000000e+00  1.000000e+00   \n",
      "\n",
      "       comp8_rate_percent_diff  \n",
      "count            610977.000000  \n",
      "mean                 23.994402  \n",
      "std                 994.201341  \n",
      "min                   2.000000  \n",
      "25%                   7.000000  \n",
      "50%                  11.000000  \n",
      "75%                  17.000000  \n",
      "max              144900.000000  \n",
      "\n",
      "[8 rows x 49 columns]\n",
      "                             NaN Count Data Type\n",
      "srch_id                              0     int64\n",
      "date_time                            0    object\n",
      "site_id                              0     int64\n",
      "visitor_location_country_id          0     int64\n",
      "visitor_hist_starrating        4705752   float64\n",
      "visitor_hist_adr_usd           4704559   float64\n",
      "prop_country_id                      0     int64\n",
      "prop_id                              0     int64\n",
      "prop_starrating                      0     int64\n",
      "prop_review_score                 7266   float64\n",
      "prop_brand_bool                      0     int64\n",
      "prop_location_score1                 0   float64\n",
      "prop_location_score2           1088032   float64\n",
      "prop_log_historical_price            0   float64\n",
      "price_usd                            0   float64\n",
      "promotion_flag                       0     int64\n",
      "srch_destination_id                  0     int64\n",
      "srch_length_of_stay                  0     int64\n",
      "srch_booking_window                  0     int64\n",
      "srch_adults_count                    0     int64\n",
      "srch_children_count                  0     int64\n",
      "srch_room_count                      0     int64\n",
      "srch_saturday_night_bool             0     int64\n",
      "srch_query_affinity_score      4641025   float64\n",
      "orig_destination_distance      1608679   float64\n",
      "random_bool                          0     int64\n",
      "comp1_rate                     4843307   float64\n",
      "comp1_inv                      4834309   float64\n",
      "comp1_rate_percent_diff        4868715   float64\n",
      "comp2_rate                     2943222   float64\n",
      "comp2_inv                      2837914   float64\n",
      "comp2_rate_percent_diff        4405574   float64\n",
      "comp3_rate                     3434198   float64\n",
      "comp3_inv                      3317952   float64\n",
      "comp3_rate_percent_diff        4487973   float64\n",
      "comp4_rate                     4646462   float64\n",
      "comp4_inv                      4610375   float64\n",
      "comp4_rate_percent_diff        4826056   float64\n",
      "comp5_rate                     2737262   float64\n",
      "comp5_inv                      2598370   float64\n",
      "comp5_rate_percent_diff        4119276   float64\n",
      "comp6_rate                     4716853   float64\n",
      "comp6_inv                      4696014   float64\n",
      "comp6_rate_percent_diff        4862045   float64\n",
      "comp7_rate                     4643454   float64\n",
      "comp7_inv                      4602430   float64\n",
      "comp7_rate_percent_diff        4819860   float64\n",
      "comp8_rate                     3056794   float64\n",
      "comp8_inv                      2986298   float64\n",
      "comp8_rate_percent_diff        4348206   float64\n"
     ]
    }
   ],
   "execution_count": 2
  },
  {
   "metadata": {
    "ExecuteTime": {
     "end_time": "2024-05-10T21:36:39.667479Z",
     "start_time": "2024-05-10T21:36:29.430078Z"
    }
   },
   "cell_type": "code",
   "source": [
    "print(test_data.prop_review_score.isnull().sum())\n",
    "preprocessing.fill_by_regressor(test_data, regressor='ridge', feature_columns=['prop_starrating', 'prop_brand_bool', 'prop_location_score1', 'prop_log_historical_price'], target_column='prop_review_score')\n",
    "print(test_data.prop_review_score.isnull().sum())\n",
    "\n",
    "print(test_data.prop_location_score2.isnull().sum())\n",
    "preprocessing.fill_by_regressor(test_data, regressor='ridge', feature_columns=['prop_starrating', 'prop_brand_bool', 'prop_location_score1', 'prop_log_historical_price'], target_column='prop_location_score2')\n",
    "print(test_data.prop_location_score2.isnull().sum())\n",
    "\n",
    "preprocessing.preprocess_null_fill(test_data, columns=['srch_query_affinity_score'], fill_value=-650)\n",
    "preprocessing.parse_date(test_data)\n",
    "\n",
    "drop_columns = ['date_time', 'orig_destination_distance']\n",
    "data_filled = test_data.drop(columns=drop_columns)\n",
    "\n",
    "preprocessing.merge_comp(data_filled)\n",
    "preprocessing.preprocess_null_fill_mean(data_filled)"
   ],
   "id": "576650319769e2d1",
   "outputs": [
    {
     "name": "stdout",
     "output_type": "stream",
     "text": [
      "7266\n",
      "Score: [-0.62699879 -0.62735628 -0.6252084 ]\n",
      "Mean score -0.6265211561322955\n",
      "0\n",
      "1088032\n",
      "Score: [-0.10109755 -0.10110291 -0.10086015]\n",
      "Mean score -0.10102020371723874\n",
      "0\n"
     ]
    }
   ],
   "execution_count": 3
  },
  {
   "metadata": {
    "ExecuteTime": {
     "end_time": "2024-05-10T21:36:39.840423Z",
     "start_time": "2024-05-10T21:36:39.667479Z"
    }
   },
   "cell_type": "code",
   "source": [
    "nan_data_info = pd.DataFrame({'NaN Count': data_filled.isna().sum(), 'Data Type': data_filled.dtypes})\n",
    "print(nan_data_info)"
   ],
   "id": "db3d538753c7c84a",
   "outputs": [
    {
     "name": "stdout",
     "output_type": "stream",
     "text": [
      "                             NaN Count Data Type\n",
      "srch_id                              0   float64\n",
      "site_id                              0   float64\n",
      "visitor_location_country_id          0   float64\n",
      "visitor_hist_starrating              0   float64\n",
      "visitor_hist_adr_usd                 0   float64\n",
      "prop_country_id                      0   float64\n",
      "prop_id                              0   float64\n",
      "prop_starrating                      0   float64\n",
      "prop_review_score                    0   float64\n",
      "prop_brand_bool                      0   float64\n",
      "prop_location_score1                 0   float64\n",
      "prop_location_score2                 0   float64\n",
      "prop_log_historical_price            0   float64\n",
      "price_usd                            0   float64\n",
      "promotion_flag                       0   float64\n",
      "srch_destination_id                  0   float64\n",
      "srch_length_of_stay                  0   float64\n",
      "srch_booking_window                  0   float64\n",
      "srch_adults_count                    0   float64\n",
      "srch_children_count                  0   float64\n",
      "srch_room_count                      0   float64\n",
      "srch_saturday_night_bool             0   float64\n",
      "srch_query_affinity_score            0   float64\n",
      "random_bool                          0   float64\n",
      "year                                 0   float64\n",
      "month                                0   float64\n",
      "comp_avg_rate                        0   float64\n",
      "comp_avg_inv                         0   float64\n",
      "comp_avg_rate_percent_diff           0   float64\n"
     ]
    }
   ],
   "execution_count": 4
  },
  {
   "metadata": {
    "ExecuteTime": {
     "end_time": "2024-05-10T21:37:30.476055Z",
     "start_time": "2024-05-10T21:36:39.840423Z"
    }
   },
   "cell_type": "code",
   "source": "data_filled.to_csv('./data/filled_test_set.csv', index=False)",
   "id": "ec4636db8391ce4a",
   "outputs": [],
   "execution_count": 5
  },
  {
   "metadata": {
    "ExecuteTime": {
     "end_time": "2024-05-10T21:38:02.565761Z",
     "start_time": "2024-05-10T21:38:02.510524Z"
    }
   },
   "cell_type": "code",
   "source": [
    "# test_data = pd.read_csv('./data/filled_test_set.csv')\n",
    "remain_features = ['prop_starrating', 'prop_review_score', 'prop_location_score2', 'promotion_flag']+['srch_id', 'prop_id']\n",
    "data_filled = test_data[remain_features]"
   ],
   "id": "3f2b667139c34970",
   "outputs": [],
   "execution_count": 7
  },
  {
   "metadata": {
    "ExecuteTime": {
     "end_time": "2024-05-10T20:08:30.749649Z",
     "start_time": "2024-05-10T20:08:30.712723Z"
    }
   },
   "cell_type": "code",
   "source": "print(len(test_data))",
   "id": "2ad9a696da14a919",
   "outputs": [
    {
     "name": "stdout",
     "output_type": "stream",
     "text": [
      "4959183\n"
     ]
    }
   ],
   "execution_count": 7
  },
  {
   "metadata": {
    "ExecuteTime": {
     "end_time": "2024-05-10T21:38:06.081828Z",
     "start_time": "2024-05-10T21:38:05.965696Z"
    }
   },
   "cell_type": "code",
   "source": [
    "import joblib\n",
    "\n",
    "model = joblib.load('models/Ridge_2024-05-10.pkl')\n",
    "\n",
    "prediction = model.predict(data_filled)\n",
    "print(prediction)"
   ],
   "id": "4d3da5b2a2c1fc20",
   "outputs": [
    {
     "name": "stdout",
     "output_type": "stream",
     "text": [
      "[13.80825143 14.43067975 11.11895621 ...  6.3710937   7.43296163\n",
      " 12.81234638]\n"
     ]
    }
   ],
   "execution_count": 8
  },
  {
   "metadata": {
    "ExecuteTime": {
     "end_time": "2024-05-10T21:38:10.267494Z",
     "start_time": "2024-05-10T21:38:10.088542Z"
    }
   },
   "cell_type": "code",
   "source": [
    "from matplotlib import pyplot as plt\n",
    "\n",
    "plt.hist(prediction, bins=5, edgecolor='black')  # 设置直方柱的数量为5，边缘颜色为黑色\n",
    "plt.xlabel('Value')  # 设置x轴标签\n",
    "plt.ylabel('Frequency')  # 设置y轴标签\n",
    "plt.title('Histogram')  # 设置标题\n",
    "plt.grid(True)  # 添加网格线\n",
    "plt.show()"
   ],
   "id": "6e655a6e3a265984",
   "outputs": [
    {
     "data": {
      "text/plain": [
       "<Figure size 640x480 with 1 Axes>"
      ],
      "image/png": "[encoded data removed]"
     },
     "metadata": {},
     "output_type": "display_data"
    }
   ],
   "execution_count": 9
  },
  {
   "metadata": {
    "ExecuteTime": {
     "end_time": "2024-05-10T21:38:23.065666Z",
     "start_time": "2024-05-10T21:38:16.455628Z"
    }
   },
   "cell_type": "code",
   "source": [
    "# label = test_data.score\n",
    "\n",
    "result = test_data[['srch_id', 'prop_id']]\n",
    "result['score'] = prediction\n",
    "# result['label'] = label\n",
    "result['rank'] = result.groupby('srch_id')['score'].rank(ascending=False) \n",
    "print(result)\n",
    "\n",
    "sorted_df = result.sort_values(by=['srch_id', 'score'], ascending=[True, False])\n",
    "\n",
    "# 输出sid和pid\n",
    "output = sorted_df[['srch_id', 'prop_id']]\n",
    "output = output.astype(int)\n",
    "print(output)\n",
    "output.to_csv('./data/output.csv', index=False)"
   ],
   "id": "992cfae8af7dfdd6",
   "outputs": [
    {
     "name": "stderr",
     "output_type": "stream",
     "text": [
      "C:\\Users\\china\\AppData\\Local\\Temp\\ipykernel_10140\\118898769.py:4: SettingWithCopyWarning: \n",
      "A value is trying to be set on a copy of a slice from a DataFrame.\n",
      "Try using .loc[row_indexer,col_indexer] = value instead\n",
      "\n",
      "See the caveats in the documentation: https://pandas.pydata.org/pandas-docs/stable/user_guide/indexing.html#returning-a-view-versus-a-copy\n",
      "  result['score'] = prediction\n",
      "C:\\Users\\china\\AppData\\Local\\Temp\\ipykernel_10140\\118898769.py:6: SettingWithCopyWarning: \n",
      "A value is trying to be set on a copy of a slice from a DataFrame.\n",
      "Try using .loc[row_indexer,col_indexer] = value instead\n",
      "\n",
      "See the caveats in the documentation: https://pandas.pydata.org/pandas-docs/stable/user_guide/indexing.html#returning-a-view-versus-a-copy\n",
      "  result['rank'] = result.groupby('srch_id')['score'].rank(ascending=False)\n"
     ]
    },
    {
     "name": "stdout",
     "output_type": "stream",
     "text": [
      "         srch_id  prop_id      score  rank\n",
      "0              1     3180  13.808251  20.0\n",
      "1              1     5543  14.430680  19.0\n",
      "2              1    14142  11.118956  26.0\n",
      "3              1    22393  13.254498  22.0\n",
      "4              1    24194  19.537790   8.0\n",
      "...          ...      ...        ...   ...\n",
      "4959178   332787    32019  12.001281   5.0\n",
      "4959179   332787    33959  22.615221   1.0\n",
      "4959180   332787    35240   6.371094   7.0\n",
      "4959181   332787    94437   7.432962   6.0\n",
      "4959182   332787    99509  12.812346   4.0\n",
      "\n",
      "[4959183 rows x 4 columns]\n",
      "         srch_id  prop_id\n",
      "12             1    61934\n",
      "23             1    99484\n",
      "9              1    54937\n",
      "21             1    94729\n",
      "24             1   123675\n",
      "...          ...      ...\n",
      "4959177   332787    29018\n",
      "4959182   332787    99509\n",
      "4959178   332787    32019\n",
      "4959181   332787    94437\n",
      "4959180   332787    35240\n",
      "\n",
      "[4959183 rows x 2 columns]\n"
     ]
    }
   ],
   "execution_count": 10
  },
  {
   "metadata": {},
   "cell_type": "code",
   "outputs": [],
   "execution_count": null,
   "source": "",
   "id": "cba5281de9c1a4ea"
  }
 ],
 "metadata": {
  "kernelspec": {
   "display_name": "Python 3",
   "language": "python",
   "name": "python3"
  },
  "language_info": {
   "codemirror_mode": {
    "name": "ipython",
    "version": 2
   },
   "file_extension": ".py",
   "mimetype": "text/x-python",
   "name": "python",
   "nbconvert_exporter": "python",
   "pygments_lexer": "ipython2",
   "version": "2.7.6"
  }
 },
 "nbformat": 4,
 "nbformat_minor": 5
}
