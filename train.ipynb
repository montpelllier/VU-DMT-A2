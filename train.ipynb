{
 "cells": [
  {
   "cell_type": "code",
   "id": "initial_id",
   "metadata": {
    "collapsed": true,
    "ExecuteTime": {
     "end_time": "2024-04-29T21:27:06.892024Z",
     "start_time": "2024-04-29T21:27:06.876401Z"
    }
   },
   "source": [
    "import time\n",
    "\n",
    "import pandas as pd\n",
    "from sklearn.ensemble import *\n",
    "from sklearn.linear_model import *\n",
    "from sklearn.svm import SVR\n",
    "from sklearn.model_selection import train_test_split\n",
    "import numpy as np\n",
    "from sklearn.model_selection import KFold, cross_val_score\n",
    "from sklearn.neighbors import KNeighborsRegressor\n",
    "from sklearn.metrics import *"
   ],
   "outputs": [],
   "execution_count": 6
  },
  {
   "metadata": {
    "ExecuteTime": {
     "end_time": "2024-04-29T21:26:09.842704Z",
     "start_time": "2024-04-29T21:26:03.662616Z"
    }
   },
   "cell_type": "code",
   "source": [
    "print('Reading data...')\n",
    "start_time = time.time()\n",
    "data = pd.read_csv('./data/filled_training_set.csv')\n",
    "print(f'Data read in {time.time() - start_time} s')"
   ],
   "id": "ed873ef2ecd66df2",
   "outputs": [
    {
     "name": "stdout",
     "output_type": "stream",
     "text": [
      "Reading data...\n",
      "Data read in 6.148718595504761 s\n"
     ]
    }
   ],
   "execution_count": 2
  },
  {
   "metadata": {
    "ExecuteTime": {
     "end_time": "2024-04-29T21:11:20.570845Z",
     "start_time": "2024-04-29T21:11:16.989652Z"
    }
   },
   "cell_type": "code",
   "source": "print(data.describe())",
   "id": "7080d915a21bae5",
   "outputs": [
    {
     "name": "stdout",
     "output_type": "stream",
     "text": [
      "            srch_id       site_id  visitor_location_country_id  \\\n",
      "count  4.958347e+06  4.958347e+06                 4.958347e+06   \n",
      "mean   1.663666e+05  9.953133e+00                 1.753405e+02   \n",
      "std    9.611223e+04  7.646890e+00                 6.591625e+01   \n",
      "min    1.000000e+00  1.000000e+00                 1.000000e+00   \n",
      "25%    8.293600e+04  5.000000e+00                 1.000000e+02   \n",
      "50%    1.665070e+05  5.000000e+00                 2.190000e+02   \n",
      "75%    2.497240e+05  1.400000e+01                 2.190000e+02   \n",
      "max    3.327850e+05  3.400000e+01                 2.310000e+02   \n",
      "\n",
      "       visitor_hist_starrating  visitor_hist_adr_usd  prop_country_id  \\\n",
      "count             4.958347e+06          4.958347e+06     4.958347e+06   \n",
      "mean             -9.320632e+00         -5.086311e-01     1.739739e+02   \n",
      "std               2.940903e+00          4.756535e+01     6.834525e+01   \n",
      "min              -1.000000e+01         -1.000000e+01     1.000000e+00   \n",
      "25%              -1.000000e+01         -1.000000e+01     1.000000e+02   \n",
      "50%              -1.000000e+01         -1.000000e+01     2.190000e+02   \n",
      "75%              -1.000000e+01         -1.000000e+01     2.190000e+02   \n",
      "max               5.000000e+00          1.958700e+03     2.300000e+02   \n",
      "\n",
      "            prop_id  prop_starrating  prop_review_score  prop_brand_bool  ...  \\\n",
      "count  4.958347e+06     4.958347e+06       4.958347e+06     4.958347e+06  ...   \n",
      "mean   7.007918e+04     3.180525e+00       3.757314e+00     6.346994e-01  ...   \n",
      "std    4.060992e+04     1.051024e+00       1.176035e+00     4.815144e-01  ...   \n",
      "min    1.000000e+00     0.000000e+00      -1.000000e+01     0.000000e+00  ...   \n",
      "25%    3.501000e+04     3.000000e+00       3.500000e+00     0.000000e+00  ...   \n",
      "50%    6.963800e+04     3.000000e+00       4.000000e+00     1.000000e+00  ...   \n",
      "75%    1.051680e+05     4.000000e+00       4.500000e+00     1.000000e+00  ...   \n",
      "max    1.408210e+05     5.000000e+00       5.000000e+00     1.000000e+00  ...   \n",
      "\n",
      "       srch_children_count  srch_room_count  srch_saturday_night_bool  \\\n",
      "count         4.958347e+06     4.958347e+06              4.958347e+06   \n",
      "mean          3.504918e-01     1.110525e+00              5.022127e-01   \n",
      "std           7.325692e-01     4.172290e-01              4.999952e-01   \n",
      "min           0.000000e+00     1.000000e+00              0.000000e+00   \n",
      "25%           0.000000e+00     1.000000e+00              0.000000e+00   \n",
      "50%           0.000000e+00     1.000000e+00              1.000000e+00   \n",
      "75%           0.000000e+00     1.000000e+00              1.000000e+00   \n",
      "max           9.000000e+00     8.000000e+00              1.000000e+00   \n",
      "\n",
      "       srch_query_affinity_score  orig_destination_distance   random_bool  \\\n",
      "count               4.958347e+06               4.958347e+06  4.958347e+06   \n",
      "mean               -1.090558e+01               8.760566e+02  2.959004e-01   \n",
      "std                 5.277926e+00               1.773366e+03  4.564465e-01   \n",
      "min                -3.265675e+02              -1.000000e+01  0.000000e+00   \n",
      "25%                -1.000000e+01              -1.000000e+01  0.000000e+00   \n",
      "50%                -1.000000e+01               1.466200e+02  0.000000e+00   \n",
      "75%                -1.000000e+01               8.004300e+02  1.000000e+00   \n",
      "max                -2.494100e+00               1.166664e+04  1.000000e+00   \n",
      "\n",
      "              score  comp_avg_rate  comp_avg_inv  comp_avg_rate_percent_diff  \n",
      "count  4.958347e+06   4.958347e+06  4.958347e+06                4.958347e+06  \n",
      "mean   1.843011e-01  -3.449638e+00 -3.210000e+00                6.024434e+00  \n",
      "std    9.938057e-01   4.779866e+00  4.703190e+00                8.644002e+02  \n",
      "min    0.000000e+00  -1.000000e+01 -1.000000e+01               -1.000000e+01  \n",
      "25%    0.000000e+00  -1.000000e+01 -1.000000e+01               -1.000000e+01  \n",
      "50%    0.000000e+00   0.000000e+00  0.000000e+00               -1.000000e+01  \n",
      "75%    0.000000e+00   0.000000e+00  0.000000e+00                7.000000e+00  \n",
      "max    6.000000e+00   1.000000e+00  1.000000e+00                1.001584e+06  \n",
      "\n",
      "[8 rows x 29 columns]\n"
     ]
    }
   ],
   "execution_count": 71
  },
  {
   "metadata": {
    "ExecuteTime": {
     "end_time": "2024-04-29T21:26:10.424957Z",
     "start_time": "2024-04-29T21:26:10.076962Z"
    }
   },
   "cell_type": "code",
   "source": [
    "target_name = 'score'\n",
    "\n",
    "X = data.drop(columns=[target_name])\n",
    "y = data[target_name]\n",
    "y = y*4\n",
    "y = y**2\n",
    "print(y.describe())"
   ],
   "id": "139cac3ae4d412aa",
   "outputs": [
    {
     "name": "stdout",
     "output_type": "stream",
     "text": [
      "count    4.958347e+06\n",
      "mean     1.634586e+01\n",
      "std      9.485338e+01\n",
      "min      0.000000e+00\n",
      "25%      0.000000e+00\n",
      "50%      0.000000e+00\n",
      "75%      0.000000e+00\n",
      "max      5.760000e+02\n",
      "Name: score, dtype: float64\n"
     ]
    }
   ],
   "execution_count": 3
  },
  {
   "metadata": {
    "ExecuteTime": {
     "end_time": "2024-04-29T21:26:35.903505Z",
     "start_time": "2024-04-29T21:26:21.571212Z"
    }
   },
   "cell_type": "code",
   "source": [
    "model = LinearRegression()\n",
    "\n",
    "# 创建K折交叉验证生成器\n",
    "k_fold = KFold(n_splits=5, shuffle=True, random_state=42)\n",
    "# 使用交叉验证进行训练和评估\n",
    "start_time = time.time()\n",
    "scores = cross_val_score(model, X, y, cv=k_fold, scoring='neg_mean_absolute_error')\n",
    "print('time cost: {0:.3f}'.format(time.time() - start_time))\n",
    "print('score:', scores)\n",
    "print('mean score', np.mean(scores))"
   ],
   "id": "327f3b2acec1abcd",
   "outputs": [
    {
     "name": "stdout",
     "output_type": "stream",
     "text": [
      "time cost: 14.301\n",
      "score: [-31.53678081 -31.50293592 -31.47511581 -31.47929183 -31.45897623]\n",
      "mean score -31.490620118883875\n"
     ]
    }
   ],
   "execution_count": 4
  },
  {
   "metadata": {
    "ExecuteTime": {
     "start_time": "2024-04-29T19:07:48.376775Z"
    }
   },
   "cell_type": "code",
   "source": [
    "model = RandomForestRegressor()\n",
    "start_time = time.time()\n",
    "scores = cross_val_score(model, X, y, cv=k_fold, scoring='neg_mean_absolute_error')\n",
    "print('time cost: {0:.3f}'.format(time.time() - start_time))\n",
    "\n",
    "print('score:', scores)\n",
    "print('mean score', np.mean(scores))"
   ],
   "id": "ea6bce63942e60d4",
   "outputs": [],
   "execution_count": null
  },
  {
   "metadata": {},
   "cell_type": "code",
   "outputs": [],
   "execution_count": null,
   "source": [
    "model = KNeighborsRegressor()\n",
    "start_time = time.time()\n",
    "scores = cross_val_score(model, X, y, cv=k_fold, scoring='neg_mean_absolute_error')\n",
    "print('time cost: {0:.3f}'.format(time.time() - start_time))\n",
    "\n",
    "print('score:', scores)\n",
    "print('mean score', np.mean(scores))"
   ],
   "id": "dcf8c0480d5293f5"
  },
  {
   "metadata": {},
   "cell_type": "code",
   "outputs": [],
   "execution_count": null,
   "source": [
    "model = SVR()\n",
    "start_time = time.time()\n",
    "scores = cross_val_score(model, X, y, cv=k_fold, scoring='neg_mean_absolute_error')\n",
    "print('time cost: {0:.3f}'.format(time.time() - start_time))\n",
    "\n",
    "print('score:', scores)\n",
    "print('mean score', np.mean(scores))"
   ],
   "id": "20cce1e24bb3e16f"
  },
  {
   "metadata": {
    "ExecuteTime": {
     "end_time": "2024-04-29T20:57:59.733097Z",
     "start_time": "2024-04-29T20:57:47.300931Z"
    }
   },
   "cell_type": "code",
   "source": [
    "model = Lasso()\n",
    "start_time = time.time()\n",
    "scores = cross_val_score(model, X, y, cv=k_fold, scoring='neg_mean_absolute_error')\n",
    "print('time cost: {0:.3f}'.format(time.time() - start_time))\n",
    "\n",
    "print('score:', scores)\n",
    "print('mean score', np.mean(scores))"
   ],
   "id": "60e7370a134b9cac",
   "outputs": [
    {
     "name": "stdout",
     "output_type": "stream",
     "text": [
      "time cost: 12.403\n",
      "score: [-31.38793638 -31.35610353 -31.3384287  -31.34841488 -31.31735977]\n",
      "mean score -31.349648652280564\n"
     ]
    }
   ],
   "execution_count": 61
  },
  {
   "metadata": {
    "ExecuteTime": {
     "end_time": "2024-04-29T20:13:10.200720Z",
     "start_time": "2024-04-29T20:13:03.983381Z"
    }
   },
   "cell_type": "code",
   "source": [
    "model = Ridge()\n",
    "start_time = time.time()\n",
    "scores = cross_val_score(model, X, y, cv=k_fold, scoring='neg_mean_absolute_error')\n",
    "print('time cost: {0:.3f}'.format(time.time() - start_time))\n",
    "\n",
    "print('score:', scores)\n",
    "print('mean score', np.mean(scores))"
   ],
   "id": "15e034dcceab9da8",
   "outputs": [
    {
     "name": "stdout",
     "output_type": "stream",
     "text": [
      "time cost: 6.202\n",
      "score: [-0.3548424  -0.35448678 -0.35424076 -0.35452523 -0.35406613]\n",
      "mean score -0.3544322614351346\n"
     ]
    }
   ],
   "execution_count": 32
  },
  {
   "metadata": {
    "ExecuteTime": {
     "end_time": "2024-04-29T19:29:23.320091Z",
     "start_time": "2024-04-29T19:20:14.669132Z"
    }
   },
   "cell_type": "code",
   "source": [
    "model = GradientBoostingRegressor()\n",
    "start_time = time.time()\n",
    "scores = cross_val_score(model, X, y, cv=k_fold, scoring='neg_mean_absolute_error')\n",
    "print('time cost: {0:.3f}'.format(time.time() - start_time))\n",
    "\n",
    "print('score:', scores)\n",
    "print('mean score', np.mean(scores))"
   ],
   "id": "d66fccd76fb85862",
   "outputs": [
    {
     "ename": "KeyboardInterrupt",
     "evalue": "",
     "output_type": "error",
     "traceback": [
      "\u001B[1;31m---------------------------------------------------------------------------\u001B[0m",
      "\u001B[1;31mKeyboardInterrupt\u001B[0m                         Traceback (most recent call last)",
      "Cell \u001B[1;32mIn[6], line 3\u001B[0m\n\u001B[0;32m      1\u001B[0m model \u001B[38;5;241m=\u001B[39m GradientBoostingRegressor()\n\u001B[0;32m      2\u001B[0m start_time \u001B[38;5;241m=\u001B[39m time\u001B[38;5;241m.\u001B[39mtime()\n\u001B[1;32m----> 3\u001B[0m scores \u001B[38;5;241m=\u001B[39m \u001B[43mcross_val_score\u001B[49m\u001B[43m(\u001B[49m\u001B[43mmodel\u001B[49m\u001B[43m,\u001B[49m\u001B[43m \u001B[49m\u001B[43mX\u001B[49m\u001B[43m,\u001B[49m\u001B[43m \u001B[49m\u001B[43my\u001B[49m\u001B[43m,\u001B[49m\u001B[43m \u001B[49m\u001B[43mcv\u001B[49m\u001B[38;5;241;43m=\u001B[39;49m\u001B[43mk_fold\u001B[49m\u001B[43m,\u001B[49m\u001B[43m \u001B[49m\u001B[43mscoring\u001B[49m\u001B[38;5;241;43m=\u001B[39;49m\u001B[38;5;124;43m'\u001B[39;49m\u001B[38;5;124;43mneg_mean_absolute_error\u001B[39;49m\u001B[38;5;124;43m'\u001B[39;49m\u001B[43m)\u001B[49m\n\u001B[0;32m      4\u001B[0m \u001B[38;5;28mprint\u001B[39m(\u001B[38;5;124m'\u001B[39m\u001B[38;5;124mtime cost: \u001B[39m\u001B[38;5;132;01m{0:.3f}\u001B[39;00m\u001B[38;5;124m'\u001B[39m\u001B[38;5;241m.\u001B[39mformat(time\u001B[38;5;241m.\u001B[39mtime() \u001B[38;5;241m-\u001B[39m start_time))\n\u001B[0;32m      6\u001B[0m \u001B[38;5;28mprint\u001B[39m(\u001B[38;5;124m'\u001B[39m\u001B[38;5;124mscore:\u001B[39m\u001B[38;5;124m'\u001B[39m, scores)\n",
      "File \u001B[1;32mC:\\ProgramData\\anaconda3\\envs\\dp\\lib\\site-packages\\sklearn\\utils\\_param_validation.py:213\u001B[0m, in \u001B[0;36mvalidate_params.<locals>.decorator.<locals>.wrapper\u001B[1;34m(*args, **kwargs)\u001B[0m\n\u001B[0;32m    207\u001B[0m \u001B[38;5;28;01mtry\u001B[39;00m:\n\u001B[0;32m    208\u001B[0m     \u001B[38;5;28;01mwith\u001B[39;00m config_context(\n\u001B[0;32m    209\u001B[0m         skip_parameter_validation\u001B[38;5;241m=\u001B[39m(\n\u001B[0;32m    210\u001B[0m             prefer_skip_nested_validation \u001B[38;5;129;01mor\u001B[39;00m global_skip_validation\n\u001B[0;32m    211\u001B[0m         )\n\u001B[0;32m    212\u001B[0m     ):\n\u001B[1;32m--> 213\u001B[0m         \u001B[38;5;28;01mreturn\u001B[39;00m func(\u001B[38;5;241m*\u001B[39margs, \u001B[38;5;241m*\u001B[39m\u001B[38;5;241m*\u001B[39mkwargs)\n\u001B[0;32m    214\u001B[0m \u001B[38;5;28;01mexcept\u001B[39;00m InvalidParameterError \u001B[38;5;28;01mas\u001B[39;00m e:\n\u001B[0;32m    215\u001B[0m     \u001B[38;5;66;03m# When the function is just a wrapper around an estimator, we allow\u001B[39;00m\n\u001B[0;32m    216\u001B[0m     \u001B[38;5;66;03m# the function to delegate validation to the estimator, but we replace\u001B[39;00m\n\u001B[0;32m    217\u001B[0m     \u001B[38;5;66;03m# the name of the estimator by the name of the function in the error\u001B[39;00m\n\u001B[0;32m    218\u001B[0m     \u001B[38;5;66;03m# message to avoid confusion.\u001B[39;00m\n\u001B[0;32m    219\u001B[0m     msg \u001B[38;5;241m=\u001B[39m re\u001B[38;5;241m.\u001B[39msub(\n\u001B[0;32m    220\u001B[0m         \u001B[38;5;124mr\u001B[39m\u001B[38;5;124m\"\u001B[39m\u001B[38;5;124mparameter of \u001B[39m\u001B[38;5;124m\\\u001B[39m\u001B[38;5;124mw+ must be\u001B[39m\u001B[38;5;124m\"\u001B[39m,\n\u001B[0;32m    221\u001B[0m         \u001B[38;5;124mf\u001B[39m\u001B[38;5;124m\"\u001B[39m\u001B[38;5;124mparameter of \u001B[39m\u001B[38;5;132;01m{\u001B[39;00mfunc\u001B[38;5;241m.\u001B[39m\u001B[38;5;18m__qualname__\u001B[39m\u001B[38;5;132;01m}\u001B[39;00m\u001B[38;5;124m must be\u001B[39m\u001B[38;5;124m\"\u001B[39m,\n\u001B[0;32m    222\u001B[0m         \u001B[38;5;28mstr\u001B[39m(e),\n\u001B[0;32m    223\u001B[0m     )\n",
      "File \u001B[1;32mC:\\ProgramData\\anaconda3\\envs\\dp\\lib\\site-packages\\sklearn\\model_selection\\_validation.py:719\u001B[0m, in \u001B[0;36mcross_val_score\u001B[1;34m(estimator, X, y, groups, scoring, cv, n_jobs, verbose, fit_params, params, pre_dispatch, error_score)\u001B[0m\n\u001B[0;32m    716\u001B[0m \u001B[38;5;66;03m# To ensure multimetric format is not supported\u001B[39;00m\n\u001B[0;32m    717\u001B[0m scorer \u001B[38;5;241m=\u001B[39m check_scoring(estimator, scoring\u001B[38;5;241m=\u001B[39mscoring)\n\u001B[1;32m--> 719\u001B[0m cv_results \u001B[38;5;241m=\u001B[39m \u001B[43mcross_validate\u001B[49m\u001B[43m(\u001B[49m\n\u001B[0;32m    720\u001B[0m \u001B[43m    \u001B[49m\u001B[43mestimator\u001B[49m\u001B[38;5;241;43m=\u001B[39;49m\u001B[43mestimator\u001B[49m\u001B[43m,\u001B[49m\n\u001B[0;32m    721\u001B[0m \u001B[43m    \u001B[49m\u001B[43mX\u001B[49m\u001B[38;5;241;43m=\u001B[39;49m\u001B[43mX\u001B[49m\u001B[43m,\u001B[49m\n\u001B[0;32m    722\u001B[0m \u001B[43m    \u001B[49m\u001B[43my\u001B[49m\u001B[38;5;241;43m=\u001B[39;49m\u001B[43my\u001B[49m\u001B[43m,\u001B[49m\n\u001B[0;32m    723\u001B[0m \u001B[43m    \u001B[49m\u001B[43mgroups\u001B[49m\u001B[38;5;241;43m=\u001B[39;49m\u001B[43mgroups\u001B[49m\u001B[43m,\u001B[49m\n\u001B[0;32m    724\u001B[0m \u001B[43m    \u001B[49m\u001B[43mscoring\u001B[49m\u001B[38;5;241;43m=\u001B[39;49m\u001B[43m{\u001B[49m\u001B[38;5;124;43m\"\u001B[39;49m\u001B[38;5;124;43mscore\u001B[39;49m\u001B[38;5;124;43m\"\u001B[39;49m\u001B[43m:\u001B[49m\u001B[43m \u001B[49m\u001B[43mscorer\u001B[49m\u001B[43m}\u001B[49m\u001B[43m,\u001B[49m\n\u001B[0;32m    725\u001B[0m \u001B[43m    \u001B[49m\u001B[43mcv\u001B[49m\u001B[38;5;241;43m=\u001B[39;49m\u001B[43mcv\u001B[49m\u001B[43m,\u001B[49m\n\u001B[0;32m    726\u001B[0m \u001B[43m    \u001B[49m\u001B[43mn_jobs\u001B[49m\u001B[38;5;241;43m=\u001B[39;49m\u001B[43mn_jobs\u001B[49m\u001B[43m,\u001B[49m\n\u001B[0;32m    727\u001B[0m \u001B[43m    \u001B[49m\u001B[43mverbose\u001B[49m\u001B[38;5;241;43m=\u001B[39;49m\u001B[43mverbose\u001B[49m\u001B[43m,\u001B[49m\n\u001B[0;32m    728\u001B[0m \u001B[43m    \u001B[49m\u001B[43mfit_params\u001B[49m\u001B[38;5;241;43m=\u001B[39;49m\u001B[43mfit_params\u001B[49m\u001B[43m,\u001B[49m\n\u001B[0;32m    729\u001B[0m \u001B[43m    \u001B[49m\u001B[43mparams\u001B[49m\u001B[38;5;241;43m=\u001B[39;49m\u001B[43mparams\u001B[49m\u001B[43m,\u001B[49m\n\u001B[0;32m    730\u001B[0m \u001B[43m    \u001B[49m\u001B[43mpre_dispatch\u001B[49m\u001B[38;5;241;43m=\u001B[39;49m\u001B[43mpre_dispatch\u001B[49m\u001B[43m,\u001B[49m\n\u001B[0;32m    731\u001B[0m \u001B[43m    \u001B[49m\u001B[43merror_score\u001B[49m\u001B[38;5;241;43m=\u001B[39;49m\u001B[43merror_score\u001B[49m\u001B[43m,\u001B[49m\n\u001B[0;32m    732\u001B[0m \u001B[43m\u001B[49m\u001B[43m)\u001B[49m\n\u001B[0;32m    733\u001B[0m \u001B[38;5;28;01mreturn\u001B[39;00m cv_results[\u001B[38;5;124m\"\u001B[39m\u001B[38;5;124mtest_score\u001B[39m\u001B[38;5;124m\"\u001B[39m]\n",
      "File \u001B[1;32mC:\\ProgramData\\anaconda3\\envs\\dp\\lib\\site-packages\\sklearn\\utils\\_param_validation.py:213\u001B[0m, in \u001B[0;36mvalidate_params.<locals>.decorator.<locals>.wrapper\u001B[1;34m(*args, **kwargs)\u001B[0m\n\u001B[0;32m    207\u001B[0m \u001B[38;5;28;01mtry\u001B[39;00m:\n\u001B[0;32m    208\u001B[0m     \u001B[38;5;28;01mwith\u001B[39;00m config_context(\n\u001B[0;32m    209\u001B[0m         skip_parameter_validation\u001B[38;5;241m=\u001B[39m(\n\u001B[0;32m    210\u001B[0m             prefer_skip_nested_validation \u001B[38;5;129;01mor\u001B[39;00m global_skip_validation\n\u001B[0;32m    211\u001B[0m         )\n\u001B[0;32m    212\u001B[0m     ):\n\u001B[1;32m--> 213\u001B[0m         \u001B[38;5;28;01mreturn\u001B[39;00m func(\u001B[38;5;241m*\u001B[39margs, \u001B[38;5;241m*\u001B[39m\u001B[38;5;241m*\u001B[39mkwargs)\n\u001B[0;32m    214\u001B[0m \u001B[38;5;28;01mexcept\u001B[39;00m InvalidParameterError \u001B[38;5;28;01mas\u001B[39;00m e:\n\u001B[0;32m    215\u001B[0m     \u001B[38;5;66;03m# When the function is just a wrapper around an estimator, we allow\u001B[39;00m\n\u001B[0;32m    216\u001B[0m     \u001B[38;5;66;03m# the function to delegate validation to the estimator, but we replace\u001B[39;00m\n\u001B[0;32m    217\u001B[0m     \u001B[38;5;66;03m# the name of the estimator by the name of the function in the error\u001B[39;00m\n\u001B[0;32m    218\u001B[0m     \u001B[38;5;66;03m# message to avoid confusion.\u001B[39;00m\n\u001B[0;32m    219\u001B[0m     msg \u001B[38;5;241m=\u001B[39m re\u001B[38;5;241m.\u001B[39msub(\n\u001B[0;32m    220\u001B[0m         \u001B[38;5;124mr\u001B[39m\u001B[38;5;124m\"\u001B[39m\u001B[38;5;124mparameter of \u001B[39m\u001B[38;5;124m\\\u001B[39m\u001B[38;5;124mw+ must be\u001B[39m\u001B[38;5;124m\"\u001B[39m,\n\u001B[0;32m    221\u001B[0m         \u001B[38;5;124mf\u001B[39m\u001B[38;5;124m\"\u001B[39m\u001B[38;5;124mparameter of \u001B[39m\u001B[38;5;132;01m{\u001B[39;00mfunc\u001B[38;5;241m.\u001B[39m\u001B[38;5;18m__qualname__\u001B[39m\u001B[38;5;132;01m}\u001B[39;00m\u001B[38;5;124m must be\u001B[39m\u001B[38;5;124m\"\u001B[39m,\n\u001B[0;32m    222\u001B[0m         \u001B[38;5;28mstr\u001B[39m(e),\n\u001B[0;32m    223\u001B[0m     )\n",
      "File \u001B[1;32mC:\\ProgramData\\anaconda3\\envs\\dp\\lib\\site-packages\\sklearn\\model_selection\\_validation.py:430\u001B[0m, in \u001B[0;36mcross_validate\u001B[1;34m(estimator, X, y, groups, scoring, cv, n_jobs, verbose, fit_params, params, pre_dispatch, return_train_score, return_estimator, return_indices, error_score)\u001B[0m\n\u001B[0;32m    427\u001B[0m \u001B[38;5;66;03m# We clone the estimator to make sure that all the folds are\u001B[39;00m\n\u001B[0;32m    428\u001B[0m \u001B[38;5;66;03m# independent, and that it is pickle-able.\u001B[39;00m\n\u001B[0;32m    429\u001B[0m parallel \u001B[38;5;241m=\u001B[39m Parallel(n_jobs\u001B[38;5;241m=\u001B[39mn_jobs, verbose\u001B[38;5;241m=\u001B[39mverbose, pre_dispatch\u001B[38;5;241m=\u001B[39mpre_dispatch)\n\u001B[1;32m--> 430\u001B[0m results \u001B[38;5;241m=\u001B[39m \u001B[43mparallel\u001B[49m\u001B[43m(\u001B[49m\n\u001B[0;32m    431\u001B[0m \u001B[43m    \u001B[49m\u001B[43mdelayed\u001B[49m\u001B[43m(\u001B[49m\u001B[43m_fit_and_score\u001B[49m\u001B[43m)\u001B[49m\u001B[43m(\u001B[49m\n\u001B[0;32m    432\u001B[0m \u001B[43m        \u001B[49m\u001B[43mclone\u001B[49m\u001B[43m(\u001B[49m\u001B[43mestimator\u001B[49m\u001B[43m)\u001B[49m\u001B[43m,\u001B[49m\n\u001B[0;32m    433\u001B[0m \u001B[43m        \u001B[49m\u001B[43mX\u001B[49m\u001B[43m,\u001B[49m\n\u001B[0;32m    434\u001B[0m \u001B[43m        \u001B[49m\u001B[43my\u001B[49m\u001B[43m,\u001B[49m\n\u001B[0;32m    435\u001B[0m \u001B[43m        \u001B[49m\u001B[43mscorer\u001B[49m\u001B[38;5;241;43m=\u001B[39;49m\u001B[43mscorers\u001B[49m\u001B[43m,\u001B[49m\n\u001B[0;32m    436\u001B[0m \u001B[43m        \u001B[49m\u001B[43mtrain\u001B[49m\u001B[38;5;241;43m=\u001B[39;49m\u001B[43mtrain\u001B[49m\u001B[43m,\u001B[49m\n\u001B[0;32m    437\u001B[0m \u001B[43m        \u001B[49m\u001B[43mtest\u001B[49m\u001B[38;5;241;43m=\u001B[39;49m\u001B[43mtest\u001B[49m\u001B[43m,\u001B[49m\n\u001B[0;32m    438\u001B[0m \u001B[43m        \u001B[49m\u001B[43mverbose\u001B[49m\u001B[38;5;241;43m=\u001B[39;49m\u001B[43mverbose\u001B[49m\u001B[43m,\u001B[49m\n\u001B[0;32m    439\u001B[0m \u001B[43m        \u001B[49m\u001B[43mparameters\u001B[49m\u001B[38;5;241;43m=\u001B[39;49m\u001B[38;5;28;43;01mNone\u001B[39;49;00m\u001B[43m,\u001B[49m\n\u001B[0;32m    440\u001B[0m \u001B[43m        \u001B[49m\u001B[43mfit_params\u001B[49m\u001B[38;5;241;43m=\u001B[39;49m\u001B[43mrouted_params\u001B[49m\u001B[38;5;241;43m.\u001B[39;49m\u001B[43mestimator\u001B[49m\u001B[38;5;241;43m.\u001B[39;49m\u001B[43mfit\u001B[49m\u001B[43m,\u001B[49m\n\u001B[0;32m    441\u001B[0m \u001B[43m        \u001B[49m\u001B[43mscore_params\u001B[49m\u001B[38;5;241;43m=\u001B[39;49m\u001B[43mrouted_params\u001B[49m\u001B[38;5;241;43m.\u001B[39;49m\u001B[43mscorer\u001B[49m\u001B[38;5;241;43m.\u001B[39;49m\u001B[43mscore\u001B[49m\u001B[43m,\u001B[49m\n\u001B[0;32m    442\u001B[0m \u001B[43m        \u001B[49m\u001B[43mreturn_train_score\u001B[49m\u001B[38;5;241;43m=\u001B[39;49m\u001B[43mreturn_train_score\u001B[49m\u001B[43m,\u001B[49m\n\u001B[0;32m    443\u001B[0m \u001B[43m        \u001B[49m\u001B[43mreturn_times\u001B[49m\u001B[38;5;241;43m=\u001B[39;49m\u001B[38;5;28;43;01mTrue\u001B[39;49;00m\u001B[43m,\u001B[49m\n\u001B[0;32m    444\u001B[0m \u001B[43m        \u001B[49m\u001B[43mreturn_estimator\u001B[49m\u001B[38;5;241;43m=\u001B[39;49m\u001B[43mreturn_estimator\u001B[49m\u001B[43m,\u001B[49m\n\u001B[0;32m    445\u001B[0m \u001B[43m        \u001B[49m\u001B[43merror_score\u001B[49m\u001B[38;5;241;43m=\u001B[39;49m\u001B[43merror_score\u001B[49m\u001B[43m,\u001B[49m\n\u001B[0;32m    446\u001B[0m \u001B[43m    \u001B[49m\u001B[43m)\u001B[49m\n\u001B[0;32m    447\u001B[0m \u001B[43m    \u001B[49m\u001B[38;5;28;43;01mfor\u001B[39;49;00m\u001B[43m \u001B[49m\u001B[43mtrain\u001B[49m\u001B[43m,\u001B[49m\u001B[43m \u001B[49m\u001B[43mtest\u001B[49m\u001B[43m \u001B[49m\u001B[38;5;129;43;01min\u001B[39;49;00m\u001B[43m \u001B[49m\u001B[43mindices\u001B[49m\n\u001B[0;32m    448\u001B[0m \u001B[43m\u001B[49m\u001B[43m)\u001B[49m\n\u001B[0;32m    450\u001B[0m _warn_or_raise_about_fit_failures(results, error_score)\n\u001B[0;32m    452\u001B[0m \u001B[38;5;66;03m# For callable scoring, the return type is only know after calling. If the\u001B[39;00m\n\u001B[0;32m    453\u001B[0m \u001B[38;5;66;03m# return type is a dictionary, the error scores can now be inserted with\u001B[39;00m\n\u001B[0;32m    454\u001B[0m \u001B[38;5;66;03m# the correct key.\u001B[39;00m\n",
      "File \u001B[1;32mC:\\ProgramData\\anaconda3\\envs\\dp\\lib\\site-packages\\sklearn\\utils\\parallel.py:67\u001B[0m, in \u001B[0;36mParallel.__call__\u001B[1;34m(self, iterable)\u001B[0m\n\u001B[0;32m     62\u001B[0m config \u001B[38;5;241m=\u001B[39m get_config()\n\u001B[0;32m     63\u001B[0m iterable_with_config \u001B[38;5;241m=\u001B[39m (\n\u001B[0;32m     64\u001B[0m     (_with_config(delayed_func, config), args, kwargs)\n\u001B[0;32m     65\u001B[0m     \u001B[38;5;28;01mfor\u001B[39;00m delayed_func, args, kwargs \u001B[38;5;129;01min\u001B[39;00m iterable\n\u001B[0;32m     66\u001B[0m )\n\u001B[1;32m---> 67\u001B[0m \u001B[38;5;28;01mreturn\u001B[39;00m \u001B[38;5;28;43msuper\u001B[39;49m\u001B[43m(\u001B[49m\u001B[43m)\u001B[49m\u001B[38;5;241;43m.\u001B[39;49m\u001B[38;5;21;43m__call__\u001B[39;49m\u001B[43m(\u001B[49m\u001B[43miterable_with_config\u001B[49m\u001B[43m)\u001B[49m\n",
      "File \u001B[1;32mC:\\ProgramData\\anaconda3\\envs\\dp\\lib\\site-packages\\joblib\\parallel.py:1863\u001B[0m, in \u001B[0;36mParallel.__call__\u001B[1;34m(self, iterable)\u001B[0m\n\u001B[0;32m   1861\u001B[0m     output \u001B[38;5;241m=\u001B[39m \u001B[38;5;28mself\u001B[39m\u001B[38;5;241m.\u001B[39m_get_sequential_output(iterable)\n\u001B[0;32m   1862\u001B[0m     \u001B[38;5;28mnext\u001B[39m(output)\n\u001B[1;32m-> 1863\u001B[0m     \u001B[38;5;28;01mreturn\u001B[39;00m output \u001B[38;5;28;01mif\u001B[39;00m \u001B[38;5;28mself\u001B[39m\u001B[38;5;241m.\u001B[39mreturn_generator \u001B[38;5;28;01melse\u001B[39;00m \u001B[38;5;28;43mlist\u001B[39;49m\u001B[43m(\u001B[49m\u001B[43moutput\u001B[49m\u001B[43m)\u001B[49m\n\u001B[0;32m   1865\u001B[0m \u001B[38;5;66;03m# Let's create an ID that uniquely identifies the current call. If the\u001B[39;00m\n\u001B[0;32m   1866\u001B[0m \u001B[38;5;66;03m# call is interrupted early and that the same instance is immediately\u001B[39;00m\n\u001B[0;32m   1867\u001B[0m \u001B[38;5;66;03m# re-used, this id will be used to prevent workers that were\u001B[39;00m\n\u001B[0;32m   1868\u001B[0m \u001B[38;5;66;03m# concurrently finalizing a task from the previous call to run the\u001B[39;00m\n\u001B[0;32m   1869\u001B[0m \u001B[38;5;66;03m# callback.\u001B[39;00m\n\u001B[0;32m   1870\u001B[0m \u001B[38;5;28;01mwith\u001B[39;00m \u001B[38;5;28mself\u001B[39m\u001B[38;5;241m.\u001B[39m_lock:\n",
      "File \u001B[1;32mC:\\ProgramData\\anaconda3\\envs\\dp\\lib\\site-packages\\joblib\\parallel.py:1792\u001B[0m, in \u001B[0;36mParallel._get_sequential_output\u001B[1;34m(self, iterable)\u001B[0m\n\u001B[0;32m   1790\u001B[0m \u001B[38;5;28mself\u001B[39m\u001B[38;5;241m.\u001B[39mn_dispatched_batches \u001B[38;5;241m+\u001B[39m\u001B[38;5;241m=\u001B[39m \u001B[38;5;241m1\u001B[39m\n\u001B[0;32m   1791\u001B[0m \u001B[38;5;28mself\u001B[39m\u001B[38;5;241m.\u001B[39mn_dispatched_tasks \u001B[38;5;241m+\u001B[39m\u001B[38;5;241m=\u001B[39m \u001B[38;5;241m1\u001B[39m\n\u001B[1;32m-> 1792\u001B[0m res \u001B[38;5;241m=\u001B[39m func(\u001B[38;5;241m*\u001B[39margs, \u001B[38;5;241m*\u001B[39m\u001B[38;5;241m*\u001B[39mkwargs)\n\u001B[0;32m   1793\u001B[0m \u001B[38;5;28mself\u001B[39m\u001B[38;5;241m.\u001B[39mn_completed_tasks \u001B[38;5;241m+\u001B[39m\u001B[38;5;241m=\u001B[39m \u001B[38;5;241m1\u001B[39m\n\u001B[0;32m   1794\u001B[0m \u001B[38;5;28mself\u001B[39m\u001B[38;5;241m.\u001B[39mprint_progress()\n",
      "File \u001B[1;32mC:\\ProgramData\\anaconda3\\envs\\dp\\lib\\site-packages\\sklearn\\utils\\parallel.py:129\u001B[0m, in \u001B[0;36m_FuncWrapper.__call__\u001B[1;34m(self, *args, **kwargs)\u001B[0m\n\u001B[0;32m    127\u001B[0m     config \u001B[38;5;241m=\u001B[39m {}\n\u001B[0;32m    128\u001B[0m \u001B[38;5;28;01mwith\u001B[39;00m config_context(\u001B[38;5;241m*\u001B[39m\u001B[38;5;241m*\u001B[39mconfig):\n\u001B[1;32m--> 129\u001B[0m     \u001B[38;5;28;01mreturn\u001B[39;00m \u001B[38;5;28mself\u001B[39m\u001B[38;5;241m.\u001B[39mfunction(\u001B[38;5;241m*\u001B[39margs, \u001B[38;5;241m*\u001B[39m\u001B[38;5;241m*\u001B[39mkwargs)\n",
      "File \u001B[1;32mC:\\ProgramData\\anaconda3\\envs\\dp\\lib\\site-packages\\sklearn\\model_selection\\_validation.py:895\u001B[0m, in \u001B[0;36m_fit_and_score\u001B[1;34m(estimator, X, y, scorer, train, test, verbose, parameters, fit_params, score_params, return_train_score, return_parameters, return_n_test_samples, return_times, return_estimator, split_progress, candidate_progress, error_score)\u001B[0m\n\u001B[0;32m    893\u001B[0m         estimator\u001B[38;5;241m.\u001B[39mfit(X_train, \u001B[38;5;241m*\u001B[39m\u001B[38;5;241m*\u001B[39mfit_params)\n\u001B[0;32m    894\u001B[0m     \u001B[38;5;28;01melse\u001B[39;00m:\n\u001B[1;32m--> 895\u001B[0m         estimator\u001B[38;5;241m.\u001B[39mfit(X_train, y_train, \u001B[38;5;241m*\u001B[39m\u001B[38;5;241m*\u001B[39mfit_params)\n\u001B[0;32m    897\u001B[0m \u001B[38;5;28;01mexcept\u001B[39;00m \u001B[38;5;167;01mException\u001B[39;00m:\n\u001B[0;32m    898\u001B[0m     \u001B[38;5;66;03m# Note fit time as time until error\u001B[39;00m\n\u001B[0;32m    899\u001B[0m     fit_time \u001B[38;5;241m=\u001B[39m time\u001B[38;5;241m.\u001B[39mtime() \u001B[38;5;241m-\u001B[39m start_time\n",
      "File \u001B[1;32mC:\\ProgramData\\anaconda3\\envs\\dp\\lib\\site-packages\\sklearn\\base.py:1474\u001B[0m, in \u001B[0;36m_fit_context.<locals>.decorator.<locals>.wrapper\u001B[1;34m(estimator, *args, **kwargs)\u001B[0m\n\u001B[0;32m   1467\u001B[0m     estimator\u001B[38;5;241m.\u001B[39m_validate_params()\n\u001B[0;32m   1469\u001B[0m \u001B[38;5;28;01mwith\u001B[39;00m config_context(\n\u001B[0;32m   1470\u001B[0m     skip_parameter_validation\u001B[38;5;241m=\u001B[39m(\n\u001B[0;32m   1471\u001B[0m         prefer_skip_nested_validation \u001B[38;5;129;01mor\u001B[39;00m global_skip_validation\n\u001B[0;32m   1472\u001B[0m     )\n\u001B[0;32m   1473\u001B[0m ):\n\u001B[1;32m-> 1474\u001B[0m     \u001B[38;5;28;01mreturn\u001B[39;00m fit_method(estimator, \u001B[38;5;241m*\u001B[39margs, \u001B[38;5;241m*\u001B[39m\u001B[38;5;241m*\u001B[39mkwargs)\n",
      "File \u001B[1;32mC:\\ProgramData\\anaconda3\\envs\\dp\\lib\\site-packages\\sklearn\\ensemble\\_gb.py:784\u001B[0m, in \u001B[0;36mBaseGradientBoosting.fit\u001B[1;34m(self, X, y, sample_weight, monitor)\u001B[0m\n\u001B[0;32m    781\u001B[0m     \u001B[38;5;28mself\u001B[39m\u001B[38;5;241m.\u001B[39m_resize_state()\n\u001B[0;32m    783\u001B[0m \u001B[38;5;66;03m# fit the boosting stages\u001B[39;00m\n\u001B[1;32m--> 784\u001B[0m n_stages \u001B[38;5;241m=\u001B[39m \u001B[38;5;28;43mself\u001B[39;49m\u001B[38;5;241;43m.\u001B[39;49m\u001B[43m_fit_stages\u001B[49m\u001B[43m(\u001B[49m\n\u001B[0;32m    785\u001B[0m \u001B[43m    \u001B[49m\u001B[43mX_train\u001B[49m\u001B[43m,\u001B[49m\n\u001B[0;32m    786\u001B[0m \u001B[43m    \u001B[49m\u001B[43my_train\u001B[49m\u001B[43m,\u001B[49m\n\u001B[0;32m    787\u001B[0m \u001B[43m    \u001B[49m\u001B[43mraw_predictions\u001B[49m\u001B[43m,\u001B[49m\n\u001B[0;32m    788\u001B[0m \u001B[43m    \u001B[49m\u001B[43msample_weight_train\u001B[49m\u001B[43m,\u001B[49m\n\u001B[0;32m    789\u001B[0m \u001B[43m    \u001B[49m\u001B[38;5;28;43mself\u001B[39;49m\u001B[38;5;241;43m.\u001B[39;49m\u001B[43m_rng\u001B[49m\u001B[43m,\u001B[49m\n\u001B[0;32m    790\u001B[0m \u001B[43m    \u001B[49m\u001B[43mX_val\u001B[49m\u001B[43m,\u001B[49m\n\u001B[0;32m    791\u001B[0m \u001B[43m    \u001B[49m\u001B[43my_val\u001B[49m\u001B[43m,\u001B[49m\n\u001B[0;32m    792\u001B[0m \u001B[43m    \u001B[49m\u001B[43msample_weight_val\u001B[49m\u001B[43m,\u001B[49m\n\u001B[0;32m    793\u001B[0m \u001B[43m    \u001B[49m\u001B[43mbegin_at_stage\u001B[49m\u001B[43m,\u001B[49m\n\u001B[0;32m    794\u001B[0m \u001B[43m    \u001B[49m\u001B[43mmonitor\u001B[49m\u001B[43m,\u001B[49m\n\u001B[0;32m    795\u001B[0m \u001B[43m\u001B[49m\u001B[43m)\u001B[49m\n\u001B[0;32m    797\u001B[0m \u001B[38;5;66;03m# change shape of arrays after fit (early-stopping or additional ests)\u001B[39;00m\n\u001B[0;32m    798\u001B[0m \u001B[38;5;28;01mif\u001B[39;00m n_stages \u001B[38;5;241m!=\u001B[39m \u001B[38;5;28mself\u001B[39m\u001B[38;5;241m.\u001B[39mestimators_\u001B[38;5;241m.\u001B[39mshape[\u001B[38;5;241m0\u001B[39m]:\n",
      "File \u001B[1;32mC:\\ProgramData\\anaconda3\\envs\\dp\\lib\\site-packages\\sklearn\\ensemble\\_gb.py:880\u001B[0m, in \u001B[0;36mBaseGradientBoosting._fit_stages\u001B[1;34m(self, X, y, raw_predictions, sample_weight, random_state, X_val, y_val, sample_weight_val, begin_at_stage, monitor)\u001B[0m\n\u001B[0;32m    873\u001B[0m         initial_loss \u001B[38;5;241m=\u001B[39m factor \u001B[38;5;241m*\u001B[39m \u001B[38;5;28mself\u001B[39m\u001B[38;5;241m.\u001B[39m_loss(\n\u001B[0;32m    874\u001B[0m             y_true\u001B[38;5;241m=\u001B[39my_oob_masked,\n\u001B[0;32m    875\u001B[0m             raw_prediction\u001B[38;5;241m=\u001B[39mraw_predictions[\u001B[38;5;241m~\u001B[39msample_mask],\n\u001B[0;32m    876\u001B[0m             sample_weight\u001B[38;5;241m=\u001B[39msample_weight_oob_masked,\n\u001B[0;32m    877\u001B[0m         )\n\u001B[0;32m    879\u001B[0m \u001B[38;5;66;03m# fit next stage of trees\u001B[39;00m\n\u001B[1;32m--> 880\u001B[0m raw_predictions \u001B[38;5;241m=\u001B[39m \u001B[38;5;28;43mself\u001B[39;49m\u001B[38;5;241;43m.\u001B[39;49m\u001B[43m_fit_stage\u001B[49m\u001B[43m(\u001B[49m\n\u001B[0;32m    881\u001B[0m \u001B[43m    \u001B[49m\u001B[43mi\u001B[49m\u001B[43m,\u001B[49m\n\u001B[0;32m    882\u001B[0m \u001B[43m    \u001B[49m\u001B[43mX\u001B[49m\u001B[43m,\u001B[49m\n\u001B[0;32m    883\u001B[0m \u001B[43m    \u001B[49m\u001B[43my\u001B[49m\u001B[43m,\u001B[49m\n\u001B[0;32m    884\u001B[0m \u001B[43m    \u001B[49m\u001B[43mraw_predictions\u001B[49m\u001B[43m,\u001B[49m\n\u001B[0;32m    885\u001B[0m \u001B[43m    \u001B[49m\u001B[43msample_weight\u001B[49m\u001B[43m,\u001B[49m\n\u001B[0;32m    886\u001B[0m \u001B[43m    \u001B[49m\u001B[43msample_mask\u001B[49m\u001B[43m,\u001B[49m\n\u001B[0;32m    887\u001B[0m \u001B[43m    \u001B[49m\u001B[43mrandom_state\u001B[49m\u001B[43m,\u001B[49m\n\u001B[0;32m    888\u001B[0m \u001B[43m    \u001B[49m\u001B[43mX_csc\u001B[49m\u001B[38;5;241;43m=\u001B[39;49m\u001B[43mX_csc\u001B[49m\u001B[43m,\u001B[49m\n\u001B[0;32m    889\u001B[0m \u001B[43m    \u001B[49m\u001B[43mX_csr\u001B[49m\u001B[38;5;241;43m=\u001B[39;49m\u001B[43mX_csr\u001B[49m\u001B[43m,\u001B[49m\n\u001B[0;32m    890\u001B[0m \u001B[43m\u001B[49m\u001B[43m)\u001B[49m\n\u001B[0;32m    892\u001B[0m \u001B[38;5;66;03m# track loss\u001B[39;00m\n\u001B[0;32m    893\u001B[0m \u001B[38;5;28;01mif\u001B[39;00m do_oob:\n",
      "File \u001B[1;32mC:\\ProgramData\\anaconda3\\envs\\dp\\lib\\site-packages\\sklearn\\ensemble\\_gb.py:490\u001B[0m, in \u001B[0;36mBaseGradientBoosting._fit_stage\u001B[1;34m(self, i, X, y, raw_predictions, sample_weight, sample_mask, random_state, X_csc, X_csr)\u001B[0m\n\u001B[0;32m    487\u001B[0m     sample_weight \u001B[38;5;241m=\u001B[39m sample_weight \u001B[38;5;241m*\u001B[39m sample_mask\u001B[38;5;241m.\u001B[39mastype(np\u001B[38;5;241m.\u001B[39mfloat64)\n\u001B[0;32m    489\u001B[0m X \u001B[38;5;241m=\u001B[39m X_csc \u001B[38;5;28;01mif\u001B[39;00m X_csc \u001B[38;5;129;01mis\u001B[39;00m \u001B[38;5;129;01mnot\u001B[39;00m \u001B[38;5;28;01mNone\u001B[39;00m \u001B[38;5;28;01melse\u001B[39;00m X\n\u001B[1;32m--> 490\u001B[0m \u001B[43mtree\u001B[49m\u001B[38;5;241;43m.\u001B[39;49m\u001B[43mfit\u001B[49m\u001B[43m(\u001B[49m\n\u001B[0;32m    491\u001B[0m \u001B[43m    \u001B[49m\u001B[43mX\u001B[49m\u001B[43m,\u001B[49m\u001B[43m \u001B[49m\u001B[43mneg_g_view\u001B[49m\u001B[43m[\u001B[49m\u001B[43m:\u001B[49m\u001B[43m,\u001B[49m\u001B[43m \u001B[49m\u001B[43mk\u001B[49m\u001B[43m]\u001B[49m\u001B[43m,\u001B[49m\u001B[43m \u001B[49m\u001B[43msample_weight\u001B[49m\u001B[38;5;241;43m=\u001B[39;49m\u001B[43msample_weight\u001B[49m\u001B[43m,\u001B[49m\u001B[43m \u001B[49m\u001B[43mcheck_input\u001B[49m\u001B[38;5;241;43m=\u001B[39;49m\u001B[38;5;28;43;01mFalse\u001B[39;49;00m\n\u001B[0;32m    492\u001B[0m \u001B[43m\u001B[49m\u001B[43m)\u001B[49m\n\u001B[0;32m    494\u001B[0m \u001B[38;5;66;03m# update tree leaves\u001B[39;00m\n\u001B[0;32m    495\u001B[0m X_for_tree_update \u001B[38;5;241m=\u001B[39m X_csr \u001B[38;5;28;01mif\u001B[39;00m X_csr \u001B[38;5;129;01mis\u001B[39;00m \u001B[38;5;129;01mnot\u001B[39;00m \u001B[38;5;28;01mNone\u001B[39;00m \u001B[38;5;28;01melse\u001B[39;00m X\n",
      "File \u001B[1;32mC:\\ProgramData\\anaconda3\\envs\\dp\\lib\\site-packages\\sklearn\\base.py:1474\u001B[0m, in \u001B[0;36m_fit_context.<locals>.decorator.<locals>.wrapper\u001B[1;34m(estimator, *args, **kwargs)\u001B[0m\n\u001B[0;32m   1467\u001B[0m     estimator\u001B[38;5;241m.\u001B[39m_validate_params()\n\u001B[0;32m   1469\u001B[0m \u001B[38;5;28;01mwith\u001B[39;00m config_context(\n\u001B[0;32m   1470\u001B[0m     skip_parameter_validation\u001B[38;5;241m=\u001B[39m(\n\u001B[0;32m   1471\u001B[0m         prefer_skip_nested_validation \u001B[38;5;129;01mor\u001B[39;00m global_skip_validation\n\u001B[0;32m   1472\u001B[0m     )\n\u001B[0;32m   1473\u001B[0m ):\n\u001B[1;32m-> 1474\u001B[0m     \u001B[38;5;28;01mreturn\u001B[39;00m fit_method(estimator, \u001B[38;5;241m*\u001B[39margs, \u001B[38;5;241m*\u001B[39m\u001B[38;5;241m*\u001B[39mkwargs)\n",
      "File \u001B[1;32mC:\\ProgramData\\anaconda3\\envs\\dp\\lib\\site-packages\\sklearn\\tree\\_classes.py:1377\u001B[0m, in \u001B[0;36mDecisionTreeRegressor.fit\u001B[1;34m(self, X, y, sample_weight, check_input)\u001B[0m\n\u001B[0;32m   1347\u001B[0m \u001B[38;5;129m@_fit_context\u001B[39m(prefer_skip_nested_validation\u001B[38;5;241m=\u001B[39m\u001B[38;5;28;01mTrue\u001B[39;00m)\n\u001B[0;32m   1348\u001B[0m \u001B[38;5;28;01mdef\u001B[39;00m \u001B[38;5;21mfit\u001B[39m(\u001B[38;5;28mself\u001B[39m, X, y, sample_weight\u001B[38;5;241m=\u001B[39m\u001B[38;5;28;01mNone\u001B[39;00m, check_input\u001B[38;5;241m=\u001B[39m\u001B[38;5;28;01mTrue\u001B[39;00m):\n\u001B[0;32m   1349\u001B[0m \u001B[38;5;250m    \u001B[39m\u001B[38;5;124;03m\"\"\"Build a decision tree regressor from the training set (X, y).\u001B[39;00m\n\u001B[0;32m   1350\u001B[0m \n\u001B[0;32m   1351\u001B[0m \u001B[38;5;124;03m    Parameters\u001B[39;00m\n\u001B[1;32m   (...)\u001B[0m\n\u001B[0;32m   1374\u001B[0m \u001B[38;5;124;03m        Fitted estimator.\u001B[39;00m\n\u001B[0;32m   1375\u001B[0m \u001B[38;5;124;03m    \"\"\"\u001B[39;00m\n\u001B[1;32m-> 1377\u001B[0m     \u001B[38;5;28;43msuper\u001B[39;49m\u001B[43m(\u001B[49m\u001B[43m)\u001B[49m\u001B[38;5;241;43m.\u001B[39;49m\u001B[43m_fit\u001B[49m\u001B[43m(\u001B[49m\n\u001B[0;32m   1378\u001B[0m \u001B[43m        \u001B[49m\u001B[43mX\u001B[49m\u001B[43m,\u001B[49m\n\u001B[0;32m   1379\u001B[0m \u001B[43m        \u001B[49m\u001B[43my\u001B[49m\u001B[43m,\u001B[49m\n\u001B[0;32m   1380\u001B[0m \u001B[43m        \u001B[49m\u001B[43msample_weight\u001B[49m\u001B[38;5;241;43m=\u001B[39;49m\u001B[43msample_weight\u001B[49m\u001B[43m,\u001B[49m\n\u001B[0;32m   1381\u001B[0m \u001B[43m        \u001B[49m\u001B[43mcheck_input\u001B[49m\u001B[38;5;241;43m=\u001B[39;49m\u001B[43mcheck_input\u001B[49m\u001B[43m,\u001B[49m\n\u001B[0;32m   1382\u001B[0m \u001B[43m    \u001B[49m\u001B[43m)\u001B[49m\n\u001B[0;32m   1383\u001B[0m     \u001B[38;5;28;01mreturn\u001B[39;00m \u001B[38;5;28mself\u001B[39m\n",
      "File \u001B[1;32mC:\\ProgramData\\anaconda3\\envs\\dp\\lib\\site-packages\\sklearn\\tree\\_classes.py:472\u001B[0m, in \u001B[0;36mBaseDecisionTree._fit\u001B[1;34m(self, X, y, sample_weight, check_input, missing_values_in_feature_mask)\u001B[0m\n\u001B[0;32m    461\u001B[0m \u001B[38;5;28;01melse\u001B[39;00m:\n\u001B[0;32m    462\u001B[0m     builder \u001B[38;5;241m=\u001B[39m BestFirstTreeBuilder(\n\u001B[0;32m    463\u001B[0m         splitter,\n\u001B[0;32m    464\u001B[0m         min_samples_split,\n\u001B[1;32m   (...)\u001B[0m\n\u001B[0;32m    469\u001B[0m         \u001B[38;5;28mself\u001B[39m\u001B[38;5;241m.\u001B[39mmin_impurity_decrease,\n\u001B[0;32m    470\u001B[0m     )\n\u001B[1;32m--> 472\u001B[0m \u001B[43mbuilder\u001B[49m\u001B[38;5;241;43m.\u001B[39;49m\u001B[43mbuild\u001B[49m\u001B[43m(\u001B[49m\u001B[38;5;28;43mself\u001B[39;49m\u001B[38;5;241;43m.\u001B[39;49m\u001B[43mtree_\u001B[49m\u001B[43m,\u001B[49m\u001B[43m \u001B[49m\u001B[43mX\u001B[49m\u001B[43m,\u001B[49m\u001B[43m \u001B[49m\u001B[43my\u001B[49m\u001B[43m,\u001B[49m\u001B[43m \u001B[49m\u001B[43msample_weight\u001B[49m\u001B[43m,\u001B[49m\u001B[43m \u001B[49m\u001B[43mmissing_values_in_feature_mask\u001B[49m\u001B[43m)\u001B[49m\n\u001B[0;32m    474\u001B[0m \u001B[38;5;28;01mif\u001B[39;00m \u001B[38;5;28mself\u001B[39m\u001B[38;5;241m.\u001B[39mn_outputs_ \u001B[38;5;241m==\u001B[39m \u001B[38;5;241m1\u001B[39m \u001B[38;5;129;01mand\u001B[39;00m is_classifier(\u001B[38;5;28mself\u001B[39m):\n\u001B[0;32m    475\u001B[0m     \u001B[38;5;28mself\u001B[39m\u001B[38;5;241m.\u001B[39mn_classes_ \u001B[38;5;241m=\u001B[39m \u001B[38;5;28mself\u001B[39m\u001B[38;5;241m.\u001B[39mn_classes_[\u001B[38;5;241m0\u001B[39m]\n",
      "\u001B[1;31mKeyboardInterrupt\u001B[0m: "
     ]
    }
   ],
   "execution_count": 6
  },
  {
   "metadata": {},
   "cell_type": "code",
   "outputs": [],
   "execution_count": null,
   "source": [
    "model = BaggingRegressor()\n",
    "start_time = time.time()\n",
    "scores = cross_val_score(model, X, y, cv=k_fold, scoring='neg_mean_absolute_error')\n",
    "print('time cost: {0:.3f}'.format(time.time() - start_time))\n",
    "\n",
    "print('score:', scores)\n",
    "print('mean score', np.mean(scores))"
   ],
   "id": "c13df105541f0033"
  },
  {
   "metadata": {
    "ExecuteTime": {
     "end_time": "2024-04-29T19:32:08.098257Z",
     "start_time": "2024-04-29T19:30:22.979223Z"
    }
   },
   "cell_type": "code",
   "source": [
    "model = SGDRegressor()\n",
    "start_time = time.time()\n",
    "scores = cross_val_score(model, X, y, cv=k_fold, scoring='neg_mean_absolute_error')\n",
    "print('time cost: {0:.3f}'.format(time.time() - start_time))\n",
    "\n",
    "print('score:', scores)\n",
    "print('mean score', np.mean(scores))"
   ],
   "id": "595245e710d66599",
   "outputs": [
    {
     "name": "stdout",
     "output_type": "stream",
     "text": [
      "time cost: 105.072\n",
      "score: [-1.89372024e+18 -1.18465842e+18 -2.83218040e+18 -1.01450647e+18\n",
      " -1.43860645e+18]\n",
      "mean score -1.6727343938481024e+18\n"
     ]
    }
   ],
   "execution_count": 7
  },
  {
   "metadata": {
    "ExecuteTime": {
     "end_time": "2024-04-29T21:27:20.402028Z",
     "start_time": "2024-04-29T21:27:16.699690Z"
    }
   },
   "cell_type": "code",
   "source": [
    "X_train, X_test, y_train, y_test = train_test_split(X, y, test_size=0.2, random_state=42)\n",
    "model.fit(X_train, y_train)\n",
    "\n",
    "y_pred = model.predict(X_test)\n",
    "\n",
    "mse = mean_squared_error(y_test, y_pred)\n",
    "mae = mean_absolute_error(y_test, y_pred)\n",
    "r2 = r2_score(y_test, y_pred)\n",
    "\n",
    "print(\"MSE:\", mse)\n",
    "print(\"MAE:\", mae)\n",
    "print(\"R^2:\", r2)"
   ],
   "id": "14cda4ea2e6ccf8d",
   "outputs": [
    {
     "name": "stdout",
     "output_type": "stream",
     "text": [
      "MSE: 8925.861065942621\n",
      "MAE: 31.66035405012972\n",
      "R^2: 0.010977450233593311\n"
     ]
    }
   ],
   "execution_count": 7
  },
  {
   "metadata": {
    "ExecuteTime": {
     "end_time": "2024-04-29T21:27:25.979082Z",
     "start_time": "2024-04-29T21:27:22.864528Z"
    }
   },
   "cell_type": "code",
   "source": [
    "model.fit(X, y)\n",
    "\n",
    "y_pred = model.predict(X)\n",
    "\n",
    "mse = mean_squared_error(y, y_pred)\n",
    "mae = mean_absolute_error(y, y_pred)\n",
    "r2 = r2_score(y, y_pred)\n",
    "\n",
    "print(\"MSE:\", mse)\n",
    "print(\"MAE:\", mae)\n",
    "print(\"R^2:\", r2)"
   ],
   "id": "ee56d37835e4c261",
   "outputs": [
    {
     "name": "stdout",
     "output_type": "stream",
     "text": [
      "MSE: 8903.189555618943\n",
      "MAE: 31.4561317568049\n",
      "R^2: 0.010444575803325584\n"
     ]
    }
   ],
   "execution_count": 8
  },
  {
   "metadata": {
    "ExecuteTime": {
     "end_time": "2024-04-29T20:58:23.777437Z",
     "start_time": "2024-04-29T20:58:23.761819Z"
    }
   },
   "cell_type": "code",
   "source": [
    "print(y_pred)\n",
    "print(y_pred[:28])\n",
    "print()"
   ],
   "id": "c08a3f1b1be7ecc",
   "outputs": [
    {
     "name": "stdout",
     "output_type": "stream",
     "text": [
      "[10.44844289 11.34026153 10.74661375 ... 23.74937943 23.4097359\n",
      " 13.03167638]\n",
      "[10.44844289 11.34026153 10.74661375  9.77242781 11.24045808 11.2064\n",
      " 10.72437568  0.12945952 11.2787473  11.12461637 -0.05869998 10.71824639\n",
      " 10.06940362 10.73245885 10.64873535 10.24571246 12.36918524 11.05027699\n",
      " 11.16584224 11.37843797 10.46477144 11.29690753  9.73022265  9.84344893\n",
      " 10.6959006  11.37019416 10.36907749 10.62786547]\n",
      "\n"
     ]
    }
   ],
   "execution_count": 63
  },
  {
   "metadata": {
    "ExecuteTime": {
     "end_time": "2024-04-29T22:13:59.733679Z",
     "start_time": "2024-04-29T22:13:59.702404Z"
    }
   },
   "cell_type": "code",
   "source": [
    "import datetime\n",
    "import joblib\n",
    "current_datetime = datetime.datetime.now()\n",
    "formatted_datetime = current_datetime.strftime(\"%Y-%m-%d\")\n",
    "name = str(model).replace('()', '')+'_'+str(formatted_datetime) +'.pkl'\n",
    "print(name)\n",
    "path = './models/'+name\n",
    "joblib.dump(model, path)"
   ],
   "id": "d293c45145bbe3d4",
   "outputs": [
    {
     "name": "stdout",
     "output_type": "stream",
     "text": [
      "LinearRegression_2024-04-30.pkl\n"
     ]
    },
    {
     "data": {
      "text/plain": [
       "['./models/LinearRegression_2024-04-30.pkl']"
      ]
     },
     "execution_count": 35,
     "metadata": {},
     "output_type": "execute_result"
    }
   ],
   "execution_count": 35
  },
  {
   "metadata": {
    "ExecuteTime": {
     "end_time": "2024-04-29T21:27:36.199402Z",
     "start_time": "2024-04-29T21:27:34.805190Z"
    }
   },
   "cell_type": "code",
   "source": [
    "label = data.score\n",
    "\n",
    "result = data[['srch_id', 'prop_id']]\n",
    "result['score'] = y_pred\n",
    "result['label'] = label\n",
    "result['rank'] = result.groupby('srch_id')['score'].rank(ascending=False) \n",
    "print(result)"
   ],
   "id": "8227c7bb88bd5fb3",
   "outputs": [
    {
     "name": "stderr",
     "output_type": "stream",
     "text": [
      "C:\\Users\\china\\AppData\\Local\\Temp\\ipykernel_17988\\1975649491.py:4: SettingWithCopyWarning: \n",
      "A value is trying to be set on a copy of a slice from a DataFrame.\n",
      "Try using .loc[row_indexer,col_indexer] = value instead\n",
      "\n",
      "See the caveats in the documentation: https://pandas.pydata.org/pandas-docs/stable/user_guide/indexing.html#returning-a-view-versus-a-copy\n",
      "  result['score'] = y_pred\n",
      "C:\\Users\\china\\AppData\\Local\\Temp\\ipykernel_17988\\1975649491.py:5: SettingWithCopyWarning: \n",
      "A value is trying to be set on a copy of a slice from a DataFrame.\n",
      "Try using .loc[row_indexer,col_indexer] = value instead\n",
      "\n",
      "See the caveats in the documentation: https://pandas.pydata.org/pandas-docs/stable/user_guide/indexing.html#returning-a-view-versus-a-copy\n",
      "  result['label'] = label\n"
     ]
    },
    {
     "name": "stdout",
     "output_type": "stream",
     "text": [
      "          srch_id   prop_id      score  label  rank\n",
      "0             1.0     893.0   2.191514    0.0  25.0\n",
      "1             1.0   10404.0   3.171092    0.0  11.0\n",
      "2             1.0   21315.0   4.040982    0.0   3.0\n",
      "3             1.0   27348.0   3.172552    0.0  10.0\n",
      "4             1.0   29604.0   2.199226    0.0  24.0\n",
      "...           ...       ...        ...    ...   ...\n",
      "4958342  332785.0   77700.0  23.356059    0.0   2.0\n",
      "4958343  332785.0   88083.0  23.093877    0.0   4.0\n",
      "4958344  332785.0   94508.0  23.108352    0.0   3.0\n",
      "4958345  332785.0  128360.0  24.360864    6.0   1.0\n",
      "4958346  332785.0  134949.0  18.284005    0.0   5.0\n",
      "\n",
      "[4958347 rows x 5 columns]\n"
     ]
    },
    {
     "name": "stderr",
     "output_type": "stream",
     "text": [
      "C:\\Users\\china\\AppData\\Local\\Temp\\ipykernel_17988\\1975649491.py:6: SettingWithCopyWarning: \n",
      "A value is trying to be set on a copy of a slice from a DataFrame.\n",
      "Try using .loc[row_indexer,col_indexer] = value instead\n",
      "\n",
      "See the caveats in the documentation: https://pandas.pydata.org/pandas-docs/stable/user_guide/indexing.html#returning-a-view-versus-a-copy\n",
      "  result['rank'] = result.groupby('srch_id')['score'].rank(ascending=False)\n"
     ]
    }
   ],
   "execution_count": 9
  },
  {
   "metadata": {
    "ExecuteTime": {
     "end_time": "2024-04-29T21:28:21.631899Z",
     "start_time": "2024-04-29T21:28:21.538149Z"
    }
   },
   "cell_type": "code",
   "source": "",
   "id": "bc6c4d278a4af9cf",
   "outputs": [
    {
     "name": "stdout",
     "output_type": "stream",
     "text": [
      "[1.00000e+00 4.00000e+00 6.00000e+00 ... 3.32782e+05 3.32784e+05\n",
      " 3.32785e+05]\n"
     ]
    },
    {
     "ename": "TypeError",
     "evalue": "'int' object is not iterable",
     "output_type": "error",
     "traceback": [
      "\u001B[1;31m---------------------------------------------------------------------------\u001B[0m",
      "\u001B[1;31mTypeError\u001B[0m                                 Traceback (most recent call last)",
      "Cell \u001B[1;32mIn[12], line 7\u001B[0m\n\u001B[0;32m      5\u001B[0m \u001B[38;5;28;01mfor\u001B[39;00m srch_id \u001B[38;5;129;01min\u001B[39;00m srch_ids:\n\u001B[0;32m      6\u001B[0m     srch_result \u001B[38;5;241m=\u001B[39m result[result[\u001B[38;5;124m'\u001B[39m\u001B[38;5;124msrch_id\u001B[39m\u001B[38;5;124m'\u001B[39m] \u001B[38;5;241m==\u001B[39m srch_id]\n\u001B[1;32m----> 7\u001B[0m     ndcg_score \u001B[38;5;241m=\u001B[39m \u001B[43mevaluator\u001B[49m\u001B[38;5;241;43m.\u001B[39;49m\u001B[43mnDCG_at_k\u001B[49m\u001B[43m(\u001B[49m\u001B[43mrank\u001B[49m\u001B[38;5;241;43m=\u001B[39;49m\u001B[43msrch_result\u001B[49m\u001B[43m[\u001B[49m\u001B[38;5;124;43m'\u001B[39;49m\u001B[38;5;124;43mrank\u001B[39;49m\u001B[38;5;124;43m'\u001B[39;49m\u001B[43m]\u001B[49m\u001B[43m,\u001B[49m\u001B[43m \u001B[49m\u001B[43mlabels\u001B[49m\u001B[38;5;241;43m=\u001B[39;49m\u001B[43msrch_result\u001B[49m\u001B[43m[\u001B[49m\u001B[38;5;124;43m'\u001B[39;49m\u001B[38;5;124;43mlabel\u001B[39;49m\u001B[38;5;124;43m'\u001B[39;49m\u001B[43m]\u001B[49m\u001B[43m,\u001B[49m\u001B[43m \u001B[49m\u001B[43mk\u001B[49m\u001B[38;5;241;43m=\u001B[39;49m\u001B[38;5;28;43mlen\u001B[39;49m\u001B[43m(\u001B[49m\u001B[43msrch_result\u001B[49m\u001B[43m[\u001B[49m\u001B[38;5;124;43m'\u001B[39;49m\u001B[38;5;124;43mrank\u001B[39;49m\u001B[38;5;124;43m'\u001B[39;49m\u001B[43m]\u001B[49m\u001B[43m)\u001B[49m\u001B[43m)\u001B[49m\n\u001B[0;32m      8\u001B[0m     \u001B[38;5;28mprint\u001B[39m(ndcg_score)\n\u001B[0;32m      9\u001B[0m     \u001B[38;5;66;03m# df[df['sid'] == specific_sid]\u001B[39;00m\n",
      "File \u001B[1;32m~\\Documents\\Projects\\DMT-A2\\evaluator.py:18\u001B[0m, in \u001B[0;36mnDCG_at_k\u001B[1;34m(rank, labels, k)\u001B[0m\n\u001B[0;32m     16\u001B[0m \u001B[38;5;28;01mdef\u001B[39;00m \u001B[38;5;21mnDCG_at_k\u001B[39m(rank, labels, k):\n\u001B[0;32m     17\u001B[0m     dcg \u001B[38;5;241m=\u001B[39m dcg_at_k(rank, labels, k)\n\u001B[1;32m---> 18\u001B[0m     idcg \u001B[38;5;241m=\u001B[39m \u001B[43miDCG_at_k\u001B[49m\u001B[43m(\u001B[49m\u001B[43mlabels\u001B[49m\u001B[43m,\u001B[49m\u001B[43m \u001B[49m\u001B[43mk\u001B[49m\u001B[43m)\u001B[49m\n\u001B[0;32m     19\u001B[0m     \u001B[38;5;28;01mreturn\u001B[39;00m dcg \u001B[38;5;241m/\u001B[39m idcg\n",
      "File \u001B[1;32m~\\Documents\\Projects\\DMT-A2\\evaluator.py:13\u001B[0m, in \u001B[0;36miDCG_at_k\u001B[1;34m(rel, k)\u001B[0m\n\u001B[0;32m     11\u001B[0m rel \u001B[38;5;241m=\u001B[39m \u001B[38;5;28msorted\u001B[39m(rel, reverse\u001B[38;5;241m=\u001B[39m\u001B[38;5;28;01mTrue\u001B[39;00m)\n\u001B[0;32m     12\u001B[0m rank \u001B[38;5;241m=\u001B[39m [i \u001B[38;5;28;01mfor\u001B[39;00m i \u001B[38;5;129;01min\u001B[39;00m \u001B[38;5;28mrange\u001B[39m(\u001B[38;5;241m1\u001B[39m, k \u001B[38;5;241m+\u001B[39m \u001B[38;5;241m1\u001B[39m)]\n\u001B[1;32m---> 13\u001B[0m \u001B[38;5;28;01mreturn\u001B[39;00m \u001B[43mdcg_at_k\u001B[49m\u001B[43m(\u001B[49m\u001B[43mrank\u001B[49m\u001B[43m,\u001B[49m\u001B[43m \u001B[49m\u001B[43mrel\u001B[49m\u001B[43m,\u001B[49m\u001B[43m \u001B[49m\u001B[43mk\u001B[49m\u001B[43m)\u001B[49m\n",
      "File \u001B[1;32m~\\Documents\\Projects\\DMT-A2\\evaluator.py:5\u001B[0m, in \u001B[0;36mdcg_at_k\u001B[1;34m(rank, rel, k)\u001B[0m\n\u001B[0;32m      4\u001B[0m \u001B[38;5;28;01mdef\u001B[39;00m \u001B[38;5;21mdcg_at_k\u001B[39m(rank, rel, k):\n\u001B[1;32m----> 5\u001B[0m     rank \u001B[38;5;241m+\u001B[39m\u001B[38;5;241m=\u001B[39m \u001B[38;5;241m1\u001B[39m\n\u001B[0;32m      6\u001B[0m     dcg \u001B[38;5;241m=\u001B[39m rel[\u001B[38;5;241m0\u001B[39m] \u001B[38;5;241m+\u001B[39m np\u001B[38;5;241m.\u001B[39msum(rel[\u001B[38;5;241m1\u001B[39m:k] \u001B[38;5;241m/\u001B[39m np\u001B[38;5;241m.\u001B[39mlog2(rank[\u001B[38;5;241m1\u001B[39m:k]))\n\u001B[0;32m      7\u001B[0m     \u001B[38;5;28;01mreturn\u001B[39;00m dcg\n",
      "\u001B[1;31mTypeError\u001B[0m: 'int' object is not iterable"
     ]
    }
   ],
   "execution_count": 12
  },
  {
   "metadata": {
    "ExecuteTime": {
     "end_time": "2024-04-29T21:39:35.065783Z",
     "start_time": "2024-04-29T21:39:35.050157Z"
    }
   },
   "cell_type": "code",
   "source": [
    "def dcg_at_k(rank, rel, k):\n",
    "    # print('rel:', rel)\n",
    "    rank += 1\n",
    "    # print('rank:', rank)\n",
    "    dg = rel / np.log2(rank)\n",
    "    # print('dg:', dg)\n",
    "    dcg = np.sum(dg)\n",
    "    return dcg\n",
    "\n",
    "\n",
    "def iDCG_at_k(rel, k):\n",
    "    rel = sorted(rel, reverse=True)\n",
    "    rel = pd.DataFrame(rel)\n",
    "    rank = [i for i in range(1, k + 1)]\n",
    "    rank = pd.DataFrame(rank)\n",
    "    return dcg_at_k(rank, rel, k)\n",
    "\n",
    "\n",
    "def nDCG_at_k(rank, labels, k):\n",
    "    dcg = dcg_at_k(rank, labels, k)\n",
    "    idcg = iDCG_at_k(labels, k)\n",
    "    return dcg / idcg\n"
   ],
   "id": "dbf8302793a5dfc1",
   "outputs": [],
   "execution_count": 29
  },
  {
   "metadata": {
    "ExecuteTime": {
     "end_time": "2024-04-29T21:57:15.356361Z",
     "start_time": "2024-04-29T21:43:53.381824Z"
    }
   },
   "cell_type": "code",
   "source": [
    "# import evaluator\n",
    "# print(1)\n",
    "srch_ids = result.srch_id.unique()\n",
    "print(len(srch_ids))\n",
    "print(srch_ids)\n",
    "ndcg_scores = []\n",
    "for i, srch_id in enumerate(srch_ids):\n",
    "    srch_result = result[result['srch_id'] == srch_id]\n",
    "    ndcg_score = nDCG_at_k(rank=srch_result['rank'], labels=srch_result['label'], k=38)\n",
    "    ndcg_scores.append(ndcg_score)\n",
    "    if i%2000==0:\n",
    "        print(f'{i}/{len(srch_ids)}, ndcg_score: {ndcg_score}')\n",
    "\n",
    "print(np.mean(ndcg_scores))"
   ],
   "id": "1377a28f502f1efb",
   "outputs": [
    {
     "name": "stdout",
     "output_type": "stream",
     "text": [
      "199795\n",
      "[1.00000e+00 4.00000e+00 6.00000e+00 ... 3.32782e+05 3.32784e+05\n",
      " 3.32785e+05]\n",
      "0/199795, ndcg_score: 0    0.218104\n",
      "dtype: float64\n"
     ]
    },
    {
     "name": "stderr",
     "output_type": "stream",
     "text": [
      "C:\\Users\\china\\AppData\\Roaming\\Python\\Python39\\site-packages\\numpy\\core\\fromnumeric.py:84: FutureWarning: The behavior of DataFrame.sum with axis=None is deprecated, in a future version this will reduce over both axes and return a scalar. To retain the old behavior, pass axis=0 (or do not pass axis)\n",
      "  return reduction(axis=axis, out=out, **passkwargs)\n"
     ]
    },
    {
     "name": "stdout",
     "output_type": "stream",
     "text": [
      "2000/199795, ndcg_score: 0    0.315465\n",
      "dtype: float64\n",
      "4000/199795, ndcg_score: 0    0.399183\n",
      "dtype: float64\n",
      "6000/199795, ndcg_score: 0    0.386853\n",
      "dtype: float64\n",
      "8000/199795, ndcg_score: 0    0.2\n",
      "dtype: float64\n",
      "10000/199795, ndcg_score: 0    0.289065\n",
      "dtype: float64\n",
      "12000/199795, ndcg_score: 0    0.5\n",
      "dtype: float64\n",
      "14000/199795, ndcg_score: 0    0.244651\n",
      "dtype: float64\n",
      "16000/199795, ndcg_score: 0    0.5\n",
      "dtype: float64\n",
      "18000/199795, ndcg_score: 0    0.244651\n",
      "dtype: float64\n",
      "20000/199795, ndcg_score: 0    1.0\n",
      "dtype: float64\n",
      "22000/199795, ndcg_score: 0    0.231378\n",
      "dtype: float64\n",
      "24000/199795, ndcg_score: 0    0.26265\n",
      "dtype: float64\n",
      "26000/199795, ndcg_score: 0    0.333333\n",
      "dtype: float64\n",
      "28000/199795, ndcg_score: 0    0.295999\n",
      "dtype: float64\n",
      "30000/199795, ndcg_score: 0    0.63093\n",
      "dtype: float64\n",
      "32000/199795, ndcg_score: 0    0.315465\n",
      "dtype: float64\n",
      "34000/199795, ndcg_score: 0    0.63093\n",
      "dtype: float64\n",
      "36000/199795, ndcg_score: 0    1.0\n",
      "dtype: float64\n",
      "38000/199795, ndcg_score: 0    0.26265\n",
      "dtype: float64\n",
      "40000/199795, ndcg_score: 0    0.239812\n",
      "dtype: float64\n",
      "42000/199795, ndcg_score: 0    0.63093\n",
      "dtype: float64\n",
      "44000/199795, ndcg_score: 0    0.239812\n",
      "dtype: float64\n",
      "46000/199795, ndcg_score: 0    1.0\n",
      "dtype: float64\n",
      "48000/199795, ndcg_score: 0    0.386853\n",
      "dtype: float64\n",
      "50000/199795, ndcg_score: 0    0.386853\n",
      "dtype: float64\n",
      "52000/199795, ndcg_score: 0    1.0\n",
      "dtype: float64\n",
      "54000/199795, ndcg_score: 0    0.239812\n",
      "dtype: float64\n",
      "56000/199795, ndcg_score: 0    0.5\n",
      "dtype: float64\n",
      "58000/199795, ndcg_score: 0    0.25\n",
      "dtype: float64\n",
      "60000/199795, ndcg_score: 0    0.244651\n",
      "dtype: float64\n",
      "62000/199795, ndcg_score: 0    0.255958\n",
      "dtype: float64\n",
      "64000/199795, ndcg_score: 0    0.221065\n",
      "dtype: float64\n",
      "66000/199795, ndcg_score: 0    0.386853\n",
      "dtype: float64\n",
      "68000/199795, ndcg_score: 0    0.215338\n",
      "dtype: float64\n",
      "70000/199795, ndcg_score: 0    0.5\n",
      "dtype: float64\n",
      "72000/199795, ndcg_score: 0    0.333333\n",
      "dtype: float64\n",
      "74000/199795, ndcg_score: 0    1.0\n",
      "dtype: float64\n",
      "76000/199795, ndcg_score: 0    0.270238\n",
      "dtype: float64\n",
      "78000/199795, ndcg_score: 0    0.63093\n",
      "dtype: float64\n",
      "80000/199795, ndcg_score: 0    0.289065\n",
      "dtype: float64\n",
      "82000/199795, ndcg_score: 0    0.333333\n",
      "dtype: float64\n",
      "84000/199795, ndcg_score: 0    0.25\n",
      "dtype: float64\n",
      "86000/199795, ndcg_score: 0    0.333333\n",
      "dtype: float64\n",
      "88000/199795, ndcg_score: 0    0.289065\n",
      "dtype: float64\n",
      "90000/199795, ndcg_score: 0    0.443417\n",
      "dtype: float64\n",
      "92000/199795, ndcg_score: 0    0.5\n",
      "dtype: float64\n",
      "94000/199795, ndcg_score: 0    0.5\n",
      "dtype: float64\n",
      "96000/199795, ndcg_score: 0    0.386853\n",
      "dtype: float64\n",
      "98000/199795, ndcg_score: 0    0.270238\n",
      "dtype: float64\n",
      "100000/199795, ndcg_score: 0    0.430677\n",
      "dtype: float64\n",
      "102000/199795, ndcg_score: 0    0.289065\n",
      "dtype: float64\n",
      "104000/199795, ndcg_score: 0    0.961475\n",
      "dtype: float64\n",
      "106000/199795, ndcg_score: 0    0.5\n",
      "dtype: float64\n",
      "108000/199795, ndcg_score: 0    0.333333\n",
      "dtype: float64\n",
      "110000/199795, ndcg_score: 0    0.333333\n",
      "dtype: float64\n",
      "112000/199795, ndcg_score: 0    0.315465\n",
      "dtype: float64\n",
      "114000/199795, ndcg_score: 0    0.386853\n",
      "dtype: float64\n",
      "116000/199795, ndcg_score: 0    0.30103\n",
      "dtype: float64\n",
      "118000/199795, ndcg_score: 0    0.289065\n",
      "dtype: float64\n",
      "120000/199795, ndcg_score: 0    0.315465\n",
      "dtype: float64\n",
      "122000/199795, ndcg_score: 0    0.315465\n",
      "dtype: float64\n",
      "124000/199795, ndcg_score: 0    0.2\n",
      "dtype: float64\n",
      "126000/199795, ndcg_score: 0    0.218104\n",
      "dtype: float64\n",
      "128000/199795, ndcg_score: 0    0.430677\n",
      "dtype: float64\n",
      "130000/199795, ndcg_score: 0    0.386853\n",
      "dtype: float64\n",
      "132000/199795, ndcg_score: 0    0.321362\n",
      "dtype: float64\n",
      "134000/199795, ndcg_score: 0    0.479026\n",
      "dtype: float64\n",
      "136000/199795, ndcg_score: 0    0.333333\n",
      "dtype: float64\n",
      "138000/199795, ndcg_score: 0    0.278943\n",
      "dtype: float64\n",
      "140000/199795, ndcg_score: 0    0.244651\n",
      "dtype: float64\n",
      "142000/199795, ndcg_score: 0    0.244651\n",
      "dtype: float64\n",
      "144000/199795, ndcg_score: 0    0.235409\n",
      "dtype: float64\n",
      "146000/199795, ndcg_score: 0    0.26265\n",
      "dtype: float64\n",
      "148000/199795, ndcg_score: 0    1.0\n",
      "dtype: float64\n",
      "150000/199795, ndcg_score: 0    0.483159\n",
      "dtype: float64\n",
      "152000/199795, ndcg_score: 0    0.63093\n",
      "dtype: float64\n",
      "154000/199795, ndcg_score: 0    0.255958\n",
      "dtype: float64\n",
      "156000/199795, ndcg_score: 0    0.430677\n",
      "dtype: float64\n",
      "158000/199795, ndcg_score: 0    0.224244\n",
      "dtype: float64\n",
      "160000/199795, ndcg_score: 0    0.278943\n",
      "dtype: float64\n",
      "162000/199795, ndcg_score: 0    1.0\n",
      "dtype: float64\n",
      "164000/199795, ndcg_score: 0    0.5\n",
      "dtype: float64\n",
      "166000/199795, ndcg_score: 0    0.22767\n",
      "dtype: float64\n",
      "168000/199795, ndcg_score: 0    0.333333\n",
      "dtype: float64\n",
      "170000/199795, ndcg_score: 0    0.30103\n",
      "dtype: float64\n",
      "172000/199795, ndcg_score: 0    0.26265\n",
      "dtype: float64\n",
      "174000/199795, ndcg_score: 0    1.0\n",
      "dtype: float64\n",
      "176000/199795, ndcg_score: 0    0.239812\n",
      "dtype: float64\n",
      "178000/199795, ndcg_score: 0    0.333333\n",
      "dtype: float64\n",
      "180000/199795, ndcg_score: 0    0.392111\n",
      "dtype: float64\n",
      "182000/199795, ndcg_score: 0    0.2\n",
      "dtype: float64\n",
      "184000/199795, ndcg_score: 0    0.63093\n",
      "dtype: float64\n",
      "186000/199795, ndcg_score: 0    0.63093\n",
      "dtype: float64\n",
      "188000/199795, ndcg_score: 0    0.244651\n",
      "dtype: float64\n",
      "190000/199795, ndcg_score: 0    0.244651\n",
      "dtype: float64\n",
      "192000/199795, ndcg_score: 0    0.289065\n",
      "dtype: float64\n",
      "194000/199795, ndcg_score: 0    0.63093\n",
      "dtype: float64\n",
      "196000/199795, ndcg_score: 0    1.0\n",
      "dtype: float64\n",
      "198000/199795, ndcg_score: 0    0.235409\n",
      "dtype: float64\n",
      "0.3997042225607111\n"
     ]
    }
   ],
   "execution_count": 34
  },
  {
   "metadata": {
    "ExecuteTime": {
     "end_time": "2024-04-29T21:29:13.958143Z",
     "start_time": "2024-04-29T21:29:13.942506Z"
    }
   },
   "cell_type": "code",
   "source": "",
   "id": "f5f89e55bc775c66",
   "outputs": [],
   "execution_count": 15
  }
 ],
 "metadata": {
  "kernelspec": {
   "display_name": "Python 3",
   "language": "python",
   "name": "python3"
  },
  "language_info": {
   "codemirror_mode": {
    "name": "ipython",
    "version": 2
   },
   "file_extension": ".py",
   "mimetype": "text/x-python",
   "name": "python",
   "nbconvert_exporter": "python",
   "pygments_lexer": "ipython2",
   "version": "2.7.6"
  }
 },
 "nbformat": 4,
 "nbformat_minor": 5
}
