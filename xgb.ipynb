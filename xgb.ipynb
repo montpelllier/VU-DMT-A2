{
 "cells": [
  {
   "cell_type": "code",
   "id": "initial_id",
   "metadata": {
    "collapsed": true,
    "ExecuteTime": {
     "end_time": "2024-05-19T19:59:08.050642Z",
     "start_time": "2024-05-19T19:59:06.644100Z"
    }
   },
   "source": [
    "import time\n",
    "\n",
    "import numpy as np\n",
    "import pandas as pd\n",
    "import xgboost as xgb\n",
    "from sklearn.metrics import ndcg_score"
   ],
   "outputs": [],
   "execution_count": 1
  },
  {
   "metadata": {
    "ExecuteTime": {
     "end_time": "2024-05-19T17:06:03.412346Z",
     "start_time": "2024-05-19T17:05:47.146037Z"
    }
   },
   "cell_type": "code",
   "source": [
    "# 加载CSV数据\n",
    "print('Reading data...')\n",
    "start_time = time.time()\n",
    "data = pd.read_csv('./data/filled_training_set2.csv')\n",
    "print(f'Data read in {time.time() - start_time} s')"
   ],
   "id": "5f46f1c2e4132c96",
   "outputs": [
    {
     "name": "stdout",
     "output_type": "stream",
     "text": [
      "Reading data...\n",
      "Data read in 16.250774383544922 s\n"
     ]
    }
   ],
   "execution_count": 2
  },
  {
   "metadata": {
    "ExecuteTime": {
     "end_time": "2024-05-19T17:06:06.957336Z",
     "start_time": "2024-05-19T17:06:03.412346Z"
    }
   },
   "cell_type": "code",
   "source": [
    "# 将数据分割为训练集和验证集\n",
    "# train, valid = train_test_split(data, test_size=0.2, random_state=2022)\n",
    "train_size = int(len(data) * 0.8)\n",
    "train = data[:train_size]\n",
    "valid = data[train_size:]\n",
    "\n",
    "# 构建XGBoost DMatrix\n",
    "features = data.columns.tolist()\n",
    "# features.remove('score')\n",
    "# features.remove('srch_id')\n",
    "# features.remove('prop_id')\n",
    "removed_features = ['score', 'srch_id', 'prop_id', 'lgbm_score', 'orig_destination_distance', 'srch_children_count']\n",
    "for f in removed_features:\n",
    "    # print(f)\n",
    "    features.remove(f)\n",
    "print(features)\n",
    "X_train = train[features]\n",
    "y_train = train['score']\n",
    "group_train = train.groupby('srch_id')['srch_id'].count().values\n",
    "dtrain = xgb.DMatrix(X_train, y_train, group=group_train)\n",
    "# dtrain = xgb.DMatrix(X_train, y_train, group=[len(y_train)//len(train['srch_id'].unique())] * len(train['srch_id'].unique()))\n",
    "\n",
    "X_valid = valid[features]\n",
    "y_valid = valid['score']\n",
    "group_valid = valid.groupby('srch_id')['srch_id'].count().values\n",
    "dvalid = xgb.DMatrix(X_valid, y_valid, group=group_valid)\n",
    "# dvalid = xgb.DMatrix(X_valid, y_valid, group=[len(y_valid)//len(valid['srch_id'].unique())] * len(valid['srch_id'].unique()))\n",
    "print(group_valid)"
   ],
   "id": "cdb41a375819fb2b",
   "outputs": [
    {
     "name": "stdout",
     "output_type": "stream",
     "text": [
      "['site_id', 'visitor_location_country_id', 'visitor_hist_starrating', 'visitor_hist_adr_usd', 'prop_country_id', 'prop_starrating', 'prop_review_score', 'prop_brand_bool', 'prop_location_score1', 'prop_location_score2', 'prop_log_historical_price', 'price_usd', 'promotion_flag', 'srch_destination_id', 'srch_length_of_stay', 'srch_booking_window', 'srch_adults_count', 'srch_room_count', 'srch_saturday_night_bool', 'srch_query_affinity_score', 'random_bool', 'days', 'ump', 'price_diff', 'starrating_diff', 'count_window', 'comp_avg_rate', 'comp_avg_inv', 'comp_avg_rate_percent_diff', 'prop_starrating_mean', 'prop_starrating_median', 'prop_review_score_mean', 'prop_review_score_median', 'prop_location_score2_mean', 'prop_location_score2_median', 'prop_brand_bool_mean', 'prop_brand_bool_median', 'prop_log_historical_price_mean', 'prop_log_historical_price_median', 'visitor_hist_starrating_mean', 'visitor_hist_starrating_median', 'visitor_hist_adr_usd_mean', 'visitor_hist_adr_usd_median', 'comp_avg_rate_mean', 'comp_avg_rate_median', 'comp_avg_inv_mean', 'comp_avg_inv_median', 'comp_avg_rate_percent_diff_mean', 'comp_avg_rate_percent_diff_median', 'lr_score']\n",
      "[27 13 32 ... 24 28  6]\n"
     ]
    }
   ],
   "execution_count": 3
  },
  {
   "metadata": {
    "ExecuteTime": {
     "end_time": "2024-05-19T17:06:06.972961Z",
     "start_time": "2024-05-19T17:06:06.957336Z"
    }
   },
   "cell_type": "code",
   "source": [
    "# 设置排序任务的参数\n",
    "params = {\n",
    "    'objective': 'rank:ndcg',\n",
    "    'eta': 0.01,\n",
    "    'max_depth': 12,\n",
    "    'gamma': 1.2,\n",
    "    'min_child_weight': 0.2,\n",
    "    'subsample': 0.5,\n",
    "    'colsample_bytree': 0.5,\n",
    "    'eval_metric': 'ndcg@5',  # 使用NDCG@5作为评估指标\n",
    "    # 'seed': 2022,\n",
    "    'tree_method': 'approx',\n",
    "    'lambda': 1.2,\n",
    "}\n",
    "# 1600 0.67677 0.38598\n",
    "\n",
    "# 训练模型\n",
    "# bst = xgb.train(params, dtrain, num_boost_round=1600, evals=[(dtrain, 'train'), (dvalid, 'valid')], verbose_eval=20)\n"
   ],
   "id": "cc56b104ce01961f",
   "outputs": [],
   "execution_count": 4
  },
  {
   "metadata": {
    "ExecuteTime": {
     "end_time": "2024-05-19T17:08:10.464896Z",
     "start_time": "2024-05-19T17:08:04.511847Z"
    }
   },
   "cell_type": "code",
   "source": [
    "X = data[features]\n",
    "y = data['score']\n",
    "group_data= data.groupby('srch_id')['srch_id'].count().values\n",
    "dm = xgb.DMatrix(X, y, group=group_data)"
   ],
   "id": "8c4e8ea4c5a49504",
   "outputs": [],
   "execution_count": 5
  },
  {
   "metadata": {
    "ExecuteTime": {
     "end_time": "2024-05-19T18:53:00.124974Z",
     "start_time": "2024-05-19T17:08:10.464896Z"
    }
   },
   "cell_type": "code",
   "source": "bst = xgb.train(params, dm, num_boost_round=2400, evals=[(dm, 'train')], verbose_eval=10)",
   "id": "91050ee3b8b508cd",
   "outputs": [
    {
     "name": "stdout",
     "output_type": "stream",
     "text": [
      "[0]\ttrain-ndcg@5:0.30629\n",
      "[10]\ttrain-ndcg@5:0.41664\n",
      "[20]\ttrain-ndcg@5:0.44156\n",
      "[30]\ttrain-ndcg@5:0.45735\n",
      "[40]\ttrain-ndcg@5:0.46756\n",
      "[50]\ttrain-ndcg@5:0.47428\n",
      "[60]\ttrain-ndcg@5:0.47994\n",
      "[70]\ttrain-ndcg@5:0.48359\n",
      "[80]\ttrain-ndcg@5:0.48910\n",
      "[90]\ttrain-ndcg@5:0.49298\n",
      "[100]\ttrain-ndcg@5:0.49684\n",
      "[110]\ttrain-ndcg@5:0.50063\n",
      "[120]\ttrain-ndcg@5:0.50381\n",
      "[130]\ttrain-ndcg@5:0.50710\n",
      "[140]\ttrain-ndcg@5:0.51022\n",
      "[150]\ttrain-ndcg@5:0.51293\n",
      "[160]\ttrain-ndcg@5:0.51543\n",
      "[170]\ttrain-ndcg@5:0.51764\n",
      "[180]\ttrain-ndcg@5:0.51933\n",
      "[190]\ttrain-ndcg@5:0.52209\n",
      "[200]\ttrain-ndcg@5:0.52399\n",
      "[210]\ttrain-ndcg@5:0.52609\n",
      "[220]\ttrain-ndcg@5:0.52816\n",
      "[230]\ttrain-ndcg@5:0.53029\n",
      "[240]\ttrain-ndcg@5:0.53253\n",
      "[250]\ttrain-ndcg@5:0.53423\n",
      "[260]\ttrain-ndcg@5:0.53592\n",
      "[270]\ttrain-ndcg@5:0.53799\n",
      "[280]\ttrain-ndcg@5:0.53962\n",
      "[290]\ttrain-ndcg@5:0.54130\n",
      "[300]\ttrain-ndcg@5:0.54305\n",
      "[310]\ttrain-ndcg@5:0.54454\n",
      "[320]\ttrain-ndcg@5:0.54613\n",
      "[330]\ttrain-ndcg@5:0.54749\n",
      "[340]\ttrain-ndcg@5:0.54879\n",
      "[350]\ttrain-ndcg@5:0.55022\n",
      "[360]\ttrain-ndcg@5:0.55173\n",
      "[370]\ttrain-ndcg@5:0.55345\n",
      "[380]\ttrain-ndcg@5:0.55467\n",
      "[390]\ttrain-ndcg@5:0.55604\n",
      "[400]\ttrain-ndcg@5:0.55769\n",
      "[410]\ttrain-ndcg@5:0.55928\n",
      "[420]\ttrain-ndcg@5:0.56051\n",
      "[430]\ttrain-ndcg@5:0.56121\n",
      "[440]\ttrain-ndcg@5:0.56295\n",
      "[450]\ttrain-ndcg@5:0.56417\n",
      "[460]\ttrain-ndcg@5:0.56520\n",
      "[470]\ttrain-ndcg@5:0.56656\n",
      "[480]\ttrain-ndcg@5:0.56765\n",
      "[490]\ttrain-ndcg@5:0.56892\n",
      "[500]\ttrain-ndcg@5:0.56984\n",
      "[510]\ttrain-ndcg@5:0.57131\n",
      "[520]\ttrain-ndcg@5:0.57278\n",
      "[530]\ttrain-ndcg@5:0.57377\n",
      "[540]\ttrain-ndcg@5:0.57486\n",
      "[550]\ttrain-ndcg@5:0.57599\n",
      "[560]\ttrain-ndcg@5:0.57688\n",
      "[570]\ttrain-ndcg@5:0.57803\n",
      "[580]\ttrain-ndcg@5:0.57913\n",
      "[590]\ttrain-ndcg@5:0.58036\n",
      "[600]\ttrain-ndcg@5:0.58154\n",
      "[610]\ttrain-ndcg@5:0.58256\n",
      "[620]\ttrain-ndcg@5:0.58376\n",
      "[630]\ttrain-ndcg@5:0.58467\n",
      "[640]\ttrain-ndcg@5:0.58569\n",
      "[650]\ttrain-ndcg@5:0.58661\n",
      "[660]\ttrain-ndcg@5:0.58788\n",
      "[670]\ttrain-ndcg@5:0.58876\n",
      "[680]\ttrain-ndcg@5:0.58987\n",
      "[690]\ttrain-ndcg@5:0.59069\n",
      "[700]\ttrain-ndcg@5:0.59150\n",
      "[710]\ttrain-ndcg@5:0.59243\n",
      "[720]\ttrain-ndcg@5:0.59360\n",
      "[730]\ttrain-ndcg@5:0.59462\n",
      "[740]\ttrain-ndcg@5:0.59552\n",
      "[750]\ttrain-ndcg@5:0.59612\n",
      "[760]\ttrain-ndcg@5:0.59703\n",
      "[770]\ttrain-ndcg@5:0.59771\n",
      "[780]\ttrain-ndcg@5:0.59859\n",
      "[790]\ttrain-ndcg@5:0.59925\n",
      "[800]\ttrain-ndcg@5:0.60000\n",
      "[810]\ttrain-ndcg@5:0.60078\n",
      "[820]\ttrain-ndcg@5:0.60172\n",
      "[830]\ttrain-ndcg@5:0.60245\n",
      "[840]\ttrain-ndcg@5:0.60324\n",
      "[850]\ttrain-ndcg@5:0.60406\n",
      "[860]\ttrain-ndcg@5:0.60485\n",
      "[870]\ttrain-ndcg@5:0.60571\n",
      "[880]\ttrain-ndcg@5:0.60651\n",
      "[890]\ttrain-ndcg@5:0.60736\n",
      "[900]\ttrain-ndcg@5:0.60803\n",
      "[910]\ttrain-ndcg@5:0.60889\n",
      "[920]\ttrain-ndcg@5:0.60960\n",
      "[930]\ttrain-ndcg@5:0.61040\n",
      "[940]\ttrain-ndcg@5:0.61095\n",
      "[950]\ttrain-ndcg@5:0.61156\n",
      "[960]\ttrain-ndcg@5:0.61239\n",
      "[970]\ttrain-ndcg@5:0.61308\n",
      "[980]\ttrain-ndcg@5:0.61382\n",
      "[990]\ttrain-ndcg@5:0.61461\n",
      "[1000]\ttrain-ndcg@5:0.61544\n",
      "[1010]\ttrain-ndcg@5:0.61606\n",
      "[1020]\ttrain-ndcg@5:0.61699\n",
      "[1030]\ttrain-ndcg@5:0.61760\n",
      "[1040]\ttrain-ndcg@5:0.61819\n",
      "[1050]\ttrain-ndcg@5:0.61898\n",
      "[1060]\ttrain-ndcg@5:0.61941\n",
      "[1070]\ttrain-ndcg@5:0.62021\n",
      "[1080]\ttrain-ndcg@5:0.62085\n",
      "[1090]\ttrain-ndcg@5:0.62157\n",
      "[1100]\ttrain-ndcg@5:0.62226\n",
      "[1110]\ttrain-ndcg@5:0.62284\n",
      "[1120]\ttrain-ndcg@5:0.62346\n",
      "[1130]\ttrain-ndcg@5:0.62406\n",
      "[1140]\ttrain-ndcg@5:0.62464\n",
      "[1150]\ttrain-ndcg@5:0.62513\n",
      "[1160]\ttrain-ndcg@5:0.62579\n",
      "[1170]\ttrain-ndcg@5:0.62668\n",
      "[1180]\ttrain-ndcg@5:0.62726\n",
      "[1190]\ttrain-ndcg@5:0.62778\n",
      "[1200]\ttrain-ndcg@5:0.62830\n",
      "[1210]\ttrain-ndcg@5:0.62897\n",
      "[1220]\ttrain-ndcg@5:0.62958\n",
      "[1230]\ttrain-ndcg@5:0.63005\n",
      "[1240]\ttrain-ndcg@5:0.63065\n",
      "[1250]\ttrain-ndcg@5:0.63122\n",
      "[1260]\ttrain-ndcg@5:0.63173\n",
      "[1270]\ttrain-ndcg@5:0.63234\n",
      "[1280]\ttrain-ndcg@5:0.63294\n",
      "[1290]\ttrain-ndcg@5:0.63369\n",
      "[1300]\ttrain-ndcg@5:0.63418\n",
      "[1310]\ttrain-ndcg@5:0.63476\n",
      "[1320]\ttrain-ndcg@5:0.63529\n",
      "[1330]\ttrain-ndcg@5:0.63586\n",
      "[1340]\ttrain-ndcg@5:0.63636\n",
      "[1350]\ttrain-ndcg@5:0.63692\n",
      "[1360]\ttrain-ndcg@5:0.63753\n",
      "[1370]\ttrain-ndcg@5:0.63803\n",
      "[1380]\ttrain-ndcg@5:0.63868\n",
      "[1390]\ttrain-ndcg@5:0.63920\n",
      "[1400]\ttrain-ndcg@5:0.63973\n",
      "[1410]\ttrain-ndcg@5:0.64021\n",
      "[1420]\ttrain-ndcg@5:0.64072\n",
      "[1430]\ttrain-ndcg@5:0.64144\n",
      "[1440]\ttrain-ndcg@5:0.64195\n",
      "[1450]\ttrain-ndcg@5:0.64247\n",
      "[1460]\ttrain-ndcg@5:0.64297\n",
      "[1470]\ttrain-ndcg@5:0.64357\n",
      "[1480]\ttrain-ndcg@5:0.64412\n",
      "[1490]\ttrain-ndcg@5:0.64454\n",
      "[1500]\ttrain-ndcg@5:0.64507\n",
      "[1510]\ttrain-ndcg@5:0.64551\n",
      "[1520]\ttrain-ndcg@5:0.64610\n",
      "[1530]\ttrain-ndcg@5:0.64647\n",
      "[1540]\ttrain-ndcg@5:0.64706\n",
      "[1550]\ttrain-ndcg@5:0.64756\n",
      "[1560]\ttrain-ndcg@5:0.64803\n",
      "[1570]\ttrain-ndcg@5:0.64855\n",
      "[1580]\ttrain-ndcg@5:0.64904\n",
      "[1590]\ttrain-ndcg@5:0.64954\n",
      "[1600]\ttrain-ndcg@5:0.65004\n",
      "[1610]\ttrain-ndcg@5:0.65064\n",
      "[1620]\ttrain-ndcg@5:0.65112\n",
      "[1630]\ttrain-ndcg@5:0.65154\n",
      "[1640]\ttrain-ndcg@5:0.65193\n",
      "[1650]\ttrain-ndcg@5:0.65246\n",
      "[1660]\ttrain-ndcg@5:0.65281\n",
      "[1670]\ttrain-ndcg@5:0.65334\n",
      "[1680]\ttrain-ndcg@5:0.65381\n",
      "[1690]\ttrain-ndcg@5:0.65427\n",
      "[1700]\ttrain-ndcg@5:0.65496\n",
      "[1710]\ttrain-ndcg@5:0.65540\n",
      "[1720]\ttrain-ndcg@5:0.65583\n",
      "[1730]\ttrain-ndcg@5:0.65636\n",
      "[1740]\ttrain-ndcg@5:0.65699\n",
      "[1750]\ttrain-ndcg@5:0.65733\n",
      "[1760]\ttrain-ndcg@5:0.65781\n",
      "[1770]\ttrain-ndcg@5:0.65824\n",
      "[1780]\ttrain-ndcg@5:0.65860\n",
      "[1790]\ttrain-ndcg@5:0.65896\n",
      "[1800]\ttrain-ndcg@5:0.65938\n",
      "[1810]\ttrain-ndcg@5:0.65980\n",
      "[1820]\ttrain-ndcg@5:0.66028\n",
      "[1830]\ttrain-ndcg@5:0.66071\n",
      "[1840]\ttrain-ndcg@5:0.66125\n",
      "[1850]\ttrain-ndcg@5:0.66163\n",
      "[1860]\ttrain-ndcg@5:0.66200\n",
      "[1870]\ttrain-ndcg@5:0.66235\n",
      "[1880]\ttrain-ndcg@5:0.66275\n",
      "[1890]\ttrain-ndcg@5:0.66312\n",
      "[1900]\ttrain-ndcg@5:0.66362\n",
      "[1910]\ttrain-ndcg@5:0.66400\n",
      "[1920]\ttrain-ndcg@5:0.66436\n",
      "[1930]\ttrain-ndcg@5:0.66476\n",
      "[1940]\ttrain-ndcg@5:0.66518\n",
      "[1950]\ttrain-ndcg@5:0.66560\n",
      "[1960]\ttrain-ndcg@5:0.66601\n",
      "[1970]\ttrain-ndcg@5:0.66634\n",
      "[1980]\ttrain-ndcg@5:0.66675\n",
      "[1990]\ttrain-ndcg@5:0.66721\n",
      "[2000]\ttrain-ndcg@5:0.66755\n",
      "[2010]\ttrain-ndcg@5:0.66791\n",
      "[2020]\ttrain-ndcg@5:0.66824\n",
      "[2030]\ttrain-ndcg@5:0.66871\n",
      "[2040]\ttrain-ndcg@5:0.66907\n",
      "[2050]\ttrain-ndcg@5:0.66943\n",
      "[2060]\ttrain-ndcg@5:0.66980\n",
      "[2070]\ttrain-ndcg@5:0.67022\n",
      "[2080]\ttrain-ndcg@5:0.67050\n",
      "[2090]\ttrain-ndcg@5:0.67088\n",
      "[2100]\ttrain-ndcg@5:0.67132\n",
      "[2110]\ttrain-ndcg@5:0.67167\n",
      "[2120]\ttrain-ndcg@5:0.67209\n",
      "[2130]\ttrain-ndcg@5:0.67239\n",
      "[2140]\ttrain-ndcg@5:0.67271\n",
      "[2150]\ttrain-ndcg@5:0.67302\n",
      "[2160]\ttrain-ndcg@5:0.67342\n",
      "[2170]\ttrain-ndcg@5:0.67387\n",
      "[2180]\ttrain-ndcg@5:0.67425\n",
      "[2190]\ttrain-ndcg@5:0.67456\n",
      "[2200]\ttrain-ndcg@5:0.67493\n",
      "[2210]\ttrain-ndcg@5:0.67516\n",
      "[2220]\ttrain-ndcg@5:0.67555\n",
      "[2230]\ttrain-ndcg@5:0.67590\n",
      "[2240]\ttrain-ndcg@5:0.67618\n",
      "[2250]\ttrain-ndcg@5:0.67658\n",
      "[2260]\ttrain-ndcg@5:0.67685\n",
      "[2270]\ttrain-ndcg@5:0.67721\n",
      "[2280]\ttrain-ndcg@5:0.67757\n",
      "[2290]\ttrain-ndcg@5:0.67780\n",
      "[2300]\ttrain-ndcg@5:0.67827\n",
      "[2310]\ttrain-ndcg@5:0.67873\n",
      "[2320]\ttrain-ndcg@5:0.67894\n",
      "[2330]\ttrain-ndcg@5:0.67928\n",
      "[2340]\ttrain-ndcg@5:0.67956\n",
      "[2350]\ttrain-ndcg@5:0.67987\n",
      "[2360]\ttrain-ndcg@5:0.68017\n",
      "[2370]\ttrain-ndcg@5:0.68055\n",
      "[2380]\ttrain-ndcg@5:0.68082\n",
      "[2390]\ttrain-ndcg@5:0.68115\n",
      "[2399]\ttrain-ndcg@5:0.68147\n"
     ]
    }
   ],
   "execution_count": 6
  },
  {
   "metadata": {},
   "cell_type": "code",
   "source": [
    "pred = bst.predict(dvalid)\n",
    "print(pred)\n",
    "print(len(pred), len(group_valid))\n",
    "y_grouped = []\n",
    "output_grouped = []\n",
    "start = 0\n",
    "for cnt in group_valid:\n",
    "    end = start + cnt\n",
    "    y_grouped.append(y_valid[start:end].tolist())\n",
    "    output_grouped.append(pred[start:end])\n",
    "    start = end\n",
    "\n",
    "print(y_grouped[0])\n",
    "print(output_grouped[0])\n",
    "print(len(y_grouped), len(output_grouped))"
   ],
   "id": "9448d49eb2d009f7",
   "outputs": [],
   "execution_count": null
  },
  {
   "metadata": {},
   "cell_type": "code",
   "source": [
    "# ndcg = ndcg_score(output_grouped, y_grouped, k=5)\n",
    "# print(ndcg)\n",
    "ndcg_results = []\n",
    "for i in range(len(y_grouped)):\n",
    "    y1 = y_grouped[i]\n",
    "    y2 = output_grouped[i]\n",
    "    ndcg = ndcg_score(y_score=[y2], y_true=[y1], k=5)\n",
    "    ndcg_results.append(ndcg)\n",
    "    if i % 2000 == 0:\n",
    "        print(f'Group {i}, ndcg:{ndcg}.')\n",
    "# print(ndcg_results)\n",
    "print(np.mean(ndcg_results))"
   ],
   "id": "4d83d1b59d13206",
   "outputs": [],
   "execution_count": null
  },
  {
   "metadata": {
    "ExecuteTime": {
     "end_time": "2024-05-19T19:55:43.617429Z",
     "start_time": "2024-05-19T19:55:22.276297Z"
    }
   },
   "cell_type": "code",
   "source": [
    "bst.dump_model('models/bst.txt')\n",
    "print('saving model in json...')\n",
    "bst.save_model('models/bst.json')"
   ],
   "id": "1f3a4c06d997d114",
   "outputs": [
    {
     "name": "stdout",
     "output_type": "stream",
     "text": [
      "saving model in json...\n"
     ]
    }
   ],
   "execution_count": 7
  },
  {
   "metadata": {
    "ExecuteTime": {
     "end_time": "2024-05-19T20:01:01.226254Z",
     "start_time": "2024-05-19T20:00:37.782295Z"
    }
   },
   "cell_type": "code",
   "source": "test = pd.read_csv('./data/filled_test_set.csv')",
   "id": "453f2c0814cd13db",
   "outputs": [],
   "execution_count": 6
  },
  {
   "metadata": {
    "ExecuteTime": {
     "end_time": "2024-05-19T19:59:50.597742Z",
     "start_time": "2024-05-19T19:59:35.470096Z"
    }
   },
   "cell_type": "code",
   "source": [
    "# 从文本文件加载模型\n",
    "# with open('models/dump.raw.txt', 'r') as fd:\n",
    "#     model_text = fd.read()\n",
    "# \n",
    "# bst = xgb.Booster(model_file=model_text)\n",
    "# 从 txt 文件加载模型\n",
    "loaded_model = xgb.Booster()\n",
    "loaded_model.load_model('models/bst.json')\n"
   ],
   "id": "c358d6c36e904f10",
   "outputs": [],
   "execution_count": 3
  },
  {
   "metadata": {
    "ExecuteTime": {
     "end_time": "2024-05-19T20:06:05.377060Z",
     "start_time": "2024-05-19T20:04:42.994827Z"
    }
   },
   "cell_type": "code",
   "source": [
    "from pandas import DataFrame\n",
    "# test = test.drop(columns=['score'])\n",
    "features = test.columns.tolist()\n",
    "print(features)\n",
    "removed_features = ['score', 'srch_id', 'prop_id', 'orig_destination_distance', 'srch_children_count']\n",
    "for f in removed_features:\n",
    "    features.remove(f)\n",
    "group_test= test.groupby('srch_id')['srch_id'].count().values\n",
    "\n",
    "dtest = xgb.DMatrix(test[features], group=group_test)\n",
    "\n",
    "\n",
    "preds = loaded_model.predict(dtest)\n",
    "print(preds)"
   ],
   "id": "f4fdd0012d9719c6",
   "outputs": [
    {
     "name": "stdout",
     "output_type": "stream",
     "text": [
      "['srch_id', 'site_id', 'visitor_location_country_id', 'visitor_hist_starrating', 'visitor_hist_adr_usd', 'prop_country_id', 'prop_id', 'prop_starrating', 'prop_review_score', 'prop_brand_bool', 'prop_location_score1', 'prop_location_score2', 'prop_log_historical_price', 'price_usd', 'promotion_flag', 'srch_destination_id', 'srch_length_of_stay', 'srch_booking_window', 'srch_adults_count', 'srch_children_count', 'srch_room_count', 'srch_saturday_night_bool', 'srch_query_affinity_score', 'orig_destination_distance', 'random_bool', 'days', 'ump', 'price_diff', 'starrating_diff', 'count_window', 'comp_avg_rate', 'comp_avg_inv', 'comp_avg_rate_percent_diff', 'score', 'prop_starrating_mean', 'prop_starrating_median', 'prop_review_score_mean', 'prop_review_score_median', 'prop_location_score2_mean', 'prop_location_score2_median', 'prop_brand_bool_mean', 'prop_brand_bool_median', 'prop_log_historical_price_mean', 'prop_log_historical_price_median', 'visitor_hist_starrating_mean', 'visitor_hist_starrating_median', 'visitor_hist_adr_usd_mean', 'visitor_hist_adr_usd_median', 'comp_avg_rate_mean', 'comp_avg_rate_median', 'comp_avg_inv_mean', 'comp_avg_inv_median', 'comp_avg_rate_percent_diff_mean', 'comp_avg_rate_percent_diff_median', 'lr_score']\n",
      "score\n",
      "srch_id\n",
      "prop_id\n",
      "orig_destination_distance\n",
      "srch_children_count\n",
      "[-0.50682455 -0.5004555  -1.4939387  ... -0.84619695 -0.64834553\n",
      " -0.38310745]\n"
     ]
    }
   ],
   "execution_count": 9
  },
  {
   "metadata": {
    "ExecuteTime": {
     "end_time": "2024-05-19T20:06:59.068312Z",
     "start_time": "2024-05-19T20:06:36.402229Z"
    }
   },
   "cell_type": "code",
   "source": [
    "result = test[['srch_id', 'prop_id']]\n",
    "result['pred'] = preds\n",
    "sorted_df = result.groupby('srch_id').apply(lambda x: x.sort_values(by='pred', ascending=False))\n",
    "sorted_df.reset_index(drop=True, inplace=True)\n",
    "print(sorted_df)"
   ],
   "id": "d729a976ac403dbf",
   "outputs": [
    {
     "name": "stderr",
     "output_type": "stream",
     "text": [
      "C:\\Users\\china\\AppData\\Local\\Temp\\ipykernel_16252\\4062087720.py:2: SettingWithCopyWarning: \n",
      "A value is trying to be set on a copy of a slice from a DataFrame.\n",
      "Try using .loc[row_indexer,col_indexer] = value instead\n",
      "\n",
      "See the caveats in the documentation: https://pandas.pydata.org/pandas-docs/stable/user_guide/indexing.html#returning-a-view-versus-a-copy\n",
      "  result['pred'] = preds\n"
     ]
    },
    {
     "name": "stdout",
     "output_type": "stream",
     "text": [
      "         srch_id  prop_id      pred\n",
      "0              1    28181  0.649910\n",
      "1              1    54937  0.451010\n",
      "2              1    99484  0.444609\n",
      "3              1    61934  0.111719\n",
      "4              1    72090 -0.285386\n",
      "...          ...      ...       ...\n",
      "4959178   332787    99509 -0.383107\n",
      "4959179   332787    94437 -0.648346\n",
      "4959180   332787    32019 -0.689581\n",
      "4959181   332787    35240 -0.846197\n",
      "4959182   332787    29018 -0.944422\n",
      "\n",
      "[4959183 rows x 3 columns]\n"
     ]
    },
    {
     "name": "stderr",
     "output_type": "stream",
     "text": [
      "C:\\Users\\china\\AppData\\Local\\Temp\\ipykernel_16252\\4062087720.py:3: DeprecationWarning: DataFrameGroupBy.apply operated on the grouping columns. This behavior is deprecated, and in a future version of pandas the grouping columns will be excluded from the operation. Either pass `include_groups=False` to exclude the groupings or explicitly select the grouping columns after groupby to silence this warning.\n",
      "  sorted_df = result.groupby('srch_id').apply(lambda x: x.sort_values(by='pred', ascending=False))\n"
     ]
    }
   ],
   "execution_count": 10
  },
  {
   "metadata": {
    "ExecuteTime": {
     "end_time": "2024-05-19T20:07:30.889491Z",
     "start_time": "2024-05-19T20:07:28.771410Z"
    }
   },
   "cell_type": "code",
   "source": [
    "final_res = sorted_df[['srch_id', 'prop_id']]\n",
    "final_res = final_res.astype(int)\n",
    "print(final_res)\n",
    "final_res.to_csv('./data/bst_res.csv', index=False)"
   ],
   "id": "606fa2017fdf7060",
   "outputs": [
    {
     "name": "stdout",
     "output_type": "stream",
     "text": [
      "         srch_id  prop_id\n",
      "0              1    28181\n",
      "1              1    54937\n",
      "2              1    99484\n",
      "3              1    61934\n",
      "4              1    72090\n",
      "...          ...      ...\n",
      "4959178   332787    99509\n",
      "4959179   332787    94437\n",
      "4959180   332787    32019\n",
      "4959181   332787    35240\n",
      "4959182   332787    29018\n",
      "\n",
      "[4959183 rows x 2 columns]\n"
     ]
    }
   ],
   "execution_count": 11
  },
  {
   "metadata": {},
   "cell_type": "code",
   "outputs": [],
   "execution_count": null,
   "source": "",
   "id": "83a05775b56da9b6"
  }
 ],
 "metadata": {
  "kernelspec": {
   "display_name": "Python 3",
   "language": "python",
   "name": "python3"
  },
  "language_info": {
   "codemirror_mode": {
    "name": "ipython",
    "version": 2
   },
   "file_extension": ".py",
   "mimetype": "text/x-python",
   "name": "python",
   "nbconvert_exporter": "python",
   "pygments_lexer": "ipython2",
   "version": "2.7.6"
  }
 },
 "nbformat": 4,
 "nbformat_minor": 5
}
