{
 "cells": [
  {
   "cell_type": "code",
   "id": "initial_id",
   "metadata": {
    "collapsed": true,
    "ExecuteTime": {
     "end_time": "2024-05-17T18:42:46.704034Z",
     "start_time": "2024-05-17T18:42:46.547213Z"
    }
   },
   "source": [
    "import time\n",
    "\n",
    "import numpy as np\n",
    "import pandas as pd\n",
    "import xgboost as xgb\n",
    "from sklearn.metrics import ndcg_score"
   ],
   "outputs": [],
   "execution_count": 1
  },
  {
   "metadata": {
    "ExecuteTime": {
     "end_time": "2024-05-17T18:42:54.774990Z",
     "start_time": "2024-05-17T18:42:46.704034Z"
    }
   },
   "cell_type": "code",
   "source": [
    "# 加载CSV数据\n",
    "print('Reading data...')\n",
    "start_time = time.time()\n",
    "data = pd.read_csv('./data/filled_training_set.csv')\n",
    "print(f'Data read in {time.time() - start_time} s')"
   ],
   "id": "5f46f1c2e4132c96",
   "outputs": [
    {
     "name": "stdout",
     "output_type": "stream",
     "text": [
      "Reading data...\n",
      "Data read in 8.052088260650635 s\n"
     ]
    }
   ],
   "execution_count": 2
  },
  {
   "metadata": {
    "ExecuteTime": {
     "end_time": "2024-05-17T18:42:56.626688Z",
     "start_time": "2024-05-17T18:42:54.774990Z"
    }
   },
   "cell_type": "code",
   "source": [
    "# 将数据分割为训练集和验证集\n",
    "# train, valid = train_test_split(data, test_size=0.2, random_state=2022)\n",
    "train_size = int(len(data) * 0.8)\n",
    "train = data[:train_size]\n",
    "valid = data[train_size:]\n",
    "\n",
    "# 构建XGBoost DMatrix\n",
    "features = data.columns.tolist()\n",
    "features.remove('score')\n",
    "print(features)\n",
    "X_train = train[features]\n",
    "y_train = train['score']\n",
    "group_train = train.groupby('srch_id')['score'].count().values\n",
    "dtrain = xgb.DMatrix(X_train, y_train, group=group_train)\n",
    "# dtrain = xgb.DMatrix(X_train, y_train, group=[len(y_train)//len(train['srch_id'].unique())] * len(train['srch_id'].unique()))\n",
    "\n",
    "X_valid = valid[features]\n",
    "y_valid = valid['score']\n",
    "group_valid = valid.groupby('srch_id')['score'].count().values\n",
    "dvalid = xgb.DMatrix(X_valid, y_valid, group=group_valid)\n",
    "# dvalid = xgb.DMatrix(X_valid, y_valid, group=[len(y_valid)//len(valid['srch_id'].unique())] * len(valid['srch_id'].unique()))\n",
    "print(group_valid)\n",
    "# print(y_train)\n"
   ],
   "id": "cdb41a375819fb2b",
   "outputs": [
    {
     "name": "stdout",
     "output_type": "stream",
     "text": [
      "['srch_id', 'site_id', 'visitor_location_country_id', 'visitor_hist_starrating', 'visitor_hist_adr_usd', 'prop_country_id', 'prop_id', 'prop_starrating', 'prop_review_score', 'prop_brand_bool', 'prop_location_score1', 'prop_location_score2', 'prop_log_historical_price', 'price_usd', 'promotion_flag', 'srch_destination_id', 'srch_length_of_stay', 'srch_booking_window', 'srch_adults_count', 'srch_children_count', 'srch_room_count', 'srch_saturday_night_bool', 'srch_query_affinity_score', 'random_bool', 'year', 'month', 'comp_avg_rate', 'comp_avg_inv', 'comp_avg_rate_percent_diff']\n",
      "[27 13 32 ... 24 28  6]\n"
     ]
    }
   ],
   "execution_count": 3
  },
  {
   "metadata": {
    "ExecuteTime": {
     "end_time": "2024-05-17T18:51:56.129495Z",
     "start_time": "2024-05-17T18:47:15.006008Z"
    }
   },
   "cell_type": "code",
   "source": [
    "# 设置排序任务的参数\n",
    "params = {\n",
    "    'objective': 'rank:ndcg',\n",
    "    'eta': 0.01,\n",
    "    'max_depth': 10,\n",
    "    'gamma': 1.0,\n",
    "    'min_child_weight': 0.1,\n",
    "    'subsample': 0.7,\n",
    "    'colsample_bytree': 0.7,\n",
    "    'eval_metric': 'ndcg@5',  # 使用NDCG@5作为评估指标\n",
    "    # 'seed': 2022,\n",
    "    'tree_method': 'hist',\n",
    "    # 'lambda': 1.2,\n",
    "}\n",
    "# from sklearn.metrics import make_scorer, ndcg_score\n",
    "\n",
    "\n",
    "# 将函数转换为scorer\n",
    "# ndcg_scorer = make_scorer(ndcg_score, k=5)\n",
    "\n",
    "# params = {\n",
    "#     'objective': 'rank:ndcg',\n",
    "#     'tree_method': 'hist',\n",
    "#     'seed': 2022,\n",
    "# }\n",
    "\n",
    "# param_grid = {\n",
    "#     'eta': [0.01, 0.03, 0.1, 0.3],\n",
    "#     'max_depth': [4, 6, 8, 10],\n",
    "#     'min_child_weight': [1, 3, 5],\n",
    "#     'subsample': [0.5, 0.7, 0.9],\n",
    "#     'colsample_bytree': [0.5, 0.7, 0.9],\n",
    "#     'gamma': [0, 0.1, 0.2, 0.3],\n",
    "# }\n",
    "# xgb_model = xgb.XGBRegressor(**params)\n",
    "# grid_search = GridSearchCV(xgb_model, param_grid, cv=5, scoring=ndcg_scorer, n_jobs=-1, verbose=2)\n",
    "# grid_search.fit(X_train, y_train, eval_set=[(X_valid, y_valid)], early_stopping_rounds=50, verbose=False)\n",
    "\n",
    "# 输出最佳参数\n",
    "# print(f\"Best parameters: {grid_search.best_params_}\")\n",
    "# print(f\"Best NDCG@5 score: {grid_search.best_score_}\")\n",
    "\n",
    "# 训练模型\n",
    "bst = xgb.train(params, dtrain, num_boost_round=2000, evals=[(dtrain, 'train'), (dvalid, 'valid')], verbose_eval=50)\n"
   ],
   "id": "cc56b104ce01961f",
   "outputs": [
    {
     "name": "stdout",
     "output_type": "stream",
     "text": [
      "[0]\ttrain-ndcg@5:0.30636\tvalid-ndcg@5:0.29565\n",
      "[10]\ttrain-ndcg@5:0.39291\tvalid-ndcg@5:0.34414\n",
      "[20]\ttrain-ndcg@5:0.40872\tvalid-ndcg@5:0.35067\n",
      "[30]\ttrain-ndcg@5:0.41809\tvalid-ndcg@5:0.35630\n",
      "[40]\ttrain-ndcg@5:0.42263\tvalid-ndcg@5:0.35676\n",
      "[50]\ttrain-ndcg@5:0.42870\tvalid-ndcg@5:0.35889\n",
      "[60]\ttrain-ndcg@5:0.43195\tvalid-ndcg@5:0.35933\n",
      "[70]\ttrain-ndcg@5:0.43394\tvalid-ndcg@5:0.36067\n",
      "[80]\ttrain-ndcg@5:0.43757\tvalid-ndcg@5:0.36133\n",
      "[90]\ttrain-ndcg@5:0.44059\tvalid-ndcg@5:0.36187\n",
      "[100]\ttrain-ndcg@5:0.44320\tvalid-ndcg@5:0.36294\n",
      "[110]\ttrain-ndcg@5:0.44677\tvalid-ndcg@5:0.36448\n",
      "[120]\ttrain-ndcg@5:0.44944\tvalid-ndcg@5:0.36520\n",
      "[130]\ttrain-ndcg@5:0.45132\tvalid-ndcg@5:0.36559\n",
      "[140]\ttrain-ndcg@5:0.45336\tvalid-ndcg@5:0.36555\n",
      "[150]\ttrain-ndcg@5:0.45478\tvalid-ndcg@5:0.36606\n",
      "[160]\ttrain-ndcg@5:0.45625\tvalid-ndcg@5:0.36626\n",
      "[170]\ttrain-ndcg@5:0.45754\tvalid-ndcg@5:0.36617\n",
      "[180]\ttrain-ndcg@5:0.45937\tvalid-ndcg@5:0.36633\n",
      "[190]\ttrain-ndcg@5:0.46083\tvalid-ndcg@5:0.36691\n",
      "[200]\ttrain-ndcg@5:0.46186\tvalid-ndcg@5:0.36654\n",
      "[210]\ttrain-ndcg@5:0.46322\tvalid-ndcg@5:0.36697\n",
      "[220]\ttrain-ndcg@5:0.46503\tvalid-ndcg@5:0.36777\n",
      "[230]\ttrain-ndcg@5:0.46642\tvalid-ndcg@5:0.36772\n",
      "[240]\ttrain-ndcg@5:0.46727\tvalid-ndcg@5:0.36775\n",
      "[250]\ttrain-ndcg@5:0.46841\tvalid-ndcg@5:0.36833\n",
      "[260]\ttrain-ndcg@5:0.46960\tvalid-ndcg@5:0.36830\n",
      "[270]\ttrain-ndcg@5:0.47082\tvalid-ndcg@5:0.36849\n",
      "[280]\ttrain-ndcg@5:0.47183\tvalid-ndcg@5:0.36854\n",
      "[290]\ttrain-ndcg@5:0.47299\tvalid-ndcg@5:0.36863\n",
      "[300]\ttrain-ndcg@5:0.47420\tvalid-ndcg@5:0.36843\n",
      "[310]\ttrain-ndcg@5:0.47506\tvalid-ndcg@5:0.36915\n",
      "[320]\ttrain-ndcg@5:0.47612\tvalid-ndcg@5:0.36876\n",
      "[330]\ttrain-ndcg@5:0.47725\tvalid-ndcg@5:0.36896\n",
      "[340]\ttrain-ndcg@5:0.47809\tvalid-ndcg@5:0.36919\n",
      "[350]\ttrain-ndcg@5:0.47910\tvalid-ndcg@5:0.36947\n",
      "[360]\ttrain-ndcg@5:0.48003\tvalid-ndcg@5:0.36947\n",
      "[370]\ttrain-ndcg@5:0.48115\tvalid-ndcg@5:0.36897\n",
      "[380]\ttrain-ndcg@5:0.48191\tvalid-ndcg@5:0.36927\n",
      "[390]\ttrain-ndcg@5:0.48274\tvalid-ndcg@5:0.36972\n",
      "[400]\ttrain-ndcg@5:0.48354\tvalid-ndcg@5:0.36987\n",
      "[410]\ttrain-ndcg@5:0.48457\tvalid-ndcg@5:0.37012\n",
      "[420]\ttrain-ndcg@5:0.48560\tvalid-ndcg@5:0.37043\n",
      "[430]\ttrain-ndcg@5:0.48635\tvalid-ndcg@5:0.37070\n",
      "[440]\ttrain-ndcg@5:0.48694\tvalid-ndcg@5:0.37085\n",
      "[450]\ttrain-ndcg@5:0.48778\tvalid-ndcg@5:0.37087\n",
      "[460]\ttrain-ndcg@5:0.48849\tvalid-ndcg@5:0.37090\n",
      "[470]\ttrain-ndcg@5:0.48905\tvalid-ndcg@5:0.37130\n",
      "[480]\ttrain-ndcg@5:0.49005\tvalid-ndcg@5:0.37117\n",
      "[490]\ttrain-ndcg@5:0.49065\tvalid-ndcg@5:0.37124\n",
      "[500]\ttrain-ndcg@5:0.49171\tvalid-ndcg@5:0.37143\n",
      "[510]\ttrain-ndcg@5:0.49251\tvalid-ndcg@5:0.37143\n",
      "[520]\ttrain-ndcg@5:0.49332\tvalid-ndcg@5:0.37155\n",
      "[530]\ttrain-ndcg@5:0.49437\tvalid-ndcg@5:0.37149\n",
      "[540]\ttrain-ndcg@5:0.49503\tvalid-ndcg@5:0.37206\n",
      "[550]\ttrain-ndcg@5:0.49574\tvalid-ndcg@5:0.37157\n",
      "[560]\ttrain-ndcg@5:0.49649\tvalid-ndcg@5:0.37161\n",
      "[570]\ttrain-ndcg@5:0.49729\tvalid-ndcg@5:0.37158\n",
      "[580]\ttrain-ndcg@5:0.49804\tvalid-ndcg@5:0.37151\n",
      "[590]\ttrain-ndcg@5:0.49864\tvalid-ndcg@5:0.37142\n",
      "[600]\ttrain-ndcg@5:0.49946\tvalid-ndcg@5:0.37170\n",
      "[610]\ttrain-ndcg@5:0.50022\tvalid-ndcg@5:0.37167\n",
      "[620]\ttrain-ndcg@5:0.50100\tvalid-ndcg@5:0.37185\n",
      "[630]\ttrain-ndcg@5:0.50163\tvalid-ndcg@5:0.37183\n",
      "[640]\ttrain-ndcg@5:0.50233\tvalid-ndcg@5:0.37198\n",
      "[650]\ttrain-ndcg@5:0.50308\tvalid-ndcg@5:0.37222\n",
      "[660]\ttrain-ndcg@5:0.50369\tvalid-ndcg@5:0.37255\n",
      "[670]\ttrain-ndcg@5:0.50453\tvalid-ndcg@5:0.37259\n",
      "[680]\ttrain-ndcg@5:0.50515\tvalid-ndcg@5:0.37269\n",
      "[690]\ttrain-ndcg@5:0.50564\tvalid-ndcg@5:0.37266\n",
      "[700]\ttrain-ndcg@5:0.50644\tvalid-ndcg@5:0.37286\n",
      "[710]\ttrain-ndcg@5:0.50695\tvalid-ndcg@5:0.37260\n",
      "[720]\ttrain-ndcg@5:0.50757\tvalid-ndcg@5:0.37277\n",
      "[730]\ttrain-ndcg@5:0.50839\tvalid-ndcg@5:0.37283\n",
      "[740]\ttrain-ndcg@5:0.50897\tvalid-ndcg@5:0.37289\n",
      "[750]\ttrain-ndcg@5:0.50953\tvalid-ndcg@5:0.37274\n",
      "[760]\ttrain-ndcg@5:0.51009\tvalid-ndcg@5:0.37275\n",
      "[770]\ttrain-ndcg@5:0.51073\tvalid-ndcg@5:0.37282\n",
      "[780]\ttrain-ndcg@5:0.51146\tvalid-ndcg@5:0.37304\n",
      "[790]\ttrain-ndcg@5:0.51196\tvalid-ndcg@5:0.37299\n",
      "[800]\ttrain-ndcg@5:0.51251\tvalid-ndcg@5:0.37323\n",
      "[810]\ttrain-ndcg@5:0.51298\tvalid-ndcg@5:0.37299\n",
      "[820]\ttrain-ndcg@5:0.51370\tvalid-ndcg@5:0.37304\n",
      "[830]\ttrain-ndcg@5:0.51416\tvalid-ndcg@5:0.37320\n",
      "[840]\ttrain-ndcg@5:0.51468\tvalid-ndcg@5:0.37313\n",
      "[850]\ttrain-ndcg@5:0.51534\tvalid-ndcg@5:0.37305\n",
      "[860]\ttrain-ndcg@5:0.51593\tvalid-ndcg@5:0.37287\n",
      "[870]\ttrain-ndcg@5:0.51642\tvalid-ndcg@5:0.37305\n",
      "[880]\ttrain-ndcg@5:0.51695\tvalid-ndcg@5:0.37307\n",
      "[890]\ttrain-ndcg@5:0.51751\tvalid-ndcg@5:0.37280\n",
      "[900]\ttrain-ndcg@5:0.51831\tvalid-ndcg@5:0.37318\n",
      "[910]\ttrain-ndcg@5:0.51867\tvalid-ndcg@5:0.37340\n",
      "[920]\ttrain-ndcg@5:0.51925\tvalid-ndcg@5:0.37334\n",
      "[930]\ttrain-ndcg@5:0.51979\tvalid-ndcg@5:0.37338\n",
      "[940]\ttrain-ndcg@5:0.52036\tvalid-ndcg@5:0.37334\n",
      "[950]\ttrain-ndcg@5:0.52089\tvalid-ndcg@5:0.37343\n",
      "[960]\ttrain-ndcg@5:0.52153\tvalid-ndcg@5:0.37360\n",
      "[970]\ttrain-ndcg@5:0.52195\tvalid-ndcg@5:0.37363\n",
      "[980]\ttrain-ndcg@5:0.52255\tvalid-ndcg@5:0.37345\n",
      "[990]\ttrain-ndcg@5:0.52295\tvalid-ndcg@5:0.37322\n",
      "[999]\ttrain-ndcg@5:0.52357\tvalid-ndcg@5:0.37337\n"
     ]
    }
   ],
   "execution_count": 5
  },
  {
   "metadata": {},
   "cell_type": "code",
   "outputs": [],
   "execution_count": null,
   "source": [
    "\n",
    "pred = bst.predict(dvalid)\n",
    "print(pred)\n",
    "print(group_valid)\n",
    "print(len(pred), len(group_valid))\n",
    "\n",
    "print(len(pred))\n",
    "print(len(y_valid))\n",
    "y_grouped = []\n",
    "output_grouped = []\n",
    "start = 0\n",
    "for cnt in group_valid:\n",
    "    end = start + cnt\n",
    "    y_grouped.append(y_valid[start:end])\n",
    "    output_grouped.append(pred[start:end])\n",
    "    start = end\n",
    "\n",
    "print(y_grouped)\n",
    "print(output_grouped)\n",
    "ndcg_results = []\n",
    "for i in range(len(group_valid)):\n",
    "    ndcg = ndcg_score([group_valid[i]], [output_grouped[i]], k=5)\n",
    "    ndcg_results.append(ndcg)\n",
    "    if i % 10000 == 0:\n",
    "        print(f'Group {i}, ndcg:{ndcg}.')\n",
    "# print(ndcg_results)\n",
    "print(np.mean(ndcg_results))\n",
    "\n",
    "bst.dump_model('dump.raw.txt')\n",
    "\n",
    "# # 在测试集上做预测\n",
    "# test_data = pd.read_csv('your_test_data.csv')\n",
    "# X_test = test_data[features]\n",
    "# group_test = [len(X_test)//len(test_data['srch_id'].unique())] * len(test_data['srch_id'].unique())\n",
    "# dtest = xgb.DMatrix(X_test, group=group_test)\n",
    "# preds = bst.predict(dtest)\n",
    "#\n",
    "# # 输出预测结果\n",
    "# for srch_id, prop_ids, scores in zip(test_data['srch_id'], test_data['prop_id'], preds):\n",
    "#     print(f'Query {srch_id} predictions:')\n",
    "#     for prop_id, score in zip(prop_ids, scores):\n",
    "#         print(f'  Product {prop_id}: {score}')"
   ],
   "id": "4071bb41ed812b60"
  }
 ],
 "metadata": {
  "kernelspec": {
   "display_name": "Python 3",
   "language": "python",
   "name": "python3"
  },
  "language_info": {
   "codemirror_mode": {
    "name": "ipython",
    "version": 2
   },
   "file_extension": ".py",
   "mimetype": "text/x-python",
   "name": "python",
   "nbconvert_exporter": "python",
   "pygments_lexer": "ipython2",
   "version": "2.7.6"
  }
 },
 "nbformat": 4,
 "nbformat_minor": 5
}
