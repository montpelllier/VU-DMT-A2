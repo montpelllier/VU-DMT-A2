{
 "cells": [
  {
   "cell_type": "code",
   "id": "initial_id",
   "metadata": {
    "collapsed": true
   },
   "source": [
    "import time\n",
    "\n",
    "import numpy as np\n",
    "import pandas as pd\n",
    "import xgboost as xgb\n",
    "from sklearn.metrics import ndcg_score"
   ],
   "outputs": [],
   "execution_count": null
  },
  {
   "metadata": {},
   "cell_type": "code",
   "source": [
    "# 加载CSV数据\n",
    "print('Reading data...')\n",
    "start_time = time.time()\n",
    "data = pd.read_csv('./data/filled_training_set1.csv')\n",
    "print(f'Data read in {time.time() - start_time} s')"
   ],
   "id": "5f46f1c2e4132c96",
   "outputs": [],
   "execution_count": null
  },
  {
   "metadata": {},
   "cell_type": "code",
   "source": [
    "# 将数据分割为训练集和验证集\n",
    "# train, valid = train_test_split(data, test_size=0.2, random_state=2022)\n",
    "train_size = int(len(data) * 0.8)\n",
    "train = data[:train_size]\n",
    "valid = data[train_size:]\n",
    "\n",
    "# 构建XGBoost DMatrix\n",
    "features = data.columns.tolist()\n",
    "features.remove('score')\n",
    "print(features)\n",
    "X_train = train[features]\n",
    "y_train = train['score']\n",
    "group_train = train.groupby('srch_id')['srch_id'].count().values\n",
    "dtrain = xgb.DMatrix(X_train, y_train, group=group_train)\n",
    "# dtrain = xgb.DMatrix(X_train, y_train, group=[len(y_train)//len(train['srch_id'].unique())] * len(train['srch_id'].unique()))\n",
    "\n",
    "X_valid = valid[features]\n",
    "y_valid = valid['score']\n",
    "group_valid = valid.groupby('srch_id')['srch_id'].count().values\n",
    "dvalid = xgb.DMatrix(X_valid, y_valid, group=group_valid)\n",
    "# dvalid = xgb.DMatrix(X_valid, y_valid, group=[len(y_valid)//len(valid['srch_id'].unique())] * len(valid['srch_id'].unique()))\n",
    "print(group_valid)"
   ],
   "id": "cdb41a375819fb2b",
   "outputs": [],
   "execution_count": null
  },
  {
   "metadata": {},
   "cell_type": "code",
   "source": [
    "# 设置排序任务的参数\n",
    "params = {\n",
    "    'objective': 'rank:ndcg',\n",
    "    'eta': 0.02,\n",
    "    'max_depth': 8,\n",
    "    'gamma': 1.0,\n",
    "    'min_child_weight': 0.1,\n",
    "    'subsample': 0.7,\n",
    "    'colsample_bytree': 0.7,\n",
    "    'eval_metric': 'ndcg@5',  # 使用NDCG@5作为评估指标\n",
    "    # 'seed': 2022,\n",
    "    'tree_method': 'hist',\n",
    "    # 'lambda': 1.2,\n",
    "}\n",
    "# from sklearn.metrics import make_scorer, ndcg_score\n",
    "\n",
    "\n",
    "# 将函数转换为scorer\n",
    "# ndcg_scorer = make_scorer(ndcg_score, k=5)\n",
    "\n",
    "# params = {\n",
    "#     'objective': 'rank:ndcg',\n",
    "#     'tree_method': 'hist',\n",
    "#     'seed': 2022,\n",
    "# }\n",
    "\n",
    "# param_grid = {\n",
    "#     'eta': [0.01, 0.03, 0.1, 0.3],\n",
    "#     'max_depth': [4, 6, 8, 10],\n",
    "#     'min_child_weight': [1, 3, 5],\n",
    "#     'subsample': [0.5, 0.7, 0.9],\n",
    "#     'colsample_bytree': [0.5, 0.7, 0.9],\n",
    "#     'gamma': [0, 0.1, 0.2, 0.3],\n",
    "# }\n",
    "# xgb_model = xgb.XGBRegressor(**params)\n",
    "# grid_search = GridSearchCV(xgb_model, param_grid, cv=5, scoring=ndcg_scorer, n_jobs=-1, verbose=2)\n",
    "# grid_search.fit(X_train, y_train, eval_set=[(X_valid, y_valid)], early_stopping_rounds=50, verbose=False)\n",
    "\n",
    "# 输出最佳参数\n",
    "# print(f\"Best parameters: {grid_search.best_params_}\")\n",
    "# print(f\"Best NDCG@5 score: {grid_search.best_score_}\")\n",
    "\n",
    "# 训练模型\n",
    "bst = xgb.train(params, dtrain, num_boost_round=1000, evals=[(dtrain, 'train'), (dvalid, 'valid')], verbose_eval=50)"
   ],
   "id": "cc56b104ce01961f",
   "outputs": [],
   "execution_count": null
  },
  {
   "metadata": {},
   "cell_type": "code",
   "source": [
    "X = data[features]\n",
    "y = data['score']\n",
    "group_data= X.groupby('srch_id')['srch_id'].count().values\n",
    "dm = xgb.DMatrix(X, y, group=group_data)"
   ],
   "id": "8c4e8ea4c5a49504",
   "outputs": [],
   "execution_count": null
  },
  {
   "metadata": {},
   "cell_type": "code",
   "source": "bst = xgb.train(params, dm, num_boost_round=2500, evals=[(dm, 'train')], verbose_eval=50)",
   "id": "91050ee3b8b508cd",
   "outputs": [],
   "execution_count": null
  },
  {
   "metadata": {},
   "cell_type": "code",
   "source": [
    "pred = bst.predict(dvalid)\n",
    "print(pred)\n",
    "print(len(pred), len(group_valid))\n",
    "y_grouped = []\n",
    "output_grouped = []\n",
    "start = 0\n",
    "for cnt in group_valid:\n",
    "    end = start + cnt\n",
    "    y_grouped.append(y_valid[start:end].tolist())\n",
    "    output_grouped.append(pred[start:end])\n",
    "    start = end\n",
    "\n",
    "print(y_grouped[0])\n",
    "print(output_grouped[0])\n",
    "print(len(y_grouped), len(output_grouped))"
   ],
   "id": "9448d49eb2d009f7",
   "outputs": [],
   "execution_count": null
  },
  {
   "metadata": {},
   "cell_type": "code",
   "source": [
    "# ndcg = ndcg_score(output_grouped, y_grouped, k=5)\n",
    "# print(ndcg)\n",
    "ndcg_results = []\n",
    "for i in range(len(y_grouped)):\n",
    "    y1 = y_grouped[i]\n",
    "    y2 = output_grouped[i]\n",
    "    ndcg = ndcg_score(y_score=[y2], y_true=[y1], k=5)\n",
    "    ndcg_results.append(ndcg)\n",
    "    if i % 2000 == 0:\n",
    "        print(f'Group {i}, ndcg:{ndcg}.')\n",
    "# print(ndcg_results)\n",
    "print(np.mean(ndcg_results))"
   ],
   "id": "4d83d1b59d13206",
   "outputs": [],
   "execution_count": null
  },
  {
   "metadata": {},
   "cell_type": "code",
   "source": [
    "bst.dump_model('models/bst.txt')\n",
    "print('saving model in json...')\n",
    "bst.save_model('models/bst.json')"
   ],
   "id": "1f3a4c06d997d114",
   "outputs": [],
   "execution_count": null
  },
  {
   "metadata": {},
   "cell_type": "code",
   "source": "test = pd.read_csv('./data/filled_test_set.csv')",
   "id": "453f2c0814cd13db",
   "outputs": [],
   "execution_count": null
  },
  {
   "metadata": {},
   "cell_type": "code",
   "source": [
    "# 从文本文件加载模型\n",
    "# with open('models/dump.raw.txt', 'r') as fd:\n",
    "#     model_text = fd.read()\n",
    "# \n",
    "# bst = xgb.Booster(model_file=model_text)\n",
    "# 从 txt 文件加载模型\n",
    "loaded_model = xgb.Booster()\n",
    "loaded_model.load_model('models/bst.json')\n"
   ],
   "id": "c358d6c36e904f10",
   "outputs": [],
   "execution_count": null
  },
  {
   "metadata": {},
   "cell_type": "code",
   "source": [
    "from pandas import DataFrame\n",
    "test = test.drop(columns=['score'])\n",
    "group_test= test.groupby('srch_id')['srch_id'].count().values\n",
    "\n",
    "dtest = xgb.DMatrix(test, group=group_test)\n",
    "\n",
    "\n",
    "preds = loaded_model.predict(dtest)\n",
    "print(preds)"
   ],
   "id": "f4fdd0012d9719c6",
   "outputs": [],
   "execution_count": null
  },
  {
   "metadata": {
    "ExecuteTime": {
     "end_time": "2024-05-17T21:31:08.260Z",
     "start_time": "2024-05-17T21:30:44.380850Z"
    }
   },
   "cell_type": "code",
   "source": [
    "result = test[['srch_id', 'prop_id']]\n",
    "result['pred'] = preds\n",
    "sorted_df = result.groupby('srch_id').apply(lambda x: x.sort_values(by='pred', ascending=False))\n",
    "sorted_df.reset_index(drop=True, inplace=True)\n",
    "print(sorted_df)"
   ],
   "id": "d729a976ac403dbf",
   "outputs": [
    {
     "name": "stderr",
     "output_type": "stream",
     "text": [
      "C:\\Users\\china\\AppData\\Local\\Temp\\ipykernel_13824\\4062087720.py:2: SettingWithCopyWarning: \n",
      "A value is trying to be set on a copy of a slice from a DataFrame.\n",
      "Try using .loc[row_indexer,col_indexer] = value instead\n",
      "\n",
      "See the caveats in the documentation: https://pandas.pydata.org/pandas-docs/stable/user_guide/indexing.html#returning-a-view-versus-a-copy\n",
      "  result['pred'] = preds\n"
     ]
    },
    {
     "name": "stdout",
     "output_type": "stream",
     "text": [
      "         srch_id  prop_id      pred\n",
      "0              1    54937  1.478797\n",
      "1              1    99484  1.256358\n",
      "2              1    61934  1.085763\n",
      "3              1    28181  1.008531\n",
      "4              1    24194  0.294274\n",
      "...          ...      ...       ...\n",
      "4959178   332787    32019  0.115624\n",
      "4959179   332787    99509 -0.050972\n",
      "4959180   332787    29018 -0.340200\n",
      "4959181   332787    94437 -0.358900\n",
      "4959182   332787    35240 -0.602464\n",
      "\n",
      "[4959183 rows x 3 columns]\n"
     ]
    },
    {
     "name": "stderr",
     "output_type": "stream",
     "text": [
      "C:\\Users\\china\\AppData\\Local\\Temp\\ipykernel_13824\\4062087720.py:3: DeprecationWarning: DataFrameGroupBy.apply operated on the grouping columns. This behavior is deprecated, and in a future version of pandas the grouping columns will be excluded from the operation. Either pass `include_groups=False` to exclude the groupings or explicitly select the grouping columns after groupby to silence this warning.\n",
      "  sorted_df = result.groupby('srch_id').apply(lambda x: x.sort_values(by='pred', ascending=False))\n"
     ]
    }
   ],
   "execution_count": 26
  },
  {
   "metadata": {
    "ExecuteTime": {
     "end_time": "2024-05-17T21:31:37.800603Z",
     "start_time": "2024-05-17T21:31:35.568875Z"
    }
   },
   "cell_type": "code",
   "source": [
    "final_res = sorted_df[['srch_id', 'prop_id']]\n",
    "final_res = final_res.astype(int)\n",
    "print(final_res)\n",
    "final_res.to_csv('./data/bst_res.csv', index=False)"
   ],
   "id": "606fa2017fdf7060",
   "outputs": [
    {
     "name": "stdout",
     "output_type": "stream",
     "text": [
      "         srch_id  prop_id\n",
      "0              1    54937\n",
      "1              1    99484\n",
      "2              1    61934\n",
      "3              1    28181\n",
      "4              1    24194\n",
      "...          ...      ...\n",
      "4959178   332787    32019\n",
      "4959179   332787    99509\n",
      "4959180   332787    29018\n",
      "4959181   332787    94437\n",
      "4959182   332787    35240\n",
      "\n",
      "[4959183 rows x 2 columns]\n"
     ]
    }
   ],
   "execution_count": 27
  },
  {
   "metadata": {},
   "cell_type": "code",
   "outputs": [],
   "execution_count": null,
   "source": "",
   "id": "83a05775b56da9b6"
  }
 ],
 "metadata": {
  "kernelspec": {
   "display_name": "Python 3",
   "language": "python",
   "name": "python3"
  },
  "language_info": {
   "codemirror_mode": {
    "name": "ipython",
    "version": 2
   },
   "file_extension": ".py",
   "mimetype": "text/x-python",
   "name": "python",
   "nbconvert_exporter": "python",
   "pygments_lexer": "ipython2",
   "version": "2.7.6"
  }
 },
 "nbformat": 4,
 "nbformat_minor": 5
}
