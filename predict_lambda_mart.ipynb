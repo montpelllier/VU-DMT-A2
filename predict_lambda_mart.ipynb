{
 "cells": [
  {
   "cell_type": "code",
   "id": "initial_id",
   "metadata": {
    "collapsed": true,
    "ExecuteTime": {
     "end_time": "2024-05-12T14:24:57.707948Z",
     "start_time": "2024-05-12T14:24:57.081674Z"
    }
   },
   "source": [
    "import pandas as pd\n",
    "import preprocessing"
   ],
   "outputs": [],
   "execution_count": 2
  },
  {
   "metadata": {
    "ExecuteTime": {
     "end_time": "2024-05-12T14:25:08.464189Z",
     "start_time": "2024-05-12T14:24:57.707948Z"
    }
   },
   "cell_type": "code",
   "source": [
    "test_data = pd.read_csv('./data/filled_test_set.csv')\n",
    "print(test_data.describe())\n",
    "nan_data_info = pd.DataFrame({'NaN Count': test_data.isna().sum(), 'Data Type': test_data.dtypes})\n",
    "print(nan_data_info)"
   ],
   "id": "52a8fa4735cb0e1",
   "outputs": [
    {
     "name": "stdout",
     "output_type": "stream",
     "text": [
      "            srch_id       site_id  visitor_location_country_id  \\\n",
      "count  4.959183e+06  4.959183e+06                 4.959183e+06   \n",
      "mean   1.666460e+05  9.979214e+00                 1.752504e+02   \n",
      "std    9.614992e+04  7.667722e+00                 6.590284e+01   \n",
      "min    1.000000e+00  1.000000e+00                 1.000000e+00   \n",
      "25%    8.331150e+04  5.000000e+00                 1.000000e+02   \n",
      "50%    1.670950e+05  5.000000e+00                 2.190000e+02   \n",
      "75%    2.499660e+05  1.400000e+01                 2.190000e+02   \n",
      "max    3.327870e+05  3.400000e+01                 2.310000e+02   \n",
      "\n",
      "       visitor_hist_starrating  visitor_hist_adr_usd  prop_country_id  \\\n",
      "count             4.959183e+06          4.959183e+06     4.959183e+06   \n",
      "mean              3.374933e+00          1.771507e+02     1.738371e+02   \n",
      "std               1.564156e-01          2.483270e+01     6.835006e+01   \n",
      "min               1.000000e+00          0.000000e+00     1.000000e+00   \n",
      "25%               3.374933e+00          1.771507e+02     1.000000e+02   \n",
      "50%               3.374933e+00          1.771507e+02     2.190000e+02   \n",
      "75%               3.374933e+00          1.771507e+02     2.190000e+02   \n",
      "max               5.000000e+00          2.768930e+03     2.300000e+02   \n",
      "\n",
      "            prop_id  prop_starrating  prop_review_score  prop_brand_bool  ...  \\\n",
      "count  4.959183e+06     4.959183e+06       4.959183e+06     4.959183e+06  ...   \n",
      "mean   7.008111e+04     3.182542e+00       3.776963e+00     6.339091e-01  ...   \n",
      "std    4.061363e+04     1.049358e+00       1.050804e+00     4.817348e-01  ...   \n",
      "min    1.000000e+00     0.000000e+00       0.000000e+00     0.000000e+00  ...   \n",
      "25%    3.502100e+04     3.000000e+00       3.500000e+00     0.000000e+00  ...   \n",
      "50%    6.960700e+04     3.000000e+00       4.000000e+00     1.000000e+00  ...   \n",
      "75%    1.051790e+05     4.000000e+00       4.500000e+00     1.000000e+00  ...   \n",
      "max    1.408210e+05     5.000000e+00       5.000000e+00     1.000000e+00  ...   \n",
      "\n",
      "       srch_children_count  srch_room_count  srch_saturday_night_bool  \\\n",
      "count         4.959183e+06     4.959183e+06              4.959183e+06   \n",
      "mean          3.469747e-01     1.111076e+00              4.983002e-01   \n",
      "std           7.268736e-01     4.309573e-01              4.999972e-01   \n",
      "min           0.000000e+00     1.000000e+00              0.000000e+00   \n",
      "25%           0.000000e+00     1.000000e+00              0.000000e+00   \n",
      "50%           0.000000e+00     1.000000e+00              0.000000e+00   \n",
      "75%           0.000000e+00     1.000000e+00              1.000000e+00   \n",
      "max           9.000000e+00     8.000000e+00              1.000000e+00   \n",
      "\n",
      "       srch_query_affinity_score   random_bool          year         month  \\\n",
      "count               4.959183e+06  4.959183e+06  4.959183e+06  4.959183e+06   \n",
      "mean               -6.098682e+02  2.969189e-01  2.012804e+03  5.157685e+00   \n",
      "std                 1.533287e+02  4.569005e-01  3.969703e-01  3.489590e+00   \n",
      "min                -6.500000e+02  0.000000e+00  2.012000e+03  1.000000e+00   \n",
      "25%                -6.500000e+02  0.000000e+00  2.013000e+03  3.000000e+00   \n",
      "50%                -6.500000e+02  0.000000e+00  2.013000e+03  4.000000e+00   \n",
      "75%                -6.500000e+02  1.000000e+00  2.013000e+03  6.000000e+00   \n",
      "max                -2.494100e+00  1.000000e+00  2.013000e+03  1.200000e+01   \n",
      "\n",
      "       comp_avg_rate  comp_avg_inv  comp_avg_rate_percent_diff  \n",
      "count   4.959183e+06  4.959183e+06                4.959183e+06  \n",
      "mean    2.003154e-02  4.260951e-02                3.683916e+01  \n",
      "std     3.488149e-01  1.826327e-01                8.009398e+02  \n",
      "min    -1.000000e+00 -1.000000e+00                2.000000e+00  \n",
      "25%     0.000000e+00  0.000000e+00                2.150000e+01  \n",
      "50%     0.000000e+00  0.000000e+00                3.683916e+01  \n",
      "75%     2.003154e-02  4.260951e-02                3.683916e+01  \n",
      "max     1.000000e+00  1.000000e+00                1.125686e+06  \n",
      "\n",
      "[8 rows x 29 columns]\n",
      "                             NaN Count Data Type\n",
      "srch_id                              0   float64\n",
      "site_id                              0   float64\n",
      "visitor_location_country_id          0   float64\n",
      "visitor_hist_starrating              0   float64\n",
      "visitor_hist_adr_usd                 0   float64\n",
      "prop_country_id                      0   float64\n",
      "prop_id                              0   float64\n",
      "prop_starrating                      0   float64\n",
      "prop_review_score                    0   float64\n",
      "prop_brand_bool                      0   float64\n",
      "prop_location_score1                 0   float64\n",
      "prop_location_score2                 0   float64\n",
      "prop_log_historical_price            0   float64\n",
      "price_usd                            0   float64\n",
      "promotion_flag                       0   float64\n",
      "srch_destination_id                  0   float64\n",
      "srch_length_of_stay                  0   float64\n",
      "srch_booking_window                  0   float64\n",
      "srch_adults_count                    0   float64\n",
      "srch_children_count                  0   float64\n",
      "srch_room_count                      0   float64\n",
      "srch_saturday_night_bool             0   float64\n",
      "srch_query_affinity_score            0   float64\n",
      "random_bool                          0   float64\n",
      "year                                 0   float64\n",
      "month                                0   float64\n",
      "comp_avg_rate                        0   float64\n",
      "comp_avg_inv                         0   float64\n",
      "comp_avg_rate_percent_diff           0   float64\n"
     ]
    }
   ],
   "execution_count": 3
  },
  {
   "metadata": {
    "ExecuteTime": {
     "end_time": "2024-05-12T14:26:33.852413Z",
     "start_time": "2024-05-12T14:26:33.633125Z"
    }
   },
   "cell_type": "code",
   "source": [
    "import joblib\n",
    "test_set = test_data.drop(columns=['prop_id', 'site_id', 'random_bool', 'random_bool', 'srch_destination_id', 'visitor_location_country_id'])\n",
    "model = joblib.load('models/lightgbm.pkl')"
   ],
   "id": "4d90f1515c95fde3",
   "outputs": [],
   "execution_count": 7
  },
  {
   "metadata": {
    "ExecuteTime": {
     "end_time": "2024-05-12T14:26:50.496568Z",
     "start_time": "2024-05-12T14:26:49.955939Z"
    }
   },
   "cell_type": "code",
   "source": [
    "qids = test_set.groupby(\"srch_id\")[\"srch_id\"].count().to_numpy()\n",
    "X = test_set.drop([\"srch_id\"], axis=1)\n",
    "print(X)"
   ],
   "id": "266c9a3768838fe5",
   "outputs": [
    {
     "name": "stdout",
     "output_type": "stream",
     "text": [
      "         visitor_hist_starrating  visitor_hist_adr_usd  prop_country_id  \\\n",
      "0                       3.374933             177.15073            219.0   \n",
      "1                       3.374933             177.15073            219.0   \n",
      "2                       3.374933             177.15073            219.0   \n",
      "3                       3.374933             177.15073            219.0   \n",
      "4                       3.374933             177.15073            219.0   \n",
      "...                          ...                   ...              ...   \n",
      "4959178                 3.374933             177.15073            117.0   \n",
      "4959179                 3.374933             177.15073            117.0   \n",
      "4959180                 3.374933             177.15073            117.0   \n",
      "4959181                 3.374933             177.15073            117.0   \n",
      "4959182                 3.374933             177.15073            117.0   \n",
      "\n",
      "         prop_starrating  prop_review_score  prop_brand_bool  \\\n",
      "0                    3.0                4.5              1.0   \n",
      "1                    3.0                4.5              1.0   \n",
      "2                    2.0                3.5              1.0   \n",
      "3                    3.0                4.5              1.0   \n",
      "4                    3.0                4.5              1.0   \n",
      "...                  ...                ...              ...   \n",
      "4959178              4.0                3.5              0.0   \n",
      "4959179              4.0                3.0              1.0   \n",
      "4959180              4.0                0.0              0.0   \n",
      "4959181              4.0                0.0              0.0   \n",
      "4959182              4.0                4.5              1.0   \n",
      "\n",
      "         prop_location_score1  prop_location_score2  \\\n",
      "0                        2.94              0.069100   \n",
      "1                        2.64              0.084300   \n",
      "2                        2.71              0.055600   \n",
      "3                        2.40              0.056100   \n",
      "4                        2.94              0.209000   \n",
      "...                       ...                   ...   \n",
      "4959178                  2.48              0.055100   \n",
      "4959179                  2.20              0.334400   \n",
      "4959180                  1.79              0.065515   \n",
      "4959181                  2.94              0.092800   \n",
      "4959182                  2.08              0.034400   \n",
      "\n",
      "         prop_log_historical_price  price_usd  ...  srch_adults_count  \\\n",
      "0                             5.03     119.00  ...                2.0   \n",
      "1                             4.93     118.00  ...                2.0   \n",
      "2                             4.16      49.00  ...                2.0   \n",
      "3                             5.03     143.00  ...                2.0   \n",
      "4                             4.72      79.00  ...                2.0   \n",
      "...                            ...        ...  ...                ...   \n",
      "4959178                       4.53      66.07  ...                1.0   \n",
      "4959179                       4.39      67.10  ...                1.0   \n",
      "4959180                       4.64      73.91  ...                1.0   \n",
      "4959181                       4.64      66.07  ...                1.0   \n",
      "4959182                       4.64      82.06  ...                1.0   \n",
      "\n",
      "         srch_children_count  srch_room_count  srch_saturday_night_bool  \\\n",
      "0                        0.0              1.0                       0.0   \n",
      "1                        0.0              1.0                       0.0   \n",
      "2                        0.0              1.0                       0.0   \n",
      "3                        0.0              1.0                       0.0   \n",
      "4                        0.0              1.0                       0.0   \n",
      "...                      ...              ...                       ...   \n",
      "4959178                  0.0              1.0                       0.0   \n",
      "4959179                  0.0              1.0                       0.0   \n",
      "4959180                  0.0              1.0                       0.0   \n",
      "4959181                  0.0              1.0                       0.0   \n",
      "4959182                  0.0              1.0                       0.0   \n",
      "\n",
      "         srch_query_affinity_score    year  month  comp_avg_rate  \\\n",
      "0                           -650.0  2013.0    2.0       0.020032   \n",
      "1                           -650.0  2013.0    2.0       0.000000   \n",
      "2                           -650.0  2013.0    2.0       0.500000   \n",
      "3                           -650.0  2013.0    2.0       0.000000   \n",
      "4                           -650.0  2013.0    2.0       0.000000   \n",
      "...                            ...     ...    ...            ...   \n",
      "4959178                     -650.0  2013.0    5.0       0.500000   \n",
      "4959179                     -650.0  2013.0    5.0       0.250000   \n",
      "4959180                     -650.0  2013.0    5.0       0.250000   \n",
      "4959181                     -650.0  2013.0    5.0       0.000000   \n",
      "4959182                     -650.0  2013.0    5.0       0.000000   \n",
      "\n",
      "         comp_avg_inv  comp_avg_rate_percent_diff  \n",
      "0             0.04261                   36.839165  \n",
      "1             0.00000                   36.839165  \n",
      "2             0.00000                   10.000000  \n",
      "3             0.00000                   36.839165  \n",
      "4             0.00000                   36.839165  \n",
      "...               ...                         ...  \n",
      "4959178       0.00000                   49.500000  \n",
      "4959179       0.00000                   19.000000  \n",
      "4959180       0.00000                   24.666667  \n",
      "4959181       0.00000                   27.500000  \n",
      "4959182       0.00000                   16.000000  \n",
      "\n",
      "[4959183 rows x 23 columns]\n"
     ]
    }
   ],
   "execution_count": 10
  },
  {
   "metadata": {
    "ExecuteTime": {
     "end_time": "2024-05-12T14:27:17.934046Z",
     "start_time": "2024-05-12T14:27:14.470319Z"
    }
   },
   "cell_type": "code",
   "source": [
    "output = model.predict(X)\n",
    "print(output)"
   ],
   "id": "ce13ae29f2d6e68a",
   "outputs": [
    {
     "name": "stdout",
     "output_type": "stream",
     "text": [
      "[ 0.08375423  0.03336948 -0.66657142 ... -0.40751584 -0.55832326\n",
      "  0.20740629]\n"
     ]
    }
   ],
   "execution_count": 11
  },
  {
   "metadata": {
    "ExecuteTime": {
     "end_time": "2024-05-12T14:28:25.024187Z",
     "start_time": "2024-05-12T14:28:24.961655Z"
    }
   },
   "cell_type": "code",
   "source": [
    "result = test_data[['srch_id', 'prop_id']]\n",
    "result['pred'] = output\n",
    "print(result)"
   ],
   "id": "9bde3c683288e6e",
   "outputs": [
    {
     "name": "stdout",
     "output_type": "stream",
     "text": [
      "          srch_id  prop_id      pred\n",
      "0             1.0   3180.0  0.083754\n",
      "1             1.0   5543.0  0.033369\n",
      "2             1.0  14142.0 -0.666571\n",
      "3             1.0  22393.0 -0.450701\n",
      "4             1.0  24194.0  0.873681\n",
      "...           ...      ...       ...\n",
      "4959178  332787.0  32019.0  0.012922\n",
      "4959179  332787.0  33959.0  1.491002\n",
      "4959180  332787.0  35240.0 -0.407516\n",
      "4959181  332787.0  94437.0 -0.558323\n",
      "4959182  332787.0  99509.0  0.207406\n",
      "\n",
      "[4959183 rows x 3 columns]\n"
     ]
    },
    {
     "name": "stderr",
     "output_type": "stream",
     "text": [
      "C:\\Users\\china\\AppData\\Local\\Temp\\ipykernel_3356\\4200473951.py:2: SettingWithCopyWarning: \n",
      "A value is trying to be set on a copy of a slice from a DataFrame.\n",
      "Try using .loc[row_indexer,col_indexer] = value instead\n",
      "\n",
      "See the caveats in the documentation: https://pandas.pydata.org/pandas-docs/stable/user_guide/indexing.html#returning-a-view-versus-a-copy\n",
      "  result['pred'] = output\n"
     ]
    }
   ],
   "execution_count": 12
  },
  {
   "metadata": {
    "ExecuteTime": {
     "end_time": "2024-05-12T14:30:09.072309Z",
     "start_time": "2024-05-12T14:29:47.778535Z"
    }
   },
   "cell_type": "code",
   "source": [
    "sorted_df = result.groupby('srch_id').apply(lambda x: x.sort_values(by='pred', ascending=False))\n",
    "sorted_df.reset_index(drop=True, inplace=True)"
   ],
   "id": "c7957a7935787883",
   "outputs": [
    {
     "name": "stdout",
     "output_type": "stream",
     "text": [
      "                   srch_id  prop_id      pred\n",
      "srch_id                                      \n",
      "1.0      23            1.0  99484.0  1.402691\n",
      "         9             1.0  54937.0  1.351685\n",
      "         12            1.0  61934.0  1.254387\n",
      "         5             1.0  28181.0  1.004039\n",
      "         4             1.0  24194.0  0.873681\n",
      "...                    ...      ...       ...\n",
      "332787.0 4959177  332787.0  29018.0  0.263190\n",
      "         4959182  332787.0  99509.0  0.207406\n",
      "         4959178  332787.0  32019.0  0.012922\n",
      "         4959180  332787.0  35240.0 -0.407516\n",
      "         4959181  332787.0  94437.0 -0.558323\n",
      "\n",
      "[4959183 rows x 3 columns]\n"
     ]
    },
    {
     "name": "stderr",
     "output_type": "stream",
     "text": [
      "C:\\Users\\china\\AppData\\Local\\Temp\\ipykernel_3356\\1858461019.py:1: DeprecationWarning: DataFrameGroupBy.apply operated on the grouping columns. This behavior is deprecated, and in a future version of pandas the grouping columns will be excluded from the operation. Either pass `include_groups=False` to exclude the groupings or explicitly select the grouping columns after groupby to silence this warning.\n",
      "  sorted_df = result.groupby('srch_id').apply(lambda x: x.sort_values(by='pred', ascending=False))\n"
     ]
    }
   ],
   "execution_count": 13
  },
  {
   "metadata": {
    "ExecuteTime": {
     "end_time": "2024-05-12T14:31:53.744633Z",
     "start_time": "2024-05-12T14:31:53.728969Z"
    }
   },
   "cell_type": "code",
   "source": "print(sorted_df)",
   "id": "225df44ac4c39193",
   "outputs": [
    {
     "name": "stdout",
     "output_type": "stream",
     "text": [
      "    srch_id   prop_id      pred\n",
      "29      3.0  131940.0  2.068683\n",
      "30      3.0   63039.0  1.130917\n",
      "31      3.0   46861.0  0.346563\n",
      "32      3.0   43133.0  0.268612\n",
      "33      3.0   79176.0  0.111417\n",
      "34      3.0   27753.0  0.061322\n",
      "35      3.0   11425.0 -0.040811\n",
      "36      3.0    6533.0 -0.323126\n",
      "37      3.0   47377.0 -0.340674\n",
      "38      3.0   91337.0 -0.409803\n",
      "39      3.0  131968.0 -0.428518\n",
      "40      3.0  132637.0 -0.581521\n",
      "41      3.0   96614.0 -0.592091\n",
      "42      3.0   80734.0 -0.628449\n",
      "43      3.0   43362.0 -0.636740\n",
      "44      3.0   24915.0 -0.653194\n",
      "45      3.0   32382.0 -0.679123\n",
      "46      3.0   47238.0 -1.010026\n",
      "47      3.0   90968.0 -1.096190\n",
      "48      3.0  119120.0 -1.118413\n",
      "49      3.0   22325.0 -1.147680\n",
      "50      3.0   71543.0 -1.174972\n",
      "51      3.0   64168.0 -1.185673\n",
      "52      3.0  124819.0 -1.188311\n",
      "53      3.0   45550.0 -1.255730\n",
      "54      3.0   93176.0 -1.315099\n",
      "55      3.0  131397.0 -1.726382\n",
      "56      6.0   24695.0  0.979521\n",
      "57      6.0   31470.0 -0.237506\n",
      "58      6.0  139558.0 -0.789322\n",
      "59      6.0   22970.0 -0.853346\n"
     ]
    }
   ],
   "execution_count": 15
  },
  {
   "metadata": {
    "ExecuteTime": {
     "end_time": "2024-05-12T14:33:15.206387Z",
     "start_time": "2024-05-12T14:33:13.191151Z"
    }
   },
   "cell_type": "code",
   "source": [
    "final_res = sorted_df[['srch_id', 'prop_id']]\n",
    "final_res = final_res.astype(int)\n",
    "print(final_res)\n",
    "final_res.to_csv('./data/final_res.csv', index=False)"
   ],
   "id": "4d1011c2c5582ce2",
   "outputs": [
    {
     "name": "stdout",
     "output_type": "stream",
     "text": [
      "         srch_id  prop_id\n",
      "0              1    99484\n",
      "1              1    54937\n",
      "2              1    61934\n",
      "3              1    28181\n",
      "4              1    24194\n",
      "...          ...      ...\n",
      "4959178   332787    29018\n",
      "4959179   332787    99509\n",
      "4959180   332787    32019\n",
      "4959181   332787    35240\n",
      "4959182   332787    94437\n",
      "\n",
      "[4959183 rows x 2 columns]\n"
     ]
    }
   ],
   "execution_count": 18
  },
  {
   "metadata": {},
   "cell_type": "code",
   "outputs": [],
   "execution_count": null,
   "source": "",
   "id": "3e4165b8f69f0eeb"
  }
 ],
 "metadata": {
  "kernelspec": {
   "display_name": "Python 3",
   "language": "python",
   "name": "python3"
  },
  "language_info": {
   "codemirror_mode": {
    "name": "ipython",
    "version": 2
   },
   "file_extension": ".py",
   "mimetype": "text/x-python",
   "name": "python",
   "nbconvert_exporter": "python",
   "pygments_lexer": "ipython2",
   "version": "2.7.6"
  }
 },
 "nbformat": 4,
 "nbformat_minor": 5
}
