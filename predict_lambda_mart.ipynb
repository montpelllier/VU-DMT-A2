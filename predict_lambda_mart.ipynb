{
 "cells": [
  {
   "cell_type": "code",
   "id": "initial_id",
   "metadata": {
    "collapsed": true,
    "ExecuteTime": {
     "end_time": "2024-05-18T15:30:19.700793Z",
     "start_time": "2024-05-18T15:30:16.082535Z"
    }
   },
   "source": "import pandas as pd",
   "outputs": [],
   "execution_count": 1
  },
  {
   "metadata": {
    "ExecuteTime": {
     "end_time": "2024-05-16T01:34:27.342046Z",
     "start_time": "2024-05-16T01:33:45.172588Z"
    }
   },
   "cell_type": "code",
   "source": [
    "test_data = pd.read_csv('./data/filled_test_set.csv')\n",
    "test_data = test_data.drop(columns=['score'])\n",
    "print(test_data.describe())\n",
    "nan_data_info = pd.DataFrame({'NaN Count': test_data.isna().sum(), 'Data Type': test_data.dtypes})\n",
    "print(nan_data_info)"
   ],
   "id": "52a8fa4735cb0e1",
   "outputs": [
    {
     "name": "stdout",
     "output_type": "stream",
     "text": [
      "            srch_id       site_id  visitor_location_country_id  \\\n",
      "count  4.959183e+06  4.959183e+06                 4.959183e+06   \n",
      "mean   1.504747e-06  8.979214e+00                 1.641250e+02   \n",
      "std    8.682007e-07  7.667722e+00                 6.158367e+01   \n",
      "min    0.000000e+00  0.000000e+00                 0.000000e+00   \n",
      "25%    7.522652e-07  4.000000e+00                 9.400000e+01   \n",
      "50%    1.508801e-06  4.000000e+00                 2.050000e+02   \n",
      "75%    2.257098e-06  1.300000e+01                 2.050000e+02   \n",
      "max    3.004943e-06  3.300000e+01                 2.160000e+02   \n",
      "\n",
      "       visitor_hist_starrating  visitor_hist_adr_usd  prop_country_id  \\\n",
      "count             4.959183e+06          4.959183e+06     4.959183e+06   \n",
      "mean              1.220584e-01          2.851837e-05     1.277441e+02   \n",
      "std               7.859750e-03          4.679312e-06     5.042443e+01   \n",
      "min               0.000000e+00          0.000000e+00     0.000000e+00   \n",
      "25%               1.222364e-01          2.829447e-05     7.500000e+01   \n",
      "50%               1.222364e-01          2.829447e-05     1.610000e+02   \n",
      "75%               1.222364e-01          2.829447e-05     1.610000e+02   \n",
      "max               2.000000e-01          5.105427e-04     1.700000e+02   \n",
      "\n",
      "            prop_id  prop_starrating  prop_review_score  prop_brand_bool  ...  \\\n",
      "count  4.959183e+06     4.959183e+06       4.959183e+06     4.959183e+06  ...   \n",
      "mean   6.440977e+04     1.273017e-01       1.510714e-01     6.339091e-01  ...   \n",
      "std    3.733153e+04     4.197431e-02       4.203501e-02     4.817348e-01  ...   \n",
      "min    0.000000e+00     0.000000e+00       0.000000e+00     0.000000e+00  ...   \n",
      "25%    3.217300e+04     1.200000e-01       1.400000e-01     0.000000e+00  ...   \n",
      "50%    6.398100e+04     1.200000e-01       1.600000e-01     1.000000e+00  ...   \n",
      "75%    9.666700e+04     1.600000e-01       1.800000e-01     1.000000e+00  ...   \n",
      "max    1.294370e+05     2.000000e-01       2.000000e-01     1.000000e+00  ...   \n",
      "\n",
      "       comp_avg_rate_std  comp_avg_rate_median  comp_avg_inv_mean  \\\n",
      "count       4.959183e+06          4.959183e+06       4.959183e+06   \n",
      "mean        4.999437e-01          3.045828e-01       3.219653e-01   \n",
      "std         4.999829e-02          4.602306e-01       6.148000e-02   \n",
      "min         0.000000e+00          0.000000e+00       1.343457e-01   \n",
      "25%         4.884481e-01          0.000000e+00       2.998970e-01   \n",
      "50%         4.884481e-01          0.000000e+00       2.998970e-01   \n",
      "75%         4.892633e-01          1.000000e+00       3.028032e-01   \n",
      "max         1.000000e+00          1.000000e+00       1.000000e+00   \n",
      "\n",
      "       comp_avg_inv_std  comp_avg_inv_median  comp_avg_rate_percent_diff_mean  \\\n",
      "count      4.959183e+06         4.959183e+06                     4.959183e+06   \n",
      "mean       4.901601e-01         1.789964e-01                     2.267910e-03   \n",
      "std        5.095722e-02         3.832522e-01                     1.603833e-03   \n",
      "min        0.000000e+00         0.000000e+00                     0.000000e+00   \n",
      "25%        4.823508e-01         0.000000e+00                     1.868046e-03   \n",
      "50%        4.823508e-01         0.000000e+00                     1.868046e-03   \n",
      "75%        4.823508e-01         0.000000e+00                     1.868046e-03   \n",
      "max        1.000000e+00         1.000000e+00                     1.079666e-02   \n",
      "\n",
      "       comp_avg_rate_percent_diff_std  comp_avg_rate_percent_diff_median  \\\n",
      "count                    4.959183e+06                       4.959183e+06   \n",
      "mean                     1.510286e-05                       2.573316e-02   \n",
      "std                      1.312066e-05                       2.257239e-03   \n",
      "min                      0.000000e+00                       0.000000e+00   \n",
      "25%                      1.194266e-05                       2.593494e-02   \n",
      "50%                      1.696514e-05                       2.593494e-02   \n",
      "75%                      1.696514e-05                       2.593494e-02   \n",
      "max                      1.551404e-04                       2.593494e-02   \n",
      "\n",
      "           lr_score  deepfm_score  \n",
      "count  4.959183e+06  4.959183e+06  \n",
      "mean   8.539156e-01  1.889018e-01  \n",
      "std    4.013967e-05  1.403183e-01  \n",
      "min    8.529628e-01  2.367979e-02  \n",
      "25%    8.538900e-01  9.498281e-02  \n",
      "50%    8.539189e-01  1.272759e-01  \n",
      "75%    8.539387e-01  2.320760e-01  \n",
      "max    8.542232e-01  8.359764e-01  \n",
      "\n",
      "[8 rows x 65 columns]\n",
      "                                   NaN Count Data Type\n",
      "srch_id                                    0   float64\n",
      "site_id                                    0     int64\n",
      "visitor_location_country_id                0     int64\n",
      "visitor_hist_starrating                    0   float64\n",
      "visitor_hist_adr_usd                       0   float64\n",
      "...                                      ...       ...\n",
      "comp_avg_rate_percent_diff_mean            0   float64\n",
      "comp_avg_rate_percent_diff_std             0   float64\n",
      "comp_avg_rate_percent_diff_median          0   float64\n",
      "lr_score                                   0   float64\n",
      "deepfm_score                               0   float64\n",
      "\n",
      "[65 rows x 2 columns]\n"
     ]
    }
   ],
   "execution_count": 8
  },
  {
   "metadata": {
    "ExecuteTime": {
     "end_time": "2024-05-16T01:34:27.466909Z",
     "start_time": "2024-05-16T01:34:27.342046Z"
    }
   },
   "cell_type": "code",
   "source": [
    "import joblib\n",
    "# test_set = test_data.drop(columns=['prop_id', 'site_id', 'random_bool', 'random_bool', 'srch_destination_id', 'visitor_location_country_id'])\n",
    "test_set = test_data\n",
    "model = joblib.load('models/lightgbm.pkl')"
   ],
   "id": "4d90f1515c95fde3",
   "outputs": [],
   "execution_count": 9
  },
  {
   "metadata": {
    "ExecuteTime": {
     "end_time": "2024-05-16T01:34:28.470575Z",
     "start_time": "2024-05-16T01:34:27.466909Z"
    }
   },
   "cell_type": "code",
   "source": [
    "qids = test_set.groupby(\"srch_id\")[\"srch_id\"].count().to_numpy()\n",
    "X = test_set.drop([\"srch_id\"], axis=1)\n",
    "print(X)"
   ],
   "id": "266c9a3768838fe5",
   "outputs": [
    {
     "name": "stdout",
     "output_type": "stream",
     "text": [
      "         site_id  visitor_location_country_id  visitor_hist_starrating  \\\n",
      "0             23                          202                 0.139662   \n",
      "1             23                          202                 0.122236   \n",
      "2             23                          202                 0.119165   \n",
      "3             23                          202                 0.139662   \n",
      "4             23                          202                 0.142733   \n",
      "...          ...                          ...                      ...   \n",
      "4959178       23                          202                 0.122236   \n",
      "4959179       23                          202                 0.122236   \n",
      "4959180       23                          202                 0.122236   \n",
      "4959181       23                          202                 0.122236   \n",
      "4959182       23                          202                 0.122236   \n",
      "\n",
      "         visitor_hist_adr_usd  prop_country_id  prop_id  prop_starrating  \\\n",
      "0                    0.000028              161     2923             0.12   \n",
      "1                    0.000028              161     5107             0.12   \n",
      "2                    0.000028              161    13025             0.08   \n",
      "3                    0.000028              161    20577             0.12   \n",
      "4                    0.000028              161    22222             0.12   \n",
      "...                       ...              ...      ...              ...   \n",
      "4959178              0.000028               84    29397             0.16   \n",
      "4959179              0.000028               84    31190             0.16   \n",
      "4959180              0.000028               84    32374             0.16   \n",
      "4959181              0.000028               84    86801             0.16   \n",
      "4959182              0.000028               84    91448             0.16   \n",
      "\n",
      "         prop_review_score  prop_brand_bool  prop_location_score1  ...  \\\n",
      "0                     0.18              1.0              0.060344  ...   \n",
      "1                     0.18              1.0              0.054187  ...   \n",
      "2                     0.14              1.0              0.055624  ...   \n",
      "3                     0.18              1.0              0.049261  ...   \n",
      "4                     0.18              1.0              0.060344  ...   \n",
      "...                    ...              ...                   ...  ...   \n",
      "4959178               0.14              0.0              0.050903  ...   \n",
      "4959179               0.12              1.0              0.045156  ...   \n",
      "4959180               0.00              0.0              0.036740  ...   \n",
      "4959181               0.00              0.0              0.060344  ...   \n",
      "4959182               0.18              1.0              0.042693  ...   \n",
      "\n",
      "         comp_avg_rate_std  comp_avg_rate_median  comp_avg_inv_mean  \\\n",
      "0                 0.488448                   0.0           0.299897   \n",
      "1                 0.488448                   0.0           0.299897   \n",
      "2                 0.488448                   0.0           0.299897   \n",
      "3                 0.488448                   0.0           0.299897   \n",
      "4                 0.488448                   0.0           0.299897   \n",
      "...                    ...                   ...                ...   \n",
      "4959178           0.569913                   1.0           0.482979   \n",
      "4959179           0.569913                   1.0           0.482979   \n",
      "4959180           0.569913                   1.0           0.482979   \n",
      "4959181           0.569913                   1.0           0.482979   \n",
      "4959182           0.569913                   1.0           0.482979   \n",
      "\n",
      "         comp_avg_inv_std  comp_avg_inv_median  \\\n",
      "0                0.482351                  0.0   \n",
      "1                0.482351                  0.0   \n",
      "2                0.482351                  0.0   \n",
      "3                0.482351                  0.0   \n",
      "4                0.482351                  0.0   \n",
      "...                   ...                  ...   \n",
      "4959178          0.520263                  0.0   \n",
      "4959179          0.520263                  0.0   \n",
      "4959180          0.520263                  0.0   \n",
      "4959181          0.520263                  0.0   \n",
      "4959182          0.520263                  0.0   \n",
      "\n",
      "         comp_avg_rate_percent_diff_mean  comp_avg_rate_percent_diff_std  \\\n",
      "0                               0.001868                        0.000017   \n",
      "1                               0.001868                        0.000017   \n",
      "2                               0.001868                        0.000017   \n",
      "3                               0.001868                        0.000017   \n",
      "4                               0.001868                        0.000017   \n",
      "...                                  ...                             ...   \n",
      "4959178                         0.001416                        0.000005   \n",
      "4959179                         0.001416                        0.000005   \n",
      "4959180                         0.001416                        0.000005   \n",
      "4959181                         0.001416                        0.000005   \n",
      "4959182                         0.001416                        0.000005   \n",
      "\n",
      "         comp_avg_rate_percent_diff_median  lr_score  deepfm_score  \n",
      "0                                 0.025935  0.853912      0.094606  \n",
      "1                                 0.025935  0.853919      0.100609  \n",
      "2                                 0.025935  0.853908      0.088059  \n",
      "3                                 0.025935  0.853915      0.091202  \n",
      "4                                 0.025935  0.853940      0.294670  \n",
      "...                                    ...       ...           ...  \n",
      "4959178                           0.025935  0.853944      0.073768  \n",
      "4959179                           0.025935  0.853997      0.469723  \n",
      "4959180                           0.025935  0.853933      0.075430  \n",
      "4959181                           0.025935  0.853920      0.076222  \n",
      "4959182                           0.025935  0.853945      0.068028  \n",
      "\n",
      "[4959183 rows x 64 columns]\n"
     ]
    }
   ],
   "execution_count": 10
  },
  {
   "metadata": {
    "ExecuteTime": {
     "end_time": "2024-05-16T01:34:49.803269Z",
     "start_time": "2024-05-16T01:34:28.470575Z"
    }
   },
   "cell_type": "code",
   "source": [
    "output = model.predict(X)\n",
    "print(output)"
   ],
   "id": "ce13ae29f2d6e68a",
   "outputs": [
    {
     "name": "stdout",
     "output_type": "stream",
     "text": [
      "[ 0.67690453  0.81633603  0.78399558 ... -0.04064394 -0.06341746\n",
      "  0.03369807]\n"
     ]
    }
   ],
   "execution_count": 11
  },
  {
   "metadata": {
    "ExecuteTime": {
     "end_time": "2024-05-16T01:34:49.928264Z",
     "start_time": "2024-05-16T01:34:49.803269Z"
    }
   },
   "cell_type": "code",
   "source": [
    "result = test_data[['srch_id', 'prop_id']]\n",
    "result['pred'] = output\n",
    "print(result)"
   ],
   "id": "9bde3c683288e6e",
   "outputs": [
    {
     "name": "stdout",
     "output_type": "stream",
     "text": [
      "          srch_id  prop_id      pred\n",
      "0        0.000000     2923  0.676905\n",
      "1        0.000000     5107  0.816336\n",
      "2        0.000000    13025  0.783996\n",
      "3        0.000000    20577  0.857297\n",
      "4        0.000000    22222  1.109803\n",
      "...           ...      ...       ...\n",
      "4959178  0.000003    29397  0.175627\n",
      "4959179  0.000003    31190  0.260187\n",
      "4959180  0.000003    32374 -0.040644\n",
      "4959181  0.000003    86801 -0.063417\n",
      "4959182  0.000003    91448  0.033698\n",
      "\n",
      "[4959183 rows x 3 columns]\n"
     ]
    },
    {
     "name": "stderr",
     "output_type": "stream",
     "text": [
      "C:\\Users\\china\\AppData\\Local\\Temp\\ipykernel_14724\\4200473951.py:2: SettingWithCopyWarning: \n",
      "A value is trying to be set on a copy of a slice from a DataFrame.\n",
      "Try using .loc[row_indexer,col_indexer] = value instead\n",
      "\n",
      "See the caveats in the documentation: https://pandas.pydata.org/pandas-docs/stable/user_guide/indexing.html#returning-a-view-versus-a-copy\n",
      "  result['pred'] = output\n"
     ]
    }
   ],
   "execution_count": 12
  },
  {
   "metadata": {
    "ExecuteTime": {
     "end_time": "2024-05-16T01:35:15.719973Z",
     "start_time": "2024-05-16T01:34:49.928264Z"
    }
   },
   "cell_type": "code",
   "source": [
    "sorted_df = result.groupby('srch_id').apply(lambda x: x.sort_values(by='pred', ascending=False))\n",
    "sorted_df.reset_index(drop=True, inplace=True)"
   ],
   "id": "c7957a7935787883",
   "outputs": [
    {
     "name": "stderr",
     "output_type": "stream",
     "text": [
      "C:\\Users\\china\\AppData\\Local\\Temp\\ipykernel_14724\\3395379698.py:1: DeprecationWarning: DataFrameGroupBy.apply operated on the grouping columns. This behavior is deprecated, and in a future version of pandas the grouping columns will be excluded from the operation. Either pass `include_groups=False` to exclude the groupings or explicitly select the grouping columns after groupby to silence this warning.\n",
      "  sorted_df = result.groupby('srch_id').apply(lambda x: x.sort_values(by='pred', ascending=False))\n"
     ]
    }
   ],
   "execution_count": 13
  },
  {
   "metadata": {
    "ExecuteTime": {
     "end_time": "2024-05-16T01:35:15.735561Z",
     "start_time": "2024-05-16T01:35:15.719973Z"
    }
   },
   "cell_type": "code",
   "source": "print(sorted_df)",
   "id": "225df44ac4c39193",
   "outputs": [
    {
     "name": "stdout",
     "output_type": "stream",
     "text": [
      "          srch_id  prop_id      pred\n",
      "0        0.000000   113676  1.238137\n",
      "1        0.000000    87072  1.238137\n",
      "2        0.000000    67719  1.238137\n",
      "3        0.000000    58701  1.224185\n",
      "4        0.000000    68072  1.127538\n",
      "...           ...      ...       ...\n",
      "4959178  0.000003    29397  0.175627\n",
      "4959179  0.000003    26663  0.160193\n",
      "4959180  0.000003    91448  0.033698\n",
      "4959181  0.000003    32374 -0.040644\n",
      "4959182  0.000003    86801 -0.063417\n",
      "\n",
      "[4959183 rows x 3 columns]\n"
     ]
    }
   ],
   "execution_count": 14
  },
  {
   "metadata": {
    "ExecuteTime": {
     "end_time": "2024-05-16T01:35:17.348190Z",
     "start_time": "2024-05-16T01:35:15.735561Z"
    }
   },
   "cell_type": "code",
   "source": [
    "final_res = sorted_df[['srch_id', 'prop_id']]\n",
    "final_res = final_res.astype(int)\n",
    "print(final_res)\n",
    "final_res.to_csv('./data/final_res.csv', index=False)"
   ],
   "id": "4d1011c2c5582ce2",
   "outputs": [
    {
     "name": "stdout",
     "output_type": "stream",
     "text": [
      "         srch_id  prop_id\n",
      "0              0   113676\n",
      "1              0    87072\n",
      "2              0    67719\n",
      "3              0    58701\n",
      "4              0    68072\n",
      "...          ...      ...\n",
      "4959178        0    29397\n",
      "4959179        0    26663\n",
      "4959180        0    91448\n",
      "4959181        0    32374\n",
      "4959182        0    86801\n",
      "\n",
      "[4959183 rows x 2 columns]\n"
     ]
    }
   ],
   "execution_count": 15
  },
  {
   "metadata": {},
   "cell_type": "code",
   "source": "",
   "id": "3e4165b8f69f0eeb",
   "outputs": [],
   "execution_count": null
  }
 ],
 "metadata": {
  "kernelspec": {
   "display_name": "Python 3",
   "language": "python",
   "name": "python3"
  },
  "language_info": {
   "codemirror_mode": {
    "name": "ipython",
    "version": 2
   },
   "file_extension": ".py",
   "mimetype": "text/x-python",
   "name": "python",
   "nbconvert_exporter": "python",
   "pygments_lexer": "ipython2",
   "version": "2.7.6"
  }
 },
 "nbformat": 4,
 "nbformat_minor": 5
}
